{
 "cells": [
  {
   "cell_type": "markdown",
   "metadata": {},
   "source": [
    "# Biostat M280 Homework 2\n",
    "\n",
    "**Due May 11 @ 11:59PM**"
   ]
  },
  {
   "cell_type": "markdown",
   "metadata": {},
   "source": [
    "## Q1. Nonnegative Matrix Factorization\n",
    "\n",
    "Nonnegative matrix factorization (NNMF) was introduced by [Lee and Seung (1999)](https://www.nature.com/articles/44565) as an analog of principal components and vector quantization with applications in data compression and clustering. In this homework we consider algorithms for fitting NNMF and (optionally) high performance computing using graphical processing units (GPUs).\n",
    "\n",
    "<img src=\"./nnmf.png\" width=\"500\" align=\"center\"/>\n",
    "\n",
    "In mathematical terms, one approximates a data matrix $\\mathbf{X} \\in \\mathbb{R}^{m \\times n}$ with nonnegative entries $x_{ij}$ by a product of two low-rank matrices $\\mathbf{V} \\in \\mathbb{R}^{m \\times r}$ and $\\mathbf{W} \\in \\mathbb{R}^{r \\times n}$ with nonnegative entries $v_{ik}$ and $w_{kj}$. Consider minimization of the squared Frobenius norm\n",
    "$$\n",
    "\tL(\\mathbf{V}, \\mathbf{W}) = \\|\\mathbf{X} - \\mathbf{V} \\mathbf{W}\\|_{\\text{F}}^2 = \\sum_i \\sum_j \\left(x_{ij} - \\sum_k v_{ik} w_{kj} \\right)^2, \\quad v_{ik} \\ge 0, w_{kj} \\ge 0,\n",
    "$$\n",
    "which should lead to a good factorization. Later in the course we will learn how to derive a majorization-minimization (MM) algorithm with iterative updates\n",
    "$$\n",
    "\tv_{ik}^{(t+1)} = v_{ik}^{(t)} \\frac{\\sum_j x_{ij} w_{kj}^{(t)}}{\\sum_j b_{ij}^{(t)} w_{kj}^{(t)}}, \\quad \\text{where } b_{ij}^{(t)} = \\sum_k v_{ik}^{(t)} w_{kj}^{(t)},\n",
    "$$\n",
    "$$\n",
    "\tw_{kj}^{(t+1)} = w_{kj}^{(t)} \\frac{\\sum_i x_{ij} v_{ik}^{(t+1)}}{\\sum_i b_{ij}^{(t+1/2)} v_{ik}^{(t+1)}}, \\quad \\text{where } b_{ij}^{(t+1/2)} = \\sum_k v_{ik}^{(t+1)} w_{kj}^{(t)}\n",
    "$$\n",
    "that drive the objective $L^{(t)} = L(\\mathbf{V}^{(t)}, \\mathbf{W}^{(t)})$ downhill. Superscript $t$ indicates iteration number. Efficiency (both speed and memory) will be the most important criterion when grading this problem.\n",
    "\n",
    "\n",
    "1. Implement the algorithm with arguments: $\\mathbf{X}$ (data, each row is a vectorized image), rank $r$, convergence tolerance, and optional starting point.\n",
    "```julia\n",
    "function nnmf(\n",
    "    X::Matrix{T},\n",
    "    r::Integer;\n",
    "    maxiter::Integer=1000, \n",
    "    tol::Number=1e-4,\n",
    "    V::Matrix{T}=rand(T, size(X, 1), r),\n",
    "    W::Matrix{T}=rand(T, r, size(X, 2))\n",
    "    ) where T <: AbstractFloat\n",
    "    # implementation\n",
    "    # Output\n",
    "    return V, W\n",
    "end\n",
    "```\n",
    "\n",
    "0. Database 1 from the [MIT Center for Biological and Computational Learning (CBCL)](http://cbcl.mit.edu) reduces to a matrix $\\mathbf{X}$ containing $m = 2,429$ gray-scale face images with $n = 19 \\times 19 = 361$ pixels per face. Each image (row) is scaled to have mean and standard deviation 0.25.  \n",
    "Read in the [`nnmf-2429-by-361-face.txt`](http://hua-zhou.github.io/teaching/biostatm280-2018spring/hw/hw2/nnmf-2429-by-361-face.txt) file, e.g., using [`readdlm()`](https://docs.julialang.org/en/stable/stdlib/io-network/#Base.DataFmt.readdlm-Tuple{Any,Char,Type,Char}) function, and display a couple sample images, e.g., using [ImageView.jl](https://github.com/JuliaImages/ImageView.jl) package.\n",
    "\n",
    "0. Report the run times, using `@time`, of your function for fitting NNMF on the MIT CBCL face data set at ranks $r=10, 20, 30, 40, 50$. For ease of comparison (and grading), please start your algorithm with the provided $\\mathbf{V}^{(0)}$ (first $r$ columns of [`V0.txt`](http://hua-zhou.github.io/teaching/biostatm280-2018spring/hw/hw2/V0.txt)) and $\\mathbf{W}^{(0)}$ (first $r$ rows of [`W0.txt`](http://hua-zhou.github.io/teaching/biostatm280-2018spring/hw/hw2/W0.txt)) and stopping criterion\n",
    "$$\n",
    "\t\\frac{|L^{(t+1)} - L^{(t)}|}{|L^{(t)}| + 1} \\le 10^{-4}.\n",
    "$$\n",
    "\n",
    "0. Choose an $r \\in \\{10, 20, 30, 40, 50\\}$ and start your algorithm from a different $\\mathbf{V}^{(0)}$ and $\\mathbf{W}^{(0)}$. Do you obtain the same objective value and $(\\mathbf{V}, \\mathbf{W})$? Explain what you find.\n",
    "\n",
    "0. For the same $r$, start your algorithm from $v_{ik}^{(0)} = w_{kj}^{(0)} = 1$ for all $i,j,k$. Do you obtain the same objective value and $(\\mathbf{V}, \\mathbf{W})$? Explain what you find.\n",
    "\n",
    "0. Plot the basis images (rows of $\\mathbf{W}$) at rank $r=50$. What do you find?\n",
    "\n",
    "0. (Optional) Investigate the GPU capabilities of Julia. Report the speed gain of your GPU code over CPU code at ranks $r=10, 20, 30, 40, 50$. Make sure to use the same starting point as in part 2."
   ]
  },
  {
   "cell_type": "markdown",
   "metadata": {},
   "source": [
    "### Answer to Q1(2)"
   ]
  },
  {
   "cell_type": "code",
   "execution_count": 1,
   "metadata": {
    "collapsed": false
   },
   "outputs": [],
   "source": [
    "# Load dataset\n",
    "data_loc = \"nnmf-2429-by-361-face.txt\"\n",
    "X = readdlm(data_loc);"
   ]
  },
  {
   "cell_type": "code",
   "execution_count": 2,
   "metadata": {
    "collapsed": false
   },
   "outputs": [
    {
     "name": "stderr",
     "output_type": "stream",
     "text": [
      "\u001b[1m\u001b[36mINFO: \u001b[39m\u001b[22m\u001b[36mPackage ImageView is already installed\n",
      "\u001b[39m\u001b[1m\u001b[36mINFO: \u001b[39m\u001b[22m\u001b[36mMETADATA is out-of-date — you may not have the latest version of ImageView\n",
      "\u001b[39m\u001b[1m\u001b[36mINFO: \u001b[39m\u001b[22m\u001b[36mUse `Pkg.update()` to get the latest versions of your packages\n",
      "\u001b[39m\u001b[1m\u001b[36mINFO: \u001b[39m\u001b[22m\u001b[36mPackage Distances is already installed\n",
      "\u001b[39m\u001b[1m\u001b[36mINFO: \u001b[39m\u001b[22m\u001b[36mMETADATA is out-of-date — you may not have the latest version of Distances\n",
      "\u001b[39m\u001b[1m\u001b[36mINFO: \u001b[39m\u001b[22m\u001b[36mUse `Pkg.update()` to get the latest versions of your packages\n",
      "\u001b[39m"
     ]
    }
   ],
   "source": [
    "Pkg.add(\"ImageView\")\n",
    "Pkg.add(\"Distances\")\n",
    "using ImageView, Images\n",
    "using Distances\n",
    "using Plots"
   ]
  },
  {
   "cell_type": "code",
   "execution_count": 5,
   "metadata": {
    "collapsed": false
   },
   "outputs": [
    {
     "data": {
      "image/png": "[encoded data removed]",
      "text/plain": [
       "19×19 Array{Gray{Float64},2}:\n",
       " Gray{Float64}(0.14815)   …  Gray{Float64}(0.0)      \n",
       " Gray{Float64}(0.018294)     Gray{Float64}(0.027569) \n",
       " Gray{Float64}(0.027569)     Gray{Float64}(0.0)      \n",
       " Gray{Float64}(0.0)          Gray{Float64}(0.0090181)\n",
       " Gray{Float64}(0.083222)     Gray{Float64}(0.036844) \n",
       " Gray{Float64}(0.10177)   …  Gray{Float64}(0.064671) \n",
       " Gray{Float64}(0.38004)      Gray{Float64}(0.13887)  \n",
       " Gray{Float64}(0.51917)      Gray{Float64}(0.30583)  \n",
       " Gray{Float64}(0.43569)      Gray{Float64}(0.37076)  \n",
       " Gray{Float64}(0.38004)      Gray{Float64}(0.37076)  \n",
       " Gray{Float64}(0.29656)   …  Gray{Float64}(0.26873)  \n",
       " Gray{Float64}(0.25946)      Gray{Float64}(0.28728)  \n",
       " Gray{Float64}(0.31511)      Gray{Float64}(0.28728)  \n",
       " Gray{Float64}(0.2038)       Gray{Float64}(0.19453)  \n",
       " Gray{Float64}(0.083222)     Gray{Float64}(0.073946) \n",
       " Gray{Float64}(0.018294)  …  Gray{Float64}(0.0)      \n",
       " Gray{Float64}(0.064671)     Gray{Float64}(0.0)      \n",
       " Gray{Float64}(0.018294)     Gray{Float64}(0.0)      \n",
       " Gray{Float64}(0.0)          Gray{Float64}(0.0)      "
      ]
     },
     "execution_count": 5,
     "metadata": {},
     "output_type": "execute_result"
    }
   ],
   "source": [
    "# Display the image\n",
    "# Reshape the row vector to an 19*19 image\n",
    "img = reshape(X[1, :], 19, 19);\n",
    "# Display the image by converting the to Grayscale image\n",
    "img = colorview(Gray, img)  \n",
    "# convert(Array, img)"
   ]
  },
  {
   "cell_type": "markdown",
   "metadata": {},
   "source": [
    "### Answer to Q1(1)"
   ]
  },
  {
   "cell_type": "code",
   "execution_count": 6,
   "metadata": {
    "collapsed": false
   },
   "outputs": [
    {
     "data": {
      "text/plain": [
       "nnmf (generic function with 1 method)"
      ]
     },
     "execution_count": 6,
     "metadata": {},
     "output_type": "execute_result"
    }
   ],
   "source": [
    "# Define and implement NNMF algorithm\n",
    "function nnmf(\n",
    "    X::Matrix, \n",
    "    r::Int;\n",
    "    maxiter::Int=1000, \n",
    "    tol::eltype(X)=1e-4,\n",
    "    V::Matrix{eltype(X)}=rand(size(X, 1), r),\n",
    "    W::Matrix{eltype(X)}=rand(r, size(X, 2))\n",
    " )\n",
    "    pre_err = 0.0\n",
    "    err_change = 1000.0\n",
    "    t = Int(0)\n",
    "    while err_change > tol\n",
    "        if t > maxiter\n",
    "            return V, W\n",
    "        end\n",
    "        # B = *(V, W)\n",
    "        V = V .* (X * W') ./ (V * W * W')\n",
    "        B = V * W\n",
    "        W = W .* (V' * X) ./ (V' * B)\n",
    "        t = t + 1;\n",
    "        err = sqeuclidean(X, B)\n",
    "        err_change = abs(err - pre_err) / (pre_err + 1)\n",
    "        pre_err = err\n",
    "       \n",
    "        # println(err_change)\n",
    "    end\n",
    "    return V, W, pre_err\n",
    " # implementation\n",
    "end"
   ]
  },
  {
   "cell_type": "markdown",
   "metadata": {},
   "source": [
    "### Answer to Q1(3)"
   ]
  },
  {
   "cell_type": "code",
   "execution_count": 7,
   "metadata": {
    "collapsed": false
   },
   "outputs": [],
   "source": [
    "v_data_loc = \"V0.txt\"\n",
    "w_data_loc = \"W0.txt\"\n",
    "V_init = readdlm(v_data_loc);\n",
    "W_init = readdlm(w_data_loc);"
   ]
  },
  {
   "cell_type": "code",
   "execution_count": 24,
   "metadata": {
    "collapsed": false
   },
   "outputs": [
    {
     "name": "stdout",
     "output_type": "stream",
     "text": [
      "  5.991769 seconds (4.80 k allocations: 3.279 GiB, 11.46% gc time)\n"
     ]
    }
   ],
   "source": [
    "# Report time r = 10\n",
    "r = 10\n",
    "@time V, W, pre_err = nnmf(X, r, V = V_init[:, 1:r], W = W_init[1:r, :]);"
   ]
  },
  {
   "cell_type": "code",
   "execution_count": 25,
   "metadata": {
    "collapsed": false
   },
   "outputs": [
    {
     "name": "stdout",
     "output_type": "stream",
     "text": [
      " 10.966193 seconds (7.90 k allocations: 5.662 GiB, 11.23% gc time)\n"
     ]
    }
   ],
   "source": [
    "# Report time r = 20\n",
    "r = 20\n",
    "@time V, W, pre_err = nnmf(X, r, V = V_init[:, 1:r], W = W_init[1:r, :]);"
   ]
  },
  {
   "cell_type": "code",
   "execution_count": 26,
   "metadata": {
    "collapsed": false
   },
   "outputs": [
    {
     "name": "stdout",
     "output_type": "stream",
     "text": [
      " 15.076644 seconds (9.66 k allocations: 7.240 GiB, 9.56% gc time)\n"
     ]
    }
   ],
   "source": [
    "# Report time r = 30\n",
    "r = 30\n",
    "@time V, W, pre_err = nnmf(X, r, V = V_init[:, 1:r], W = W_init[1:r, :]);"
   ]
  },
  {
   "cell_type": "code",
   "execution_count": 27,
   "metadata": {
    "collapsed": false
   },
   "outputs": [
    {
     "name": "stdout",
     "output_type": "stream",
     "text": [
      " 19.168610 seconds (11.64 k allocations: 9.105 GiB, 9.03% gc time)\n"
     ]
    }
   ],
   "source": [
    "# Report time r = 40\n",
    "r = 40\n",
    "@time V, W, pre_err = nnmf(X, r, V = V_init[:, 1:r], W = W_init[1:r, :]);"
   ]
  },
  {
   "cell_type": "code",
   "execution_count": 28,
   "metadata": {
    "collapsed": false
   },
   "outputs": [
    {
     "name": "stdout",
     "output_type": "stream",
     "text": [
      " 26.059584 seconds (13.98 k allocations: 11.392 GiB, 7.91% gc time)\n"
     ]
    }
   ],
   "source": [
    "# Report time r = 50\n",
    "r = 50\n",
    "@time V, W, pre_err = nnmf(X, r, V = V_init[:, 1:r], W = W_init[1:r, :]);"
   ]
  },
  {
   "cell_type": "markdown",
   "metadata": {},
   "source": [
    "### Answer to Q1(4)  \n",
    "\n",
    "I select r = 20, and run the algorithm with predefined V, W or random V, W.  \n",
    "\n",
    "The following shows that different start points can lead to different solutions.   \n",
    "The objective function may not be convex, and could have many different local minimums. The iterative algorithm can converge at different local minimums, which cause different solutions. "
   ]
  },
  {
   "cell_type": "code",
   "execution_count": 44,
   "metadata": {
    "collapsed": false
   },
   "outputs": [
    {
     "name": "stdout",
     "output_type": "stream",
     "text": [
      "false\n",
      "false\n",
      "false\n"
     ]
    }
   ],
   "source": [
    "# Select r = 20, first get result using pre-defined V, W\n",
    "r = 20\n",
    "srand(1234)\n",
    "V1, W1, pre_err1 = nnmf(X, r, V = V_init[:, 1:r], W = W_init[1:r, :]);\n",
    "\n",
    "V2, W2, pre_err2 = \n",
    "    nnmf(X, r, V = rand(size(X, 1), r), W = rand(r, size(X, 2)));\n",
    "println(pre_err1 == pre_err2)\n",
    "println(V1 == V2)\n",
    "println(W1 == W2)"
   ]
  },
  {
   "cell_type": "markdown",
   "metadata": {},
   "source": [
    "### Answer to Q1(5)  \n",
    "\n",
    "The following shows that if the start point is same, the algorithm will arrive at the same local minimum. "
   ]
  },
  {
   "cell_type": "code",
   "execution_count": 47,
   "metadata": {
    "collapsed": false
   },
   "outputs": [
    {
     "name": "stdout",
     "output_type": "stream",
     "text": [
      "true\n",
      "true\n",
      "true\n"
     ]
    }
   ],
   "source": [
    "V3, W3, pre_err3 = \n",
    "    nnmf(X, r, V = ones(size(X, 1), r), W = ones(r, size(X, 2)));\n",
    "V4, W4, pre_err4 = \n",
    "    nnmf(X, r, V = ones(size(X, 1), r), W = ones(r, size(X, 2)));\n",
    "println(pre_err3 == pre_err4)\n",
    "println(V3 == V4)\n",
    "println(W3 == W4)"
   ]
  },
  {
   "cell_type": "markdown",
   "metadata": {},
   "source": [
    "### Answer to Q1(6)  \n",
    "\n",
    "The following shows basis images from rows of W. We can see each basis image captures different compoments of a face: eyes, mouth, etc. "
   ]
  },
  {
   "cell_type": "code",
   "execution_count": 33,
   "metadata": {
    "collapsed": false
   },
   "outputs": [],
   "source": [
    "# r = 50\n",
    "r = 50\n",
    "V, W, pre_err = nnmf(X, r, V = V_init[:, 1:r], W = W_init[1:r, :]);"
   ]
  },
  {
   "cell_type": "code",
   "execution_count": 31,
   "metadata": {
    "collapsed": false
   },
   "outputs": [],
   "source": [
    "large_im = zeros(190, 95)\n",
    "num_cols = 5\n",
    "num_rows = 10\n",
    "counter = 1\n",
    "for i = 1: num_rows\n",
    "    for j = 1: num_cols\n",
    "        large_im[(i - 1) * 19 + 1: i * 19, (j - 1) * 19 + 1: j * 19] = reshape(W[counter, :], 19, 19)\n",
    "        counter += 1\n",
    "    end\n",
    "end\n",
    "\n"
   ]
  },
  {
   "cell_type": "code",
   "execution_count": 32,
   "metadata": {
    "collapsed": false
   },
   "outputs": [
    {
     "data": {
      "image/png": "[encoded data removed]",
      "text/plain": [
       "190×95 Array{Gray{Float64},2}:\n",
       " Gray{Float64}(1.98839e-64)  …  Gray{Float64}(8.58516e-52)\n",
       " Gray{Float64}(1.24767e-53)     Gray{Float64}(1.56411e-43)\n",
       " Gray{Float64}(4.23683e-37)     Gray{Float64}(5.2133e-37) \n",
       " Gray{Float64}(4.18452e-53)     Gray{Float64}(2.6886e-34) \n",
       " Gray{Float64}(1.36685e-60)     Gray{Float64}(6.04518e-51)\n",
       " Gray{Float64}(3.68341e-42)  …  Gray{Float64}(3.4646e-36) \n",
       " Gray{Float64}(1.44121e-18)     Gray{Float64}(2.79333e-16)\n",
       " Gray{Float64}(8.26647e-6)      Gray{Float64}(0.00205396) \n",
       " Gray{Float64}(0.368834)        Gray{Float64}(0.549894)   \n",
       " Gray{Float64}(0.730839)        Gray{Float64}(1.30626)    \n",
       " Gray{Float64}(0.706065)     …  Gray{Float64}(0.873984)   \n",
       " Gray{Float64}(0.610767)        Gray{Float64}(0.402087)   \n",
       " Gray{Float64}(0.294331)        Gray{Float64}(0.00514615) \n",
       " ⋮                           ⋱                            \n",
       " Gray{Float64}(6.5047e-8)       Gray{Float64}(9.74163e-7) \n",
       " Gray{Float64}(6.99804e-5)      Gray{Float64}(2.67775e-5) \n",
       " Gray{Float64}(0.294899)     …  Gray{Float64}(0.197256)   \n",
       " Gray{Float64}(1.16882)         Gray{Float64}(0.64495)    \n",
       " Gray{Float64}(1.31713)         Gray{Float64}(0.749756)   \n",
       " Gray{Float64}(0.837014)        Gray{Float64}(0.174767)   \n",
       " Gray{Float64}(0.182923)        Gray{Float64}(1.97319e-9) \n",
       " Gray{Float64}(1.95535e-7)   …  Gray{Float64}(1.56859e-14)\n",
       " Gray{Float64}(9.09749e-18)     Gray{Float64}(4.59344e-15)\n",
       " Gray{Float64}(7.74405e-25)     Gray{Float64}(1.9442e-10) \n",
       " Gray{Float64}(1.2014e-14)      Gray{Float64}(2.36259e-7) \n",
       " Gray{Float64}(2.04415e-9)      Gray{Float64}(1.30468e-11)"
      ]
     },
     "execution_count": 32,
     "metadata": {},
     "output_type": "execute_result"
    }
   ],
   "source": [
    "colorview(Gray, large_im)"
   ]
  },
  {
   "cell_type": "code",
   "execution_count": 27,
   "metadata": {
    "collapsed": false
   },
   "outputs": [],
   "source": [
    "grid, frames, canvases = canvasgrid((10, 5));\n",
    "#colorview(Gray, large_im)  \n",
    "counter = 1\n",
    "for i = 1: num_rows\n",
    "    for j = 1: num_cols\n",
    "        imshow(canvases[i, j], colorview(Gray, reshape(W[counter, :], 19, 19)))\n",
    "        counter += 1\n",
    "    end\n",
    "end"
   ]
  },
  {
   "cell_type": "code",
   "execution_count": 28,
   "metadata": {
    "collapsed": false
   },
   "outputs": [
    {
     "data": {
      "text/plain": [
       "Gtk.GtkWindowLeaf(name=\"\", parent, width-request=-1, height-request=-1, visible=TRUE, sensitive=TRUE, app-paintable=FALSE, can-focus=FALSE, has-focus=FALSE, is-focus=FALSE, focus-on-click=TRUE, can-default=FALSE, has-default=FALSE, receives-default=FALSE, composite-child=FALSE, style, events=0, no-show-all=FALSE, has-tooltip=FALSE, tooltip-markup=NULL, tooltip-text=NULL, window, opacity=1.000000, double-buffered, halign=GTK_ALIGN_FILL, valign=GTK_ALIGN_FILL, margin-left, margin-right, margin-start=0, margin-end=0, margin-top=0, margin-bottom=0, margin=0, hexpand=FALSE, vexpand=FALSE, hexpand-set=FALSE, vexpand-set=FALSE, expand=FALSE, scale-factor=2, border-width=0, resize-mode, child, type=GTK_WINDOW_TOPLEVEL, title=NULL, role=NULL, resizable=TRUE, modal=FALSE, window-position=GTK_WIN_POS_NONE, default-width=-1, default-height=-1, destroy-with-parent=FALSE, hide-titlebar-when-maximized=FALSE, icon, icon-name=NULL, screen, type-hint=GDK_WINDOW_TYPE_HINT_NORMAL, skip-taskbar-hint=FALSE, skip-pager-hint=FALSE, urgency-hint=FALSE, accept-focus=TRUE, focus-on-map=TRUE, decorated=TRUE, deletable=TRUE, gravity=GDK_GRAVITY_NORTH_WEST, transient-for, attached-to, has-resize-grip, resize-grip-visible, application, is-active=FALSE, has-toplevel-focus=FALSE, startup-id, mnemonics-visible=FALSE, focus-visible=FALSE, is-maximized=FALSE)"
      ]
     },
     "execution_count": 28,
     "metadata": {},
     "output_type": "execute_result"
    }
   ],
   "source": [
    "using Gtk.ShortNames\n",
    "win = Window(grid)\n",
    "showall(win)"
   ]
  },
  {
   "cell_type": "markdown",
   "metadata": {},
   "source": [
    "## Q2. Linear Mixed Models\n",
    "\n",
    "Consider a linear mixed effects model\n",
    "$$\n",
    "\ty_i = \\mathbf{x}_i^T \\beta + \\mathbf{z}_i^T \\gamma + \\epsilon_i, \\quad i=1,\\ldots,n,\n",
    "$$\n",
    "where $\\epsilon_i$ are independent normal errors $N(0,\\sigma_0^2)$, $\\beta \\in \\mathbb{R}^p$ are fixed effects, and $\\gamma \\in \\mathbb{R}^q$ are random effects assumed to be $N(\\mathbf{0}_q, \\sigma_1^2 \\mathbf{I}_q$) independent of $\\epsilon_i$. \n",
    "\n",
    "0. Show that \n",
    "$$\n",
    "    \\mathbf{y} \\sim N \\left( \\mathbf{X} \\beta, \\sigma_0^2 \\mathbf{I}_n + \\sigma_1^2 \\mathbf{Z} \\mathbf{Z}^T \\right),\n",
    "$$\n",
    "where $\\mathbf{y} = (y_1, \\ldots, y_n)^T \\in \\mathbb{R}^n$, $\\mathbf{X} = (\\mathbf{x}_1, \\ldots, \\mathbf{x}_n)^T \\in \\mathbb{R}^{n \\times p}$, and $\\mathbf{Z} = (\\mathbf{z}_1, \\ldots, \\mathbf{z}_n)^T \\in \\mathbb{R}^{n \\times q}$. \n",
    "\n",
    "0. Write a function, with interface \n",
    "    ```julia\n",
    "    logpdf_mvn(y::Vector, Z::Matrix, σ0::Number, σ1::Number),\n",
    "    ```\n",
    "that evaluates the log-density of a multivariate normal with mean $\\mathbf{0}$ and covariance $\\sigma_0^2 \\mathbf{I} + \\sigma_1^2 \\mathbf{Z} \\mathbf{Z}^T$ at $\\mathbf{y}$. Make your code efficient in the $n \\gg q$ case. \n",
    "\n",
    "0. Compare your result (both accuracy and timing) to the [Distributions.jl](http://distributionsjl.readthedocs.io/en/latest/multivariate.html#multivariate-normal-distribution) package using following data.  \n",
    "    ```julia\n",
    "    using BenchmarkTools, Distributions\n",
    "\n",
    "    srand(280)\n",
    "    n, q = 2000, 10\n",
    "    Z = randn(n, q)\n",
    "    σ0, σ1 = 0.5, 2.0\n",
    "    Σ = σ1^2 * Z * Z.' + σ0^2 * I\n",
    "    mvn = MvNormal(Σ) # MVN(0, Σ)\n",
    "    y = rand(mvn) # generate one instance from MNV(0, Σ)\n",
    "\n",
    "    # check you answer matches that from Distributions.jl\n",
    "    @show logpdf_mvn(y, Z, σ0, σ1)\n",
    "    @show logpdf(mvn, y)\n",
    "\n",
    "    # benchmark\n",
    "    @benchmark logpdf_mvn(y, Z, σ0, σ1)\n",
    "    @benchmark logpdf(mvn, y)\n",
    "    ```"
   ]
  },
  {
   "cell_type": "markdown",
   "metadata": {},
   "source": [
    "### Answer to Q2(1)  \n",
    "\n",
    "The function can be proved using the characteristic function.   \n",
    "\n",
    "Since $\\mathbf{\\epsilon} \\sim N(0,\\sigma_0^2)$ and $\\mathbfgamma \\sim N(\\mathbf{0}_q, \\sigma_1^2 \\mathbf{I}_q$)"
   ]
  },
  {
   "cell_type": "code",
   "execution_count": 54,
   "metadata": {
    "collapsed": false
   },
   "outputs": [
    {
     "data": {
      "text/plain": [
       "logpdf_mvn (generic function with 1 method)"
      ]
     },
     "execution_count": 54,
     "metadata": {},
     "output_type": "execute_result"
    }
   ],
   "source": [
    "function logpdf_mvn(y::Vector, Z::Matrix, σ0::Number, σ1::Number)\n",
    "    # compute convariance matrix\n",
    "    Σ = σ1^2 * Z * Z.' + σ0^2 * I\n",
    "    n = length(y)\n",
    "    Σchol = cholfact(Σ)\n",
    "    -(n//2) * log(2π) - (1//2) * logdet(Σchol) - (1//2) * sum(abs2, Σchol[:L] \\ y)\n",
    "    \n",
    "end\n"
   ]
  },
  {
   "cell_type": "code",
   "execution_count": 55,
   "metadata": {
    "collapsed": false
   },
   "outputs": [
    {
     "name": "stdout",
     "output_type": "stream",
     "text": [
      "logpdf_mvn(y, Z, σ0, σ1) = -1571.5736734654163\n",
      "logpdf(mvn, y) = -1571.573673465417\n"
     ]
    },
    {
     "data": {
      "text/plain": [
       "-1571.573673465417"
      ]
     },
     "execution_count": 55,
     "metadata": {},
     "output_type": "execute_result"
    }
   ],
   "source": [
    "using BenchmarkTools, Distributions\n",
    "\n",
    "srand(280)\n",
    "n, q = 2000, 10\n",
    "Z = randn(n, q)\n",
    "σ0, σ1 = 0.5, 2.0\n",
    "Σ = σ1^2 * Z * Z.' + σ0^2 * I\n",
    "mvn = MvNormal(Σ) # MVN(0, Σ)\n",
    "y = rand(mvn) # generate one instance from MNV(0, Σ)\n",
    "\n",
    "# check you answer matches that from Distributions.jl\n",
    "@show logpdf_mvn(y, Z, σ0, σ1)\n",
    "@show logpdf(mvn, y)"
   ]
  },
  {
   "cell_type": "code",
   "execution_count": 56,
   "metadata": {
    "collapsed": false
   },
   "outputs": [
    {
     "data": {
      "text/plain": [
       "BenchmarkTools.Trial: \n",
       "  memory estimate:  122.39 MiB\n",
       "  allocs estimate:  23\n",
       "  --------------\n",
       "  minimum time:     223.554 ms (15.29% GC)\n",
       "  median time:      393.602 ms (16.03% GC)\n",
       "  mean time:        353.480 ms (33.02% GC)\n",
       "  maximum time:     606.963 ms (6.42% GC)\n",
       "  --------------\n",
       "  samples:          15\n",
       "  evals/sample:     1"
      ]
     },
     "execution_count": 56,
     "metadata": {},
     "output_type": "execute_result"
    }
   ],
   "source": [
    "# benchmark\n",
    "@benchmark logpdf_mvn(y, Z, σ0, σ1)"
   ]
  },
  {
   "cell_type": "code",
   "execution_count": 57,
   "metadata": {
    "collapsed": false
   },
   "outputs": [
    {
     "data": {
      "text/plain": [
       "BenchmarkTools.Trial: \n",
       "  memory estimate:  15.78 KiB\n",
       "  allocs estimate:  3\n",
       "  --------------\n",
       "  minimum time:     6.223 ms (0.00% GC)\n",
       "  median time:      10.645 ms (0.00% GC)\n",
       "  mean time:        10.346 ms (0.00% GC)\n",
       "  maximum time:     13.287 ms (0.00% GC)\n",
       "  --------------\n",
       "  samples:          482\n",
       "  evals/sample:     1"
      ]
     },
     "execution_count": 57,
     "metadata": {},
     "output_type": "execute_result"
    }
   ],
   "source": [
    "@benchmark logpdf(mvn, y)"
   ]
  },
  {
   "cell_type": "code",
   "execution_count": null,
   "metadata": {
    "collapsed": true
   },
   "outputs": [],
   "source": []
  }
 ],
 "metadata": {
  "kernelspec": {
   "display_name": "Julia 0.6.2",
   "language": "julia",
   "name": "julia-0.6"
  },
  "language_info": {
   "file_extension": ".jl",
   "mimetype": "application/julia",
   "name": "julia",
   "version": "0.6.2"
  },
  "toc": {
   "colors": {
    "hover_highlight": "#DAA520",
    "running_highlight": "#FF0000",
    "selected_highlight": "#FFD700"
   },
   "moveMenuLeft": true,
   "nav_menu": {
    "height": "87px",
    "width": "252px"
   },
   "navigate_menu": true,
   "number_sections": true,
   "sideBar": true,
   "threshold": 4,
   "toc_cell": false,
   "toc_section_display": "block",
   "toc_window_display": false,
   "widenNotebook": false
  }
 },
 "nbformat": 4,
 "nbformat_minor": 2
}
