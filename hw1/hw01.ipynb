{
 "cells": [
  {
   "cell_type": "markdown",
   "metadata": {},
   "source": [
    "# Biostat M280 Homework 1\n",
    "\n",
    "#### Due Apr 27 @ 11:59PM"
   ]
  },
  {
   "cell_type": "markdown",
   "metadata": {},
   "source": [
    "## Q1\n",
    "\n",
    "**No handwritten homework reports are accepted for this course.**  We work with Git/GitHub.  Efficient and abundant use of Git, e.g., **frequent and well-documented** commits, is an important criterion for grading your homework.\n",
    "\n",
    "0. Apply for the [Student Developer Pack](https://education.github.com/pack) at GitHub using your UCLA email.\n",
    "\n",
    "0. Create a **private** repository `biostat-m280-2018-spring` and add `Hua-Zhou` and `LuZhangstat` (TA) as your collaborators.\n",
    "\n",
    "0. Top directories of the repository should be `hw1`, `hw2`, ... Create two branches `master` and `develop`. The `develop` branch will be your main playground, the place where you develop solution (code) to homework problems and write up report. The `master` branch will be your presentation area. Put your homework submission files (IJulia notebook `.ipynb`, html converted from notebook, all code and data set to reproduce results) in `master` branch.  \n",
    "\n",
    "0. After each homework due date, teaching assistant and instructor will check out your `master` branch for grading. Tag each of your homework submissions with tag names `hw1`, `hw2`, ...  Tagging time will be used as your submission time. That means if you tag your hw1 submission after deadline, penalty points will be deducted for late submission.  \n",
    "\n",
    "0. Read the [style guide](https://github.com/johnmyleswhite/Style.jl) for Julia programming by John Myles White. Following rules in the style guide will be strictly enforced when grading: (4), (6), (7), (8), (9), (12), (13) and (16)."
   ]
  },
  {
   "cell_type": "markdown",
   "metadata": {},
   "source": [
    "## Q2\n",
    "\n",
    "Let's check whether floating-point numbers obey certain algebraic rules.  \n",
    "\n",
    "0. Associative rule for addition says `(x + y) + z == x + (y + z)`. Check association rule using `x = 0.1`, `y = 0.1` and `z = 1.0` in Julia. Explain what you find.\n",
    "\n",
    "0. Do floating-point numbers obey the associative rule for multiplication: `(x * y) * z == x * (y * z)`?\n",
    "\n",
    "0. Do floating-point numbers obey the distributive rule: `a * (x + y) == a * x + a * y`?  \n",
    "\n",
    "0. Is `0 * x == 0` true for all floating-point number `x`?  \n",
    "\n",
    "0. Is `x / a == x * (1 / a)` always true?"
   ]
  },
  {
   "cell_type": "markdown",
   "metadata": {},
   "source": [
    "### Answer to Q2(1)\n",
    "\n",
    "The associative rule for addtion doesn't hold. The following shows an example when x = 0.1, y = 0.1 and z = 1.0. This is because that if a number doesn't have an exact floating-point representation, Julia rounds it to an appropriate representable value. The following shows the bit representation of real numbers and why the associative rule doesn't hold. "
   ]
  },
  {
   "cell_type": "code",
   "execution_count": 1,
   "metadata": {
    "collapsed": false
   },
   "outputs": [
    {
     "name": "stdout",
     "output_type": "stream",
     "text": [
      "bits(0.1) = \"0011111110111001100110011001100110011001100110011001100110011010\"\n",
      "bits(1.0) = \"0011111111110000000000000000000000000000000000000000000000000000\"\n",
      "bits(0.1 + 1.0) = \"0011111111110001100110011001100110011001100110011001100110011010\"\n",
      "bits(0.1 + (0.1 + 1.0)) = \"0011111111110011001100110011001100110011001100110011001100110100\"\n",
      "bits((0.1 + 0.1) + 1.0) = \"0011111111110011001100110011001100110011001100110011001100110011\"\n"
     ]
    },
    {
     "data": {
      "text/plain": [
       "\"0011111111110011001100110011001100110011001100110011001100110011\""
      ]
     },
     "execution_count": 1,
     "metadata": {},
     "output_type": "execute_result"
    }
   ],
   "source": [
    "# We can see there is no exact bit representation for 0.1, \n",
    "# and the number is rounded to the closest value. This causes \n",
    "# 0.1 + 1.0 = 1.2000000000000002\n",
    "@show bits(0.1)\n",
    "@show bits(1.0)\n",
    "@show bits(0.1 + 1.0)\n",
    "@show bits(0.1 + (0.1 + 1.0))\n",
    "@show bits((0.1 + 0.1) + 1.0)"
   ]
  },
  {
   "cell_type": "code",
   "execution_count": 2,
   "metadata": {
    "collapsed": false,
    "scrolled": false
   },
   "outputs": [
    {
     "name": "stdout",
     "output_type": "stream",
     "text": [
      "false\n",
      "1.2\n",
      "1.2000000000000002\n",
      "1.1\n",
      "1.2000000000000002\n"
     ]
    }
   ],
   "source": [
    "# Check the associative rule\n",
    "x, y, z = 0.1, 0.1, 1.0\n",
    "println(((x + y) + z) == (x + (y + z)))\n",
    "# Check why the associative rule doesn't apply. \n",
    "println((x + y) + z)\n",
    "println((x + (y + z)))\n",
    "println((y + z))\n",
    "println(1.1 + x)"
   ]
  },
  {
   "cell_type": "markdown",
   "metadata": {},
   "source": [
    "### Answer to Q2(2)\n",
    "\n",
    "No. The following shows one case that the associative rule doesn't hold when x = 0.1, y = 0.1 and z = 10.0. This is also due to the rounding inaccuracy of float numbers in IEEE 754 standard. "
   ]
  },
  {
   "cell_type": "code",
   "execution_count": 3,
   "metadata": {
    "collapsed": false
   },
   "outputs": [
    {
     "name": "stdout",
     "output_type": "stream",
     "text": [
      "0.10000000000000002\n",
      "false\n"
     ]
    }
   ],
   "source": [
    "# Check the associative rule for multiplication\n",
    "x = 0.1\n",
    "y = 0.1\n",
    "z = 10.0\n",
    "println((x * y) * z)\n",
    "println(((x * y) * z) == (x * (y * z)))"
   ]
  },
  {
   "cell_type": "markdown",
   "metadata": {},
   "source": [
    "### Answer to Q2(3)\n",
    "\n",
    "No. The following shows one example that the distributive rule doesn't hold when x = 1/3, y = 0.1 and a = 10.0. This is also due to the rounding inaccuracy. "
   ]
  },
  {
   "cell_type": "code",
   "execution_count": 4,
   "metadata": {
    "collapsed": false
   },
   "outputs": [
    {
     "name": "stdout",
     "output_type": "stream",
     "text": [
      "false\n",
      "4.333333333333333\n",
      "4.333333333333334\n",
      "bits(a * (x + y)) = \"0100000000010001010101010101010101010101010101010101010101010110\"\n",
      "bits(a * x + a * y) = \"0100000000010001010101010101010101010101010101010101010101010101\"\n"
     ]
    },
    {
     "data": {
      "text/plain": [
       "\"0100000000010001010101010101010101010101010101010101010101010101\""
      ]
     },
     "execution_count": 4,
     "metadata": {},
     "output_type": "execute_result"
    }
   ],
   "source": [
    "# Check the distributive rule\n",
    "a = 10.0\n",
    "x = 1/3\n",
    "y = 0.1\n",
    "println((a * (x + y)) == (a * x + a * y))\n",
    "println((a * x + a * y))\n",
    "println(a * (x + y))\n",
    "@show bits(a * (x + y))\n",
    "@show bits((a * x + a * y))"
   ]
  },
  {
   "cell_type": "markdown",
   "metadata": {},
   "source": [
    "### Answer to Q2(4)\n",
    "\n",
    "For the most case, yes. However, if the x is Inf, the result will be NaN. "
   ]
  },
  {
   "cell_type": "code",
   "execution_count": 5,
   "metadata": {
    "collapsed": false
   },
   "outputs": [
    {
     "name": "stdout",
     "output_type": "stream",
     "text": [
      "NaN\n",
      "false\n"
     ]
    }
   ],
   "source": [
    "x = exp(10000.0)\n",
    "println(0 * x)\n",
    "println((0 * x) == 0)"
   ]
  },
  {
   "cell_type": "markdown",
   "metadata": {},
   "source": [
    "### Answer to Q2(5)\n",
    "No. The following shows one case that the result is NaN when a = 0.0 and x = 0.0. "
   ]
  },
  {
   "cell_type": "code",
   "execution_count": 20,
   "metadata": {
    "collapsed": false
   },
   "outputs": [
    {
     "name": "stdout",
     "output_type": "stream",
     "text": [
      "NaN\n",
      "false\n"
     ]
    }
   ],
   "source": [
    "a = 0.0\n",
    "x = 0.0\n",
    "println(x / a)\n",
    "println(x / a == x * (1 / a))"
   ]
  },
  {
   "cell_type": "markdown",
   "metadata": {},
   "source": [
    "## Q3\n",
    "\n",
    "Consider Julia function\n",
    "```julia\n",
    "function g(k)\n",
    "    for i = 1:10\n",
    "        k = 5k - 1\n",
    "    end\n",
    "    k\n",
    "end\n",
    "```\n",
    "0. Use `@code_llvm` to find the LLVM bitcode of compiled `g` with `Int64` input.   \n",
    "1. Use `@code_llvm` to find the LLVM bitcode of compiled `g` with `Float64` input.  \n",
    "2. Compare the bitcode from questions 1 and 2. What do you find?  \n",
    "3. Read Julia documentation on `@fastmath` and repeat the questions 1-3 on the function  \n",
    "\n",
    "```julia\n",
    "function g_fastmath(k)  \n",
    "    @fastmath for i = 1:10  \n",
    "        k = 5k - 1\n",
    "    end\n",
    "    k\n",
    "end\n",
    "```\n",
    "Explain what does macro `@fastmath` do?"
   ]
  },
  {
   "cell_type": "markdown",
   "metadata": {},
   "source": [
    "### Answer to Q3(1-3)  \n",
    "\n",
    "The following shows bitcodes for `g` with `Int64` input and `g` with `Float64` input. We can see the function can be compiled to different bitcodes based on different input types. Bitcodes are much more complicated for the `Float64` input. "
   ]
  },
  {
   "cell_type": "code",
   "execution_count": 11,
   "metadata": {
    "collapsed": false
   },
   "outputs": [
    {
     "data": {
      "text/plain": [
       "g (generic function with 1 method)"
      ]
     },
     "execution_count": 11,
     "metadata": {},
     "output_type": "execute_result"
    }
   ],
   "source": [
    "function g(k)\n",
    "    for i = 1:10\n",
    "        k = 5 * k - 1\n",
    "    end\n",
    "    k\n",
    "end"
   ]
  },
  {
   "cell_type": "code",
   "execution_count": 12,
   "metadata": {
    "collapsed": false
   },
   "outputs": [
    {
     "name": "stdout",
     "output_type": "stream",
     "text": [
      "\n",
      "define i64 @julia_g_64900(i64) #0 !dbg !5 {\n",
      "top:\n",
      "  %1 = mul i64 %0, 9765625\n",
      "  %2 = add i64 %1, -2441406\n",
      "  ret i64 %2\n",
      "}\n",
      "\n",
      "define double @julia_g_64905(double) #0 !dbg !5 {\n",
      "top:\n",
      "  %1 = fmul double %0, 5.000000e+00\n",
      "  %2 = fadd double %1, -1.000000e+00\n",
      "  %3 = fmul double %2, 5.000000e+00\n",
      "  %4 = fadd double %3, -1.000000e+00\n",
      "  %5 = fmul double %4, 5.000000e+00\n",
      "  %6 = fadd double %5, -1.000000e+00\n",
      "  %7 = fmul double %6, 5.000000e+00\n",
      "  %8 = fadd double %7, -1.000000e+00\n",
      "  %9 = fmul double %8, 5.000000e+00\n",
      "  %10 = fadd double %9, -1.000000e+00\n",
      "  %11 = fmul double %10, 5.000000e+00\n",
      "  %12 = fadd double %11, -1.000000e+00\n",
      "  %13 = fmul double %12, 5.000000e+00\n",
      "  %14 = fadd double %13, -1.000000e+00\n",
      "  %15 = fmul double %14, 5.000000e+00\n",
      "  %16 = fadd double %15, -1.000000e+00\n",
      "  %17 = fmul double %16, 5.000000e+00\n",
      "  %18 = fadd double %17, -1.000000e+00\n",
      "  %19 = fmul double %18, 5.000000e+00\n",
      "  %20 = fadd double %19, -1.000000e+00\n",
      "  ret double %20\n",
      "}\n"
     ]
    }
   ],
   "source": [
    "# With input type Int64\n",
    "@code_llvm g(2)\n",
    "# With input type Float 64\n",
    "@code_llvm g(2.0)"
   ]
  },
  {
   "cell_type": "markdown",
   "metadata": {},
   "source": [
    "### Answer to Q3(4)\n",
    "According to the document, The annotation `@fastmath` can re-arrange floating point expressions, e.g. changing the order of evaluation. We can see in the `@fastmath` version, the k = 5k-1 is hoisted out of the loop, which is much faster to evaluate."
   ]
  },
  {
   "cell_type": "code",
   "execution_count": 13,
   "metadata": {
    "collapsed": false
   },
   "outputs": [
    {
     "data": {
      "text/plain": [
       "g_fastmath (generic function with 1 method)"
      ]
     },
     "execution_count": 13,
     "metadata": {},
     "output_type": "execute_result"
    }
   ],
   "source": [
    "function g_fastmath(k)  \n",
    "    @fastmath for i = 1:10  \n",
    "        k = 5 * k - 1\n",
    "    end\n",
    "    k\n",
    "end"
   ]
  },
  {
   "cell_type": "code",
   "execution_count": 14,
   "metadata": {
    "collapsed": false
   },
   "outputs": [
    {
     "name": "stdout",
     "output_type": "stream",
     "text": [
      "\n",
      "define i64 @julia_g_fastmath_64927(i64) #0 !dbg !5 {\n",
      "top:\n",
      "  %1 = mul i64 %0, 9765625\n",
      "  %2 = add i64 %1, -2441406\n",
      "  ret i64 %2\n",
      "}\n",
      "\n",
      "define double @julia_g_fastmath_64928(double) #0 !dbg !5 {\n",
      "top:\n",
      "  %1 = fmul fast double %0, 9.765625e+06\n",
      "  %2 = fadd fast double %1, -2.441406e+06\n",
      "  ret double %2\n",
      "}\n"
     ]
    }
   ],
   "source": [
    "# With input type Int64\n",
    "@code_llvm g_fastmath(2)\n",
    "# With input type Float 64\n",
    "@code_llvm g_fastmath(2.0)"
   ]
  },
  {
   "cell_type": "markdown",
   "metadata": {},
   "source": [
    "## Q4\n",
    "\n",
    "Create the vector `x = (0.988, 0.989, 0.990, ..., 1.010, 1.011, 1.012)`.  \n",
    "0. Plot the polynomial `y = x^7 - 7x^6 + 21x^5 - 35x^4 + 35x^3 - 21x^2 + 7x -1` at points `x`.  \n",
    "\n",
    "1. Plot the polynomial `y = (x - 1)^7` at points `x`.  \n",
    "\n",
    "2. Explain what you found."
   ]
  },
  {
   "cell_type": "markdown",
   "metadata": {},
   "source": [
    "### Answer to Q4(1-3)\n",
    "The following graph shows both `y1 = x^7 - 7x^6 + 21x^5 - 35x^4 + 35x^3 - 21x^2 + 7x -1` and `y2 = (x - 1)^7`. We can see `y1` is not as smoothing as `y2`, and this is because of catastrophic cancellation. The following shows an example:"
   ]
  },
  {
   "cell_type": "code",
   "execution_count": 8,
   "metadata": {
    "collapsed": false
   },
   "outputs": [
    {
     "data": {
      "text/plain": [
       "0.9999999999999858"
      ]
     },
     "execution_count": 8,
     "metadata": {},
     "output_type": "execute_result"
    }
   ],
   "source": [
    "x = 0.990\n",
    "test_y1 = x.^7 - 7 * (x.^6) + 21 * (x.^5) - \n",
    "          35 * (x.^4) + 35 * (x.^3) - 21 * (x.^2) + 7 * x"
   ]
  },
  {
   "cell_type": "markdown",
   "metadata": {},
   "source": [
    "From the example, we can see the catastrophic cancellation could happen when we substract two numbers of very different magnitudes. "
   ]
  },
  {
   "cell_type": "code",
   "execution_count": 9,
   "metadata": {
    "collapsed": false
   },
   "outputs": [],
   "source": [
    "using Plots"
   ]
  },
  {
   "cell_type": "code",
   "execution_count": 15,
   "metadata": {
    "collapsed": false
   },
   "outputs": [
    {
     "data": {
      "image/png": "[encoded data removed]"
     },
     "execution_count": 15,
     "metadata": {},
     "output_type": "execute_result"
    }
   ],
   "source": [
    "# Create the vector\n",
    "x = collect(0.988:0.001:1.012)\n",
    "y1 = x.^7 - 7 * (x.^6) + 21 * (x.^5) - 35 * (x.^4) + \n",
    "     35 * (x.^3) - 21 * (x.^2) + 7 * x - 1\n",
    "y2 = (x - 1).^7\n",
    "plt = pyplot()\n",
    "plot(x, [y1, y2])"
   ]
  },
  {
   "cell_type": "markdown",
   "metadata": {},
   "source": [
    "## Q5\n",
    "\n",
    "Let the $n \\times n$ matrix `H` have elements `H[i, j] = 1 / (i + j - 1)`.  \n",
    "0. Write a function `h(n)` that outputs $n \\times n$ matrix `H`. Try at least 3 ways, e.g., looping, [comprehension](https://docs.julialang.org/en/stable/manual/arrays/#Comprehensions-1), and vectorization. Compute and print `H` for `n = 5`.   \n",
    "0. Compare their efficiencies at `n = 1000`.\n",
    "0. Try different rounding modes (use function `setrounding(Float64, RoundingMode)`) and report the entry `inv(H)[1, 1]` for `n = 15`."
   ]
  },
  {
   "cell_type": "markdown",
   "metadata": {},
   "source": [
    "### Answer to Q5(1)   "
   ]
  },
  {
   "cell_type": "code",
   "execution_count": 16,
   "metadata": {
    "collapsed": false
   },
   "outputs": [
    {
     "data": {
      "text/plain": [
       "h (generic function with 1 method)"
      ]
     },
     "execution_count": 16,
     "metadata": {},
     "output_type": "execute_result"
    }
   ],
   "source": [
    "# Looping\n",
    "function h(n)\n",
    "    H = Array{Float64, 2}(n, n)\n",
    "    for i = 1:n\n",
    "        for j =1:n\n",
    "            H[i,j] = 1 / (i + j -1)\n",
    "        end\n",
    "    end\n",
    "    H\n",
    "end"
   ]
  },
  {
   "cell_type": "code",
   "execution_count": 17,
   "metadata": {
    "collapsed": false
   },
   "outputs": [
    {
     "data": {
      "text/plain": [
       "h_comprehension (generic function with 1 method)"
      ]
     },
     "execution_count": 17,
     "metadata": {},
     "output_type": "execute_result"
    }
   ],
   "source": [
    "# Comprehension\n",
    "function h_comprehension(n)\n",
    "    H = Array{Float64, 2}(n, n)\n",
    "    [H[i, j] = 1 / (i + j -1) for j = 1:n for i = 1:n]\n",
    "    H\n",
    "end\n"
   ]
  },
  {
   "cell_type": "code",
   "execution_count": 18,
   "metadata": {
    "collapsed": false
   },
   "outputs": [
    {
     "data": {
      "text/plain": [
       "h_vectorization (generic function with 1 method)"
      ]
     },
     "execution_count": 18,
     "metadata": {},
     "output_type": "execute_result"
    }
   ],
   "source": [
    "# Vectorization\n",
    "function h_vectorization(n)\n",
    "    I = 1 ./ broadcast(+, (collect(0.0:n - 1))', collect(1:n))\n",
    "    I\n",
    "end"
   ]
  },
  {
   "cell_type": "code",
   "execution_count": 19,
   "metadata": {
    "collapsed": false
   },
   "outputs": [
    {
     "data": {
      "text/plain": [
       "5×5 Array{Float64,2}:\n",
       " 1.0       0.5       0.333333  0.25      0.2     \n",
       " 0.5       0.333333  0.25      0.2       0.166667\n",
       " 0.333333  0.25      0.2       0.166667  0.142857\n",
       " 0.25      0.2       0.166667  0.142857  0.125   \n",
       " 0.2       0.166667  0.142857  0.125     0.111111"
      ]
     },
     "execution_count": 19,
     "metadata": {},
     "output_type": "execute_result"
    }
   ],
   "source": [
    "h(5)"
   ]
  },
  {
   "cell_type": "code",
   "execution_count": 20,
   "metadata": {
    "collapsed": false
   },
   "outputs": [
    {
     "data": {
      "text/plain": [
       "5×5 Array{Float64,2}:\n",
       " 1.0       0.5       0.333333  0.25      0.2     \n",
       " 0.5       0.333333  0.25      0.2       0.166667\n",
       " 0.333333  0.25      0.2       0.166667  0.142857\n",
       " 0.25      0.2       0.166667  0.142857  0.125   \n",
       " 0.2       0.166667  0.142857  0.125     0.111111"
      ]
     },
     "execution_count": 20,
     "metadata": {},
     "output_type": "execute_result"
    }
   ],
   "source": [
    "h_comprehension(5)"
   ]
  },
  {
   "cell_type": "code",
   "execution_count": 21,
   "metadata": {
    "collapsed": false
   },
   "outputs": [
    {
     "data": {
      "text/plain": [
       "5×5 Array{Float64,2}:\n",
       " 1.0       0.5       0.333333  0.25      0.2     \n",
       " 0.5       0.333333  0.25      0.2       0.166667\n",
       " 0.333333  0.25      0.2       0.166667  0.142857\n",
       " 0.25      0.2       0.166667  0.142857  0.125   \n",
       " 0.2       0.166667  0.142857  0.125     0.111111"
      ]
     },
     "execution_count": 21,
     "metadata": {},
     "output_type": "execute_result"
    }
   ],
   "source": [
    "h_vectorization(5)"
   ]
  },
  {
   "cell_type": "markdown",
   "metadata": {},
   "source": [
    "### Answer to Q5(2)\n",
    "We can see the simple looping function is actually most efficient. The memory usage for all methods are high, because in the function we need to first allocate an 1000 * 1000 array, which takes up most memory. "
   ]
  },
  {
   "cell_type": "code",
   "execution_count": 22,
   "metadata": {
    "collapsed": false
   },
   "outputs": [],
   "source": [
    "using BenchmarkTools"
   ]
  },
  {
   "cell_type": "code",
   "execution_count": 26,
   "metadata": {
    "collapsed": false
   },
   "outputs": [
    {
     "data": {
      "text/plain": [
       "BenchmarkTools.Trial: \n",
       "  memory estimate:  7.63 MiB\n",
       "  allocs estimate:  2\n",
       "  --------------\n",
       "  minimum time:     4.087 ms (0.00% GC)\n",
       "  median time:      4.742 ms (0.00% GC)\n",
       "  mean time:        5.923 ms (21.34% GC)\n",
       "  maximum time:     14.115 ms (32.11% GC)\n",
       "  --------------\n",
       "  samples:          842\n",
       "  evals/sample:     1"
      ]
     },
     "execution_count": 26,
     "metadata": {},
     "output_type": "execute_result"
    }
   ],
   "source": [
    "@benchmark h(1000)"
   ]
  },
  {
   "cell_type": "code",
   "execution_count": 27,
   "metadata": {
    "collapsed": false
   },
   "outputs": [
    {
     "data": {
      "text/plain": [
       "BenchmarkTools.Trial: \n",
       "  memory estimate:  47.21 MiB\n",
       "  allocs estimate:  1002028\n",
       "  --------------\n",
       "  minimum time:     29.170 ms (20.84% GC)\n",
       "  median time:      35.807 ms (22.63% GC)\n",
       "  mean time:        60.488 ms (48.99% GC)\n",
       "  maximum time:     275.456 ms (77.75% GC)\n",
       "  --------------\n",
       "  samples:          83\n",
       "  evals/sample:     1"
      ]
     },
     "execution_count": 27,
     "metadata": {},
     "output_type": "execute_result"
    }
   ],
   "source": [
    "@benchmark h_comprehension(1000)"
   ]
  },
  {
   "cell_type": "code",
   "execution_count": 28,
   "metadata": {
    "collapsed": false
   },
   "outputs": [
    {
     "data": {
      "text/plain": [
       "BenchmarkTools.Trial: \n",
       "  memory estimate:  15.27 MiB\n",
       "  allocs estimate:  8\n",
       "  --------------\n",
       "  minimum time:     4.213 ms (0.00% GC)\n",
       "  median time:      7.736 ms (37.19% GC)\n",
       "  mean time:        7.666 ms (35.52% GC)\n",
       "  maximum time:     120.146 ms (95.50% GC)\n",
       "  --------------\n",
       "  samples:          651\n",
       "  evals/sample:     1"
      ]
     },
     "execution_count": 28,
     "metadata": {},
     "output_type": "execute_result"
    }
   ],
   "source": [
    "@benchmark h_vectorization(1000)"
   ]
  },
  {
   "cell_type": "markdown",
   "metadata": {},
   "source": [
    "### Answer to Q5(3)  \n",
    "\n",
    "From the fllowing, we can see different rounding modes could lead to different results. "
   ]
  },
  {
   "cell_type": "code",
   "execution_count": 30,
   "metadata": {
    "collapsed": false
   },
   "outputs": [
    {
     "name": "stdout",
     "output_type": "stream",
     "text": [
      "round down 153.81321351975203\n",
      "round up 151.34155625849962\n",
      "round nearest 158.1023247167468\n",
      "RoundToZero 150.86081927269697\n"
     ]
    }
   ],
   "source": [
    "setrounding(Float64, RoundDown) do\n",
    "    res_round_down = inv(h(15))[1, 1];\n",
    "    print(\"round down \")\n",
    "    println(res_round_down)\n",
    "end\n",
    "\n",
    "setrounding(Float64, RoundUp) do\n",
    "    res_round_up = inv(h(15))[1, 1];\n",
    "    print(\"round up \")\n",
    "    println(res_round_up)\n",
    "end\n",
    "\n",
    "setrounding(Float64, RoundNearest) do\n",
    "    res_round_nearest = inv(h(15))[1, 1];\n",
    "    print(\"round nearest \")\n",
    "    println(res_round_nearest)\n",
    "end\n",
    "\n",
    "\n",
    "setrounding(Float64, RoundToZero) do\n",
    "    res_round_tozero = inv(h(15))[1, 1];\n",
    "    print(\"RoundToZero \")\n",
    "    println(res_round_tozero)\n",
    "end"
   ]
  },
  {
   "cell_type": "markdown",
   "metadata": {},
   "source": [
    "## Q6\n",
    "\n",
    "0. Show the **Sherman-Morrison formula**\n",
    "$$\n",
    "\t(\\mathbf{A} + \\mathbf{u} \\mathbf{u}^T)^{-1} = \\mathbf{A}^{-1} - \\frac{1}{1 + \\mathbf{u}^T \\mathbf{A}^{-1} \\mathbf{u}} \\mathbf{A}^{-1} \\mathbf{u} \\mathbf{u}^T \\mathbf{A}^{-1},\n",
    "$$\n",
    "where $\\mathbf{A} \\in \\mathbb{R}^{n \\times n}$ is nonsingular and $\\mathbf{u} \\in \\mathbb{R}^n$. This formula supplies the inverse of the symmetric, rank-one  perturbation of $\\mathbf{A}$.\n",
    "\n",
    "0. Show the **Woodbury formula**\n",
    "$$\n",
    "\t(\\mathbf{A} + \\mathbf{U} \\mathbf{V}^T)^{-1} = \\mathbf{A}^{-1} - \\mathbf{A}^{-1} \\mathbf{U} (\\mathbf{I}_m + \\mathbf{V}^T \\mathbf{A}^{-1} \\mathbf{U})^{-1} \\mathbf{V}^T \\mathbf{A}^{-1},\n",
    "$$\n",
    "where $\\mathbf{A} \\in \\mathbb{R}^{n \\times n}$ is nonsingular, $\\mathbf{U}, \\mathbf{V} \\in \\mathbb{R}^{n \\times m}$, and $\\mathbf{I}_m$ is the $m \\times m$ identity matrix. In many applications $m$ is much smaller than $n$. Woodbury formula generalizes Sherman-Morrison and is valuable because the smaller matrix $\\mathbf{I}_m + \\mathbf{V}^T \\mathbf{A}^{-1} \\mathbf{U}$ is cheaper to invert than the larger matrix $\\mathbf{A} + \\mathbf{U} \\mathbf{V}^T$.\n",
    "\n",
    "0. Show the **binomial inversion formula**\n",
    "$$\n",
    "\t(\\mathbf{A} + \\mathbf{U} \\mathbf{B} \\mathbf{V}^T)^{-1} = \\mathbf{A}^{-1} - \\mathbf{A}^{-1} \\mathbf{U} (\\mathbf{B}^{-1} + \\mathbf{V}^T \\mathbf{A}^{-1} \\mathbf{U})^{-1} \\mathbf{V}^T \\mathbf{A}^{-1},\n",
    "$$\n",
    "where $\\mathbf{A}$ and $\\mathbf{B}$ are nonsingular.\n",
    "\n",
    "0. Show the identity\n",
    "$$\n",
    "\t\\text{det}(\\mathbf{A} + \\mathbf{U} \\mathbf{V}^T) = \\text{det}(\\mathbf{A}) \\text{det}(\\mathbf{I}_m + \\mathbf{V}^T \\mathbf{A}^{-1} \\mathbf{U}).\n",
    "$$\n",
    "This formula is useful for evaluating the density of a multivariate normal with covariance matrix $\\mathbf{A} + \\mathbf{U} \\mathbf{V}^T$."
   ]
  },
  {
   "cell_type": "markdown",
   "metadata": {},
   "source": [
    "### Answer to Q6(1)\n",
    "Show the **Sherman-Morrison formula**  \n",
    "\n",
    "To prove the equation, we need to prove the right-hand side matrix $Y$ is the inverse of matrix $X$ (left-hand size).   \n",
    "$\n",
    "\\begin{align*}\n",
    "\\mathbf{X} = \\mathbf{A} + \\mathbf{u}^{}\\mathbf{u}^T, \\mathbf{Y} = \\mathbf{A}^{-1}-\\frac{\\mathbf{A}^{-1}\\mathbf{u}^{}\\mathbf{u}^T\\mathbf{A}^{-1}}\n",
    "        {1+\\mathbf{u}^T\\mathbf{A}^{-1}\\mathbf{u}}\n",
    "\\end{align*}\n",
    "$\n",
    "\n",
    "\n",
    "\n",
    "\n",
    "$\n",
    "\\begin{align*}\n",
    "     \\mathbf{X}\\mathbf{Y} &= \\left(\\mathbf{A} + \\mathbf{u}\\mathbf{u}^T\\right)\n",
    "        \\left(\\mathbf{A}^{-1}-\\frac{\\mathbf{A}^{-1}\\mathbf{u}^{}\\mathbf{u}^T\\mathbf{A}^{-1}}\n",
    "        {1+\\mathbf{u}^T\\mathbf{A}^{-1}\\mathbf{u}}\\right)\\\\\n",
    "        &= \\mathbf{A}^{}\\mathbf{A}^{-1} + \\mathbf{u}\\mathbf{u}^T\\mathbf{A}^{-1} - \n",
    "        \\frac{\\mathbf{A}\\mathbf{A}^{-1}\\mathbf{u}^{} \\mathbf{u}^T\\mathbf{A}^{-1}}\n",
    "        {1+\\mathbf{u}^T\\mathbf{A}^{-1}\\mathbf{u}} - \\frac{\\mathbf{u}^{}\\mathbf{u}^T\\mathbf{A}^{-1}\\mathbf{u}^{}\n",
    "        \\mathbf{u}^T\\mathbf{A}^{-1}}{1+\\mathbf{u}^T\\mathbf{A}^{-1}\\mathbf{u}}\\\\\n",
    "        &= \\mathbf{I} + \\mathbf{u}\\mathbf{u}^T\\mathbf{A}^{-1} - \\frac{\\mathbf{u}^{} \\mathbf{u}^T\\mathbf{A}^{-1}+\n",
    "        \\mathbf{u}^{}\\mathbf{u}^T\\mathbf{A}^{-1}\\mathbf{u}^{}\\mathbf{u}^T\\mathbf{A}^{-1}}\n",
    "        {1+\\mathbf{u}^T\\mathbf{A}^{-1}\\mathbf{u}} \\\\\n",
    "        &= \\mathbf{I} + \\mathbf{u}\\mathbf{u}^T\\mathbf{A}^{-1} - \\frac{\\mathbf{u}\n",
    "        (1+\\mathbf{u}^T\\mathbf{A}^{-1}\\mathbf{u})\\mathbf{u}^T\\mathbf{A}^{-1}}\n",
    "        {1+\\mathbf{u}^T\\mathbf{A}^{-1}\\mathbf{u}}\\\\\n",
    "        &= \\mathbf{I} + \\mathbf{u}\\mathbf{u}^T\\mathbf{A}^{-1} - \\mathbf{u}\\mathbf{u}^T\\mathbf{A}^{-1} \\\\\n",
    "        &= \\mathbf{I}\n",
    "\\end{align*}\n",
    "$\n",
    "\n",
    "Similarly, we can get $\\mathbf{Y}\\mathbf{X}$ == $\\mathbf{I}$\n"
   ]
  },
  {
   "cell_type": "markdown",
   "metadata": {},
   "source": [
    "### Answer to Q6(2)\n",
    "Show the **Woodbury formula**\n",
    "\n",
    "Similarly, we define \n",
    "\n",
    "$\n",
    "\\begin{align*}\n",
    "\\mathbf{X} = \\mathbf{A} + \\mathbf{U}^{}\\mathbf{V}^T, \\mathbf{Y} = \\mathbf{A}^{-1} - \\mathbf{A}^{-1} \\mathbf{U} (\\mathbf{I}_m + \\mathbf{V}^T \\mathbf{A}^{-1} \\mathbf{U})^{-1} \\mathbf{V}^T \\mathbf{A}^{-1}\n",
    "\\end{align*}\n",
    "$  \n",
    "\n",
    "In order to show the **Woodbury formula**, we need to prove $\\mathbf{X}\\mathbf{Y}=\\mathbf{I}$ \n",
    "and $\\mathbf{Y}\\mathbf{X}=\\mathbf{I}$   \n",
    "\n",
    "$\n",
    "\\begin{align*}\n",
    "    \\mathbf{X}\\mathbf{Y} &= \\left(\\mathbf{A} + \\mathbf{U}^{}\\mathbf{V}^T\\right)\n",
    "    \\left(\\mathbf{A}^{-1} - \\mathbf{A}^{-1} \\mathbf{U} (\\mathbf{I}_m + \\mathbf{V}^T \\mathbf{A}^{-1} \\mathbf{U})^{-1} \\mathbf{V}^T \\mathbf{A}^{-1}\\right) \\\\\n",
    "    &= \\mathbf{A}^{}\\mathbf{A}^{-1}-\\mathbf{A}^{}\\mathbf{A}^{-1}\\mathbf{U}\n",
    "    \\left((\\mathbf{I}_m + \\mathbf{V}^T \\mathbf{A}^{-1} \\mathbf{U})^{-1} \\mathbf{V}^T \\mathbf{A}^{-1}\\right)\n",
    "    + \\mathbf{U}^{}\\mathbf{V}^T\\mathbf{A}^{-1} - \\mathbf{U}^{}\\mathbf{V}^T \n",
    "    \\mathbf{A}^{-1} \\mathbf{U}(\\mathbf{I}_m + \\mathbf{V}^T \\mathbf{A}^{-1} \\mathbf{U})^{-1} \n",
    "    \\mathbf{V}^T\\mathbf{A}^{-1} \\\\\n",
    "    &= \\mathbf{I}_{m}-\\mathbf{U}(\\mathbf{I}_{m}+\\mathbf{V}^T\\mathbf{A}^{-1}\\mathbf{U})^{-1}+\n",
    "    \\mathbf{U}\\mathbf{V}^T\\mathbf{A}^{-1}-\\mathbf{U}^{}\\mathbf{V}^T \n",
    "    \\mathbf{A}^{-1} \\mathbf{U}(\\mathbf{I}_m + \\mathbf{V}^T \\mathbf{A}^{-1} \\mathbf{U})^{-1} \n",
    "    \\mathbf{V}^T\\mathbf{A}^{-1}\\\\\n",
    "    &= \\mathbf{I}_{m}-\\mathbf{U}(\\mathbf{I}_{m}+\\mathbf{V}^T \\mathbf{A}^{-1} \\mathbf{U})^{-1}\n",
    "    (\\mathbf{I}_{m}+\\mathbf{V}^T \\mathbf{A}^{-1} \\mathbf{U})\\mathbf{V}^T\\mathbf{A}^{-1}+\n",
    "    \\mathbf{U}\\mathbf{V}^T\\mathbf{A}^{-1}\\\\\n",
    "    &= \\mathbf{I}_{m}-\\mathbf{U}\\mathbf{V}^T\\mathbf{A}^{-1}+\\mathbf{U}\\mathbf{V}^T\\mathbf{A}^{-1} \\\\\n",
    "    &= \\mathbf{I}_{m}\n",
    "\\end{align*} \n",
    "$  \n",
    "\n",
    "Similarly, we can get $\\mathbf{Y}\\mathbf{X}=\\mathbf{I}$, which shows the **Woodbury formula**"
   ]
  },
  {
   "cell_type": "markdown",
   "metadata": {},
   "source": [
    "### Answer to Q6(3)  \n",
    "\n",
    "Show the **binomial inversion formula**  \n",
    "\n",
    "\n",
    "Similarly, we define \n",
    "\n",
    "$\n",
    "\\begin{align*}\n",
    "\\mathbf{X} = \\mathbf{A} + \\mathbf{U} \\mathbf{B} \\mathbf{V}^T, \\mathbf{Y} = \\mathbf{A}^{-1} - \\mathbf{A}^{-1} \\mathbf{U} (\\mathbf{B}^{-1} + \\mathbf{V}^T \\mathbf{A}^{-1} \\mathbf{U})^{-1} \\mathbf{V}^T \\mathbf{A}^{-1}\n",
    "\\end{align*}\n",
    "$  \n",
    "\n",
    "In order to show the **binomial inversion formula**, we need to prove $\\mathbf{X}\\mathbf{Y}=\\mathbf{I}$ \n",
    "and $\\mathbf{Y}\\mathbf{X}=\\mathbf{I}$  \n",
    "\n",
    "$\n",
    "\\begin{align*}\n",
    "    \\mathbf{X}\\mathbf{Y} &= \\left(\\mathbf{A} + \\mathbf{U} \\mathbf{B} \\mathbf{V}^T\\right)\n",
    "    \\left(\\mathbf{A}^{-1} - \\mathbf{A}^{-1} \\mathbf{U} (\\mathbf{B}^{-1} + \n",
    "    \\mathbf{V}^T \\mathbf{A}^{-1} \\mathbf{U})^{-1} \\mathbf{V}^T \\mathbf{A}^{-1}\\right)\\\\\n",
    "    &= \\mathbf{I}-\\mathbf{U}(\\mathbf{B}^{-1} + \n",
    "    \\mathbf{V}^T \\mathbf{A}^{-1} \\mathbf{U})^{-1} \\mathbf{V}^T \\mathbf{A}^{-1} - \n",
    "    \\mathbf{U}\\mathbf{B}\\mathbf{V}^T\\mathbf{A}^{-1}\\mathbf{U}(\\mathbf{B}^{-1} + \n",
    "    \\mathbf{V}^T \\mathbf{A}^{-1} \\mathbf{U})^{-1}\\mathbf{V}^T\\mathbf{A}^{-1} +\n",
    "    \\mathbf{U}\\mathbf{B}\\mathbf{V}^T\\mathbf{A}^{-1} \\\\\n",
    "    &= \\mathbf{I}-\\mathbf{U}\\mathbf{B}(\\mathbf{B}^{-1} + \n",
    "    \\mathbf{V}^T \\mathbf{A}^{-1} \\mathbf{U})^{-1}(\\mathbf{B}^{-1} + \n",
    "    \\mathbf{V}^T \\mathbf{A}^{-1} \\mathbf{U})\\mathbf{V}^T\\mathbf{A}^{-1} +\n",
    "    \\mathbf{U}\\mathbf{B}\\mathbf{V}^T\\mathbf{A}^{-1} \\\\\n",
    "    &= \\mathbf{I}\n",
    "\\end{align*}\n",
    "$  \n",
    "\n",
    "Similarly, we can get $\\mathbf{Y}\\mathbf{X}=\\mathbf{I}$, which shows the **binomial inversion formula**"
   ]
  },
  {
   "cell_type": "markdown",
   "metadata": {},
   "source": [
    "### Answer to Q6(4)  \n",
    "\n",
    "Show the identity formula.   \n",
    "\n",
    "Let $\\mathbf{M}$ be a matrix comprising the four blocks: $\\mathbf{A}$, $\\mathbf{U}$, $\\mathbf{V}^T$, $\\mathbf{I_{m}}$  \n",
    "\n",
    "$\n",
    "\\begin{align*}\n",
    "    \\text{det}(\\mathbf{M}) &= \n",
    "\\begin{pmatrix}\n",
    "    \\mathbf{A} & \\mathbf{-U} \\\\\n",
    "    \\mathbf{V}^T & \\mathbf{I}_{m} \n",
    "\\end{pmatrix}\\text{, According to the block matrix formula, we can have the following} \\\\ \n",
    "&= \\text{det}(\\mathbf{A})\\text{det}(\\mathbf{I}_{m}-\\mathbf{V}^T\\mathbf{A}^{-1}(-\\mathbf{U})) \\\\\\\\\n",
    "\\mathbf{M} &= \n",
    "\\begin{pmatrix}\n",
    "    \\mathbf{A} & \\mathbf{-U} \\\\\n",
    "    \\mathbf{V}^T & \\mathbf{I}_{m} \n",
    "    \\end{pmatrix}\\text{, According to the block matrix formula, we can have the following} \\\\ \n",
    "    &= \\text{det}(\\mathbf{I}_{m})\\text{det}(\\mathbf{A}-(-\\mathbf{U})\\mathbf{I}_{m}^{-1}\\mathbf{V}^T) \\\\\n",
    "    &= \\text{det}(\\mathbf{A}+\\mathbf{U}\\mathbf{V}^T)\n",
    "\\end{align*}\n",
    "$\n",
    "\n",
    "So we can prove $\\text{det}(\\mathbf{A} + \\mathbf{U} \\mathbf{V}^T) = \\text{det}(\\mathbf{A}) \\text{det}(\\mathbf{I}_m + \\mathbf{V}^T \\mathbf{A}^{-1} \\mathbf{U})$\n"
   ]
  },
  {
   "cell_type": "code",
   "execution_count": null,
   "metadata": {
    "collapsed": true
   },
   "outputs": [],
   "source": []
  }
 ],
 "metadata": {
  "anaconda-cloud": {},
  "kernelspec": {
   "display_name": "Julia 0.6.2",
   "language": "julia",
   "name": "julia-0.6"
  },
  "language_info": {
   "file_extension": ".jl",
   "mimetype": "application/julia",
   "name": "julia",
   "version": "0.6.2"
  },
  "toc": {
   "colors": {
    "hover_highlight": "#DAA520",
    "running_highlight": "#FF0000",
    "selected_highlight": "#FFD700"
   },
   "moveMenuLeft": true,
   "nav_menu": {
    "height": "153px",
    "width": "252px"
   },
   "navigate_menu": true,
   "number_sections": false,
   "sideBar": true,
   "threshold": 4,
   "toc_cell": false,
   "toc_section_display": "block",
   "toc_window_display": true,
   "widenNotebook": false
  }
 },
 "nbformat": 4,
 "nbformat_minor": 2
}
