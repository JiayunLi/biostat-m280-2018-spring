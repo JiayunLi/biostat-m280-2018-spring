{
 "cells": [
  {
   "cell_type": "markdown",
   "metadata": {},
   "source": [
    "# Biostat M280 Homework 4\n",
    "\n",
    "**Due June 12 @ 11:59PM**"
   ]
  },
  {
   "cell_type": "markdown",
   "metadata": {},
   "source": [
    "In this homework, we build a classifer for handwritten digit recognition. Following figure shows example bitmaps of handwritten digits from U.S. postal envelopes. \n",
    "\n",
    "<img src=\"./handwritten_digits.png\" width=\"400\" align=\"center\"/>\n",
    "\n",
    "Each digit is represented by a $32 \\times 32$ bitmap in which each element indicates one pixel with a value of white or black. Each $32 \\times 32$ bitmap is divided into blocks of $4 \\times 4$, and the number of white pixels are counted in each block. Therefore each handwritten digit is summarized by a vector $\\mathbf{x} = (x_1, \\ldots, x_{64})$ of length 64 where each element is a count between 0 and 16. \n",
    "\n",
    "We will use a model-based method by assuming a distribution on the count vector and carry out classification using probabilities. A common distribution for count vectors is the multinomial distribution. However as you will see in Q10, it is not a good model for handwritten digits. Let's work on a more flexible model for count vectors. In the Dirichlet-multinomial model, we assume the multinomial probabilities $\\mathbf{p} = (p_1,\\ldots, p_d)$ follow a Dirichlet distribution with parameter vector $\\alpha = (\\alpha_1,\\ldots, \\alpha_d)$, $\\alpha_j>0$, and density\n",
    "$$\n",
    "\\begin{eqnarray*}\n",
    "\t\\pi(\\mathbf{p}) =  \\frac{\\Gamma(|\\alpha|)}{\\prod_{j=1}^d \\Gamma(\\alpha_j)} \\prod_{j=1}^d p_j^{\\alpha_j-1},\n",
    "\\end{eqnarray*} \n",
    "$$\n",
    "where $|\\alpha|=\\sum_{j=1}^d \\alpha_j$."
   ]
  },
  {
   "cell_type": "markdown",
   "metadata": {},
   "source": [
    "## Q1\n",
    "\n",
    "For a multivariate count vector $\\mathbf{x}=(x_1,\\ldots,x_d)$ with batch size $|\\mathbf{x}|=\\sum_{j=1}^d x_j$, show that the probability mass function for Dirichlet-multinomial distribution is\n",
    "$$\n",
    "    f(\\mathbf{x} \\mid \\alpha) \n",
    "\t= \\int_{\\Delta_d} \\binom{|\\mathbf{x}|}{\\mathbf{x}} \\prod_{j=1}^d p_j^{x_j} \\pi(\\mathbf{p}) \\, d \\mathbf{p}  \n",
    "    = \\binom{|\\mathbf{x}|}{\\mathbf{x}} \\frac{\\prod_{j=1}^d \\Gamma(\\alpha_j+x_j)}{\\prod_{j=1}^d \\Gamma(\\alpha_j)} \\frac{\\Gamma(|\\alpha|)}{\\Gamma(|\\alpha|+|\\mathbf{x}|)}\n",
    "$$\n",
    "where $\\Delta_d$ is the unit simplex in $d$ dimensions and $|\\alpha| = \\sum_{j=1}^d \\alpha_j$.\n"
   ]
  },
  {
   "cell_type": "markdown",
   "metadata": {},
   "source": [
    "### Answer to Q1  \n",
    "\n",
    "According to the definition of probablity mass function, we can get the following:  \n",
    "$$\n",
    "f(\\mathbf{x} \\mid \\alpha) \n",
    "    = \\int_{\\Delta_d}f(\\mathbf{x} \\mid \\mathbf{p})\\,f(\\mathbf{p} \\mid \\alpha)\\,d \\mathbf{p} \n",
    "\t= \\int_{\\Delta_d} \\binom{|\\mathbf{x}|}{\\mathbf{x}} \\prod_{j=1}^d p_j^{x_j} \\pi(\\mathbf{p}) \\, d \\mathbf{p}   \n",
    "$$\n",
    "Then we will show it equals to the second part.  \n",
    "\n",
    "$$\n",
    "\\begin{aligned}\n",
    " \\int_{\\Delta_d} \\binom{|\\mathbf{x}|}{\\mathbf{x}} \\prod_{j=1}^d p_j^{x_j} \\pi(\\mathbf{p}) \\, d \\mathbf{p} \n",
    " = \\binom{|\\mathbf{x}|}{\\mathbf{x}} \\frac{\\prod_{j=1}^d \\Gamma(\\alpha_j+x_j)}{\\prod_{j=1}^d \\Gamma(\\alpha_j)} \\frac{\\Gamma(|\\alpha|)}{\\Gamma(|\\alpha|+|\\mathbf{x}|)}\n",
    "\\end{aligned}\n",
    "$$  \n",
    "\n",
    "Since the density function of multinomial dirichlet distribution is $\\pi(\\mathbf{p})$, we can have:  \n",
    "\n",
    "$$\n",
    "\\int\\pi(\\mathbf{p})\\,d\\mathbf{p} = \\int \\frac{\\Gamma(|\\alpha|)}{\\prod_{j=1}^d \\Gamma(\\alpha_j)} \\prod_{j=1}^d p_j^{\\alpha_j-1}\\,d\\mathbf{p} = 1\n",
    "$$  \n",
    "\n",
    "So \n",
    "$$  \n",
    "\\int\\prod_{j=1}^d p_j^{\\alpha_j-1} \\,d\\mathbf{p} = \\frac{\\prod_{j=1}^d \\Gamma(\\alpha_j)}{\\Gamma(|\\alpha|)}\n",
    "$$  \n",
    "\n",
    "Then \n",
    "$$\n",
    "\\begin{aligned}\n",
    "f(\\mathbf{x} \\mid \\alpha)\n",
    "\t&= \\int_{\\Delta_d} \\binom{|\\mathbf{x}|}{\\mathbf{x}} \\prod_{j=1}^d p_j^{x_j} \\pi(\\mathbf{p}) \\, d \\mathbf{p}\\\\\n",
    "    &= \\int_{\\Delta_d} \\binom{|\\mathbf{x}|}{\\mathbf{x}}p_j^{x_j}\\frac{\\Gamma(|\\alpha|)}{\\prod_{j=1}^d  \\Gamma(\\alpha_j)} \\prod_{j=1}^d p_j^{\\alpha_j-1}\\, d \\mathbf{p} \\\\\n",
    "    &= \\int_{\\Delta_d} \\binom{|\\mathbf{x}|}{\\mathbf{x}}\\frac{\\Gamma(|\\alpha|)}{\\prod_{j=1}^d  \\Gamma(\\alpha_j)} \\prod_{j=1}^d p_j^{x_j + \\alpha_j-1} \\, d \\mathbf{p}\n",
    "\\end{aligned}\n",
    "$$  \n",
    "\n",
    "Plug in $\\int\\prod_{j=1}^d p_j^{\\alpha_j-1} \\,d\\mathbf{p} = \\frac{\\prod_{j=1}^d \\Gamma(\\alpha_j)}{\\Gamma(|\\alpha|)}$  \n",
    "\n",
    "$$\n",
    "\\begin{align*}\n",
    "f(\\mathbf{x} \\mid \\alpha) &=\\binom{|\\mathbf{x}|}{\\mathbf{x}} \\frac{\\prod_{j=1}^d \\Gamma(\\alpha_j+x_j)}{\\prod_{j=1}^d \\Gamma(|\\alpha|+|\\mathbf{x}|)} \\frac{\\Gamma(|\\alpha|)}{\\prod_{j=1}^d \\Gamma(\\alpha_j)} \\\\ \n",
    "&= \\binom{|\\mathbf{x}|}{\\mathbf{x}} \\frac{\\prod_{j=1}^d \\Gamma(\\alpha_j+x_j)}{\\prod_{j=1}^d \\Gamma(\\alpha_j)} \\frac{\\Gamma(|\\alpha|)}{\\Gamma(|\\alpha|+|\\mathbf{x}|)} \n",
    "\\end{align*}\n",
    "$$"
   ]
  },
  {
   "cell_type": "markdown",
   "metadata": {},
   "source": [
    "## Q2\n",
    "\n",
    "Given independent data points $\\mathbf{x}_1, \\ldots, \\mathbf{x}_n$, show that the log-likelihood is\n",
    "$$\n",
    "L(\\alpha) = \\sum_{i=1}^n \\ln \\binom{|\\mathbf{x}_i|}{\\mathbf{x}_i} + \\sum_{i=1}^n \\sum_{j=1}^d [\\ln \\Gamma(\\alpha_j + x_{ij}) - \\ln \\Gamma(\\alpha_j)] - \\sum_{i=1}^n [\\ln \\Gamma(|\\alpha|+|\\mathbf{x}_i|) - \\ln \\Gamma(|\\alpha|)].\n",
    "$$\n",
    "Is the log-likelihood a concave function?"
   ]
  },
  {
   "cell_type": "markdown",
   "metadata": {},
   "source": [
    "### Answer to Q2 \n",
    "\n",
    "From Q1, we can get the probablity mass function. Since $(x_{1}, x_{2}, ..., x_{i})$ are independent, we can take log of the probablity mass function for each $x_{i}$ and take the summation. Then we can get the log-likelihood function: \n",
    "\n",
    "\n",
    "\n",
    "$$\n",
    "L(\\alpha) = \\sum_{i=1}^n \\ln \\binom{|\\mathbf{x}_i|}{\\mathbf{x}_i} + \\sum_{i=1}^n \\sum_{j=1}^d [\\ln \\Gamma(\\alpha_j + x_{ij}) - \\ln \\Gamma(\\alpha_j)] - \\sum_{i=1}^n [\\ln \\Gamma(|\\alpha|+|\\mathbf{x}_i|) - \\ln \\Gamma(|\\alpha|)].\n",
    "$$\n",
    "\n",
    "\n",
    "This is not a concave function, and it can be proven by choosing a special case. We can choose $n = 1, x = (1, 0)$, and to prove $L(\\alpha) = [\\ln(\\Gamma(\\alpha_1 + 1) - \\ln(\\Gamma(\\alpha_1)] - [\\ln(\\Gamma(\\alpha_1+\\alpha_2+1) - \\ln(\\Gamma(\\alpha_1 + \\alpha_2)]$ is not a concave function. Since $\\Gamma(\\alpha + 1) = (\\alpha + 1)\\Gamma(\\alpha)$, \n",
    "then we need to prove $L(\\alpha) = \\ln(\\alpha_1) - \\ln(\\alpha_1 + \\alpha_2)$ is a nonconcave function, equivalently, we can prove $-L(\\alpha) = -\\ln(\\alpha_1) + \\ln(\\alpha_1 + \\alpha_2)$ is a nonconvex function. The Hessian matrix $-d^2L(\\alpha)$ is:  \n",
    "\\begin{pmatrix}\n",
    "\\frac{1}{\\alpha_1^2} - \\frac{1}{(\\alpha_1+\\alpha_2)^2}  & - \\frac{1}{(\\alpha_1+\\alpha_2)^2}\\\\ \n",
    "-\\frac{1}{(\\alpha_1+\\alpha_2)^2} & - \\frac{1}{(\\alpha_1+\\alpha_2)^2}\n",
    "\\end{pmatrix}\n",
    "\n",
    "The matrix is clearly not PSD, so $-L(\\alpha)$ is not convex, and $L(\\alpha)$ is not concave. "
   ]
  },
  {
   "cell_type": "markdown",
   "metadata": {},
   "source": [
    "## Q3\n",
    "\n",
    "Write Julia function to compute the log-density of the Dirichlet-multinomial distribution."
   ]
  },
  {
   "cell_type": "code",
   "execution_count": 1,
   "metadata": {
    "collapsed": false
   },
   "outputs": [
    {
     "data": {
      "text/plain": [
       "dirmult_logpdf"
      ]
     },
     "execution_count": 1,
     "metadata": {},
     "output_type": "execute_result"
    }
   ],
   "source": [
    "\"\"\"\n",
    "    dirmult_logpdf(x::Vector, α::Vector)\n",
    "    \n",
    "Compute the log-pdf of Dirichlet-multinomial distribution with parameter `α` \n",
    "at data point `x`.\n",
    "\"\"\"\n",
    "function dirmult_logpdf(x::Vector, α::Vector)\n",
    "    # your code here\n",
    "    sum_x = sum(x)\n",
    "    sum_α = sum(α)\n",
    "    L = lgamma(sum_x + 1) - sum(lgamma.(x + 1)) + \n",
    "        sum(lgamma.(x + α)) - sum(lgamma.(α)) - \n",
    "        lgamma(sum_α + sum_x) + lgamma(sum_α)\n",
    "    return L\n",
    "end\n",
    "\n",
    "function dirmult_logpdf!(r::Vector, X::Matrix, α::Vector)\n",
    "    for j in 1:size(X, 2)\n",
    "        r[j] = dirmult_logpdf(X[:, j], α)\n",
    "    end\n",
    "    return r\n",
    "end\n",
    "\n",
    "\"\"\"\n",
    "    dirmult_logpdf(X, α)\n",
    "    \n",
    "Compute the log-pdf of Dirichlet-multinomial distribution with parameter `α` \n",
    "at each data point in `X`. Each column of `X` is one data point.\n",
    "\"\"\"\n",
    "function dirmult_logpdf(X::Matrix, α::Vector)\n",
    "    r = zeros(size(X, 2))\n",
    "    dirmult_logpdf!(r, X, α)\n",
    "end"
   ]
  },
  {
   "cell_type": "code",
   "execution_count": 2,
   "metadata": {
    "collapsed": true
   },
   "outputs": [],
   "source": [
    "using CSV"
   ]
  },
  {
   "cell_type": "markdown",
   "metadata": {},
   "source": [
    "## Q4\n",
    "\n",
    "Read in `optdigits.tra`, the training set of 3823 handwritten digits. Each row contains the 64 counts of a digit and the last element (65th element) indicates what digit it is. For grading purpose, evaluate the total log-likelihood of this data at parameter values $\\alpha=(1,\\ldots,1)$ using your function in Q3."
   ]
  },
  {
   "cell_type": "code",
   "execution_count": 3,
   "metadata": {
    "collapsed": false
   },
   "outputs": [],
   "source": [
    "# Read digits data\n",
    "digits = CSV.read(\"optdigits.tra\", datarow=1)\n",
    "digits = Matrix{Float64}(digits);\n",
    "X = digits[:, 1:64]';\n",
    "Y = digits[:, 65];\n"
   ]
  },
  {
   "cell_type": "code",
   "execution_count": 4,
   "metadata": {
    "collapsed": false
   },
   "outputs": [
    {
     "data": {
      "text/plain": [
       "-638817.993292528"
      ]
     },
     "execution_count": 4,
     "metadata": {},
     "output_type": "execute_result"
    }
   ],
   "source": [
    "α = ones(64)\n",
    "r = dirmult_logpdf(X, α)\n",
    "sum(r)"
   ]
  },
  {
   "cell_type": "markdown",
   "metadata": {},
   "source": [
    "## Q5\n",
    "\n",
    "Derive the score function $\\nabla L(\\alpha)$, observed information matrix $-d^2L(\\alpha)$, and Fisher information matrix $\\mathbf{E}[-d^2L(\\alpha)]$ for the Dirichlet-multinomial distribution.\n",
    "\n",
    "Comment on why Fisher scoring method is inefficient for computing MLE in this example."
   ]
  },
  {
   "cell_type": "markdown",
   "metadata": {},
   "source": [
    "### Answer to Q5  \n",
    "\n",
    "The derivative of $\\ln(\\Gamma(z))$ is defined as the following:  \n",
    "\n",
    "$$\n",
    " \\Psi(z) = \\frac{d\\ln\\Gamma(z)}{dz} = \\frac{\\Gamma(z)^{'}}{\\Gamma(z)}\n",
    "$$\n",
    "\n",
    "$$\n",
    " \\Psi^{'}(z) = \\frac{\\Gamma(z)^{''}}{\\Gamma(z)} - (\\frac{\\Gamma(z)^{'}}{\\Gamma(z)})^{2}\n",
    "$$  \n",
    "\n",
    "Then we can derive the score function $\\nabla L(\\alpha)$:  \n",
    "\n",
    "$$\n",
    "\\Theta_{j}=\\frac{\\partial L(\\alpha)}{\\partial \\alpha_{j}} \n",
    "= \\sum_{i=1}^n[\\Psi(\\alpha_{j} + x_{ij}) - \\Psi(\\alpha_{j})] - \\sum_{i=1}^n[\\Psi(|\\alpha| + |x_{i}|) - \\Psi(|\\alpha|)]\n",
    "$$\n",
    "\n",
    "$$\n",
    "\\nabla L(\\alpha) = \\begin{pmatrix}\n",
    "\\Theta_1\\\\\n",
    "\\Theta_2\\\\\n",
    "...\\\\\n",
    "\\Theta_d\n",
    "\\end{pmatrix}\\\\\n",
    "$$\n",
    "\n",
    "And the observed information matrix: \n",
    "\n",
    "\n",
    "$$\n",
    "-\\frac{\\partial ^{2} L(\\alpha)}{\\partial \\alpha_{j} \\alpha_{k}} = \\begin{cases}\n",
    "\t\\sum_{i=1}^n[\\Psi'(|\\alpha| + |x_{j}|) - \\Psi'(|\\alpha|)] & \\text{if $j \\neq k$} \\\\\n",
    "\t-\\sum_{i=1}^n[\\Psi'(\\alpha_{j} + x_{ij}) - \\Psi'(\\alpha_{j})] + \n",
    "    \\sum_{i=1}^n[\\Psi'(|\\alpha| + |x_{i}|) - \\Psi'(|\\alpha|)] & \\text{if $j == k$}\n",
    "\t\\end{cases}\n",
    "$$   \n",
    "\n",
    "\n",
    "$$\n",
    "-d^2L(\\alpha) = \\begin{pmatrix}\n",
    "\\Theta'_{11} & \\Theta'_{12} & ... & \\Theta'_{1d}\\\\ \n",
    "\\Theta'_{21} & \\Theta'_{22} & ... & \\Theta'_{2d}\\\\ \n",
    "... & ... & ... & ...\\\\ \n",
    "\\Theta'_{d1} & \\Theta'_{d2} & ... & \\Theta'_{dd}\n",
    "\\end{pmatrix}\n",
    "$$  \n",
    "\n",
    "After obtaining the observed information matrix, we can simply plug in and get the Fisher information matrix:  \n",
    "\n",
    "$$\n",
    "\\mathbf{E}[-d^2L(\\alpha)] = \\mathbf{E}[\\Theta'_{jk}] = \\sum\\Theta'_{jk}p(\\Theta)  \n",
    "$$\n",
    "\n",
    "To use the Fisher information matrix, we need to compute the expected value of the observed matrix, which is really difficult, so the Fisher scoring method is inefficient for this problem"
   ]
  },
  {
   "cell_type": "markdown",
   "metadata": {},
   "source": [
    "## Q6\n",
    "\n",
    "What structure does the observed information matrix possess that can facilitate the evaluation of the Newton direction? Is the observed information matrix always positive definite? What remedy can we take if it fails to be positive definite? (Hint: HW1 Q6.)"
   ]
  },
  {
   "cell_type": "markdown",
   "metadata": {},
   "source": [
    "### Answer to Q6  \n",
    "\n",
    "The observed information matrix can be decomposed as following\n",
    "$$\n",
    "-d^2L(\\alpha) = \\mathbf{A} +\n",
    "  \\sum_{i=1}^n[\\Psi'(|\\alpha| + |x_{i}|) - \\Psi'(|\\alpha|)]\\mathbf{1}\\mathbf{1}^{T}\\\\\n",
    "  \\text{where $\\mathbf{A}$ is a diagonal matrix } \\\\\n",
    "  \\mathbf{A} = -\\sum_{i=1}^n[\\Psi'(\\alpha_{j} + x_{ij}) - \\Psi'(\\alpha_{j})] \n",
    "$$\n",
    "\n",
    "To make use the special structure of the observed information matrix, we can use the Woodbury formula as showed in HW1 Q6. \n",
    "\n",
    "We can denote $\\mathbf{A}$ as the diagonal matrix, $\\mathbf{B} = \\sum_{i=1}^n[\\Psi'(|\\alpha| + |x_{i}|) - \\Psi'(|\\alpha|)]$, $\\mathbf{U} = \\mathbf{1}$, and  $\\mathbf{V} = \\mathbf{1}$. Then the observed information matrix can be written as:  \n",
    "\n",
    "$$\n",
    "-d^2L(\\alpha) = \\mathbf{A} + \\mathbf{U} \\mathbf{B} \\mathbf{V}^T\n",
    "$$\n",
    "\n",
    "\n",
    "We can see the $\\mathbf{B}$ is a scalar b, and we can use $c$ to represent $-b$. Then if we want the observed information matrix to be positive definite, the inverse of the matrix should also be PD.  \n",
    "\n",
    "Then inverse of the oberseved information matrix can be represented as the following:\n",
    "\n",
    "\n",
    "$$\n",
    "\t(\\mathbf{A} + \\mathbf{U} \\mathbf{B} \\mathbf{V}^T)^{-1} = \\mathbf{A}^{-1} + \\mathbf{A}^{-1} \\mathbf{U} (\\mathbf{B}^{-1} + \\mathbf{V}^T \\mathbf{A}^{-1} \\mathbf{U})^{-1} \\mathbf{V}^T \\mathbf{A}^{-1}\n",
    "$$  \n",
    "\n",
    "And it can be written as:  \n",
    "\n",
    "$$\n",
    "\t(\\mathbf{A} + \\mathbf{U} \\mathbf{B} \\mathbf{V}^T)^{-1} = \\mathbf{A}^{-1} + \\mathbf{A}^{-1} \\mathbf{U}\n",
    "    \\frac{c}{1 - c\\mathbf{V}^T \\mathbf{A}^{-1}\\mathbf{U}} \\mathbf{V}^T \\mathbf{A}^{-1}\n",
    "$$  \n",
    "\n",
    "So the observed information matrix is PD, if $\\frac{c}{1 - c\\mathbf{V}^T \\mathbf{A}^{-1}\\mathbf{U}} > 0$. If it fails to be PD, we can use the identity matrix $\\mathbf{I}$ to replace it. \n"
   ]
  },
  {
   "cell_type": "markdown",
   "metadata": {},
   "source": [
    "## Q7\n",
    "\n",
    "Discuss how to choose a good starting point. Implement this as the default starting value in your function below. (Hint: Method of moment estimator may furnish a good starting point.)  \n",
    "\n",
    "Moments of Dirichelet distribution:\n",
    "\n",
    "$$\n",
    "E[p_j] = \\frac{\\alpha_j}{\\sum_{i}\\alpha_i}\n",
    "$$  \n",
    "\n",
    "$$\n",
    "Var[p_j] = \\frac{\\alpha_j(|\\alpha|-\\alpha_j)}{(1+|\\alpha|)|\\alpha|^{2}}\n",
    "$$  \n",
    "\n",
    "Since $E[p_j^{2}] = Var[p_j] + [E[p_j]]^{2}$, $E[p_k^{2}]$ can be written as the following: \n",
    "\n",
    "$$\n",
    "\\begin{align*}\n",
    "E[p_j^{2}] &= \\frac{\\alpha_j(|\\alpha|-\\alpha_j)}{(1+|\\alpha|)|\\alpha|^{2}} + \\frac{\\alpha_j}{\\sum_{i}\\alpha_i}\\\\\n",
    "&=\\frac{\\alpha_{j}|\\alpha|(1+\\alpha_j)}{(1+|\\alpha|)|\\alpha|^{2}} \\\\\n",
    "&=E[p_j]\\frac{1+\\alpha_j}{1+|\\alpha|}\n",
    "\\end{align*}\n",
    "$$  \n",
    "\n",
    "Then for a given dataset $(x_1, x_2, ..., x_i)$, we can compute the moment estimator:  \n",
    "\n",
    "$$\n",
    "\\hat{E}[p_j] = \\frac{\\sum_{i=1}^n\\frac{x_{ij}}{|x_i|}}{n} \\\\\n",
    "\\hat{E}[p_j^2] = \\frac{\\sum_{i=1}^n(\\frac{x_{ij}}{|x_i|})^2}{n}\n",
    "$$   \n",
    "\n",
    "We can denote $v = \\sum_{j=1}^d\\frac{\\hat{E}[p_j^2]}{\\hat{E}[p_j]}$, and then we can have:  \n",
    "\n",
    "$$\n",
    "v = \\frac{d+|\\alpha|}{1+|\\alpha|} \\\\\n",
    "|\\alpha| = \\frac{d-1}{1-v} \\\\\n",
    "$$\n",
    "\n",
    "$$\n",
    "\\begin{align*}\n",
    "\\alpha_j &= \\hat{E}[p_j]|\\alpha| \\\\\n",
    "&= \\frac{\\sum_{i=1}^n\\frac{x_{ij}}{|x_i|}}{n}|\\alpha| \\\\\n",
    "&= \\frac{\\sum_{i=1}^n\\frac{x_{ij}}{|x_i|}}{n} \\frac{d-1}{1-v}\n",
    "\\end{align*}\n",
    "$$\n"
   ]
  },
  {
   "cell_type": "markdown",
   "metadata": {},
   "source": [
    "## Q8\n",
    "\n",
    "Write a function for finding MLE of Dirichlet-multinomial distribution given iid observations $\\mathbf{x}_1,\\ldots,\\mathbf{x}_n$, using the Newton's method. "
   ]
  },
  {
   "cell_type": "code",
   "execution_count": 5,
   "metadata": {
    "collapsed": false,
    "slideshow": {
     "slide_type": "notes"
    }
   },
   "outputs": [
    {
     "data": {
      "text/plain": [
       "dirmult_newton"
      ]
     },
     "execution_count": 5,
     "metadata": {},
     "output_type": "execute_result"
    }
   ],
   "source": [
    "\"\"\"\n",
    "    dirmult_newton(X)\n",
    "\n",
    "Find the MLE of Dirichlet-multinomial distribution using Newton's method.\n",
    "\n",
    "# Argument\n",
    "* `X`: an `n`-by-`d` matrix of counts; each column is one data point.\n",
    "\n",
    "# Optional argument  \n",
    "* `alpha0`: a `d` vector of starting point (optional). \n",
    "* `maxiters`: the maximum allowable Newton iterations (default 100). \n",
    "* `tolfun`: the tolerance for  relative change in objective values (default 1e-6). \n",
    "\n",
    "# Output\n",
    "* `maximum`: the log-likelihood at MLE.   \n",
    "* `estimate`: the MLE. \n",
    "* `gradient`: the gradient at MLE. \n",
    "* `hessian`: the Hessian at MLE. \n",
    "* `se`: a `d` vector of standard errors. \n",
    "* `iterations`: the number of iterations performed.\n",
    "\"\"\"\n",
    "# function dirmult_newton(X::Matrix; α0::Vector = nothing, \n",
    "            # maxiters::Int = 100, tolfun::Float64 = 1e-6)\n",
    "function dirmult_newton(X::Matrix;\n",
    "    maxiters::Int = 100, tolfun::Float64 = 1e-6)\n",
    "    \n",
    "    # set default starting point from Q7\n",
    "    tot_n = size(X, 2)\n",
    "    tot_d = size(X, 1)\n",
    "    α1 = nothing\n",
    "    α0 = nothing\n",
    "    nonzero_indx = find(sum(X, 2) .!= 0)\n",
    "    # rule zero zeros\n",
    "    X = X[nonzero_indx, :]\n",
    "    X_rowsum = sum(X, 1)\n",
    "    n = size(X, 2)\n",
    "    d = size(X, 1)\n",
    "    \n",
    "    # If the α is no initialized, use the moment estimator as a starting point\n",
    "    if α0 == nothing\n",
    "        p_hat = X ./ X_rowsum\n",
    "        v = sum(sum(p_hat.^2, 2) ./ sum(p_hat, 2))\n",
    "        α0 = sum(p_hat, 2) / n * (d - v) / (v - 1)\n",
    "    end\n",
    "    α0_sum = sum(α0)\n",
    "    # calculate the log likelihood of this data at the starting point\n",
    "    loglold = sum(dirmult_logpdf(X, squeeze(α0, 2)))\n",
    "    dL = zeros(d, 1)\n",
    "    ax = zeros(d, n)\n",
    "    axa = zeros(d, n)\n",
    "    inv_A = ones(d, 1)\n",
    "    ax_abs = zeros(1, n)\n",
    "    ax_tri = zeros(d, n)\n",
    "    direct = zeros(d, 1)\n",
    "    iterations = 0\n",
    "    # Newton loop\n",
    "    for iter in 1:maxiters\n",
    "        # evaluate gradient (score)\n",
    "        ax .= broadcast(+, X, α0)\n",
    "        axa .= broadcast(-, digamma.(ax), digamma.(α0))\n",
    "        ax_abs .= digamma.(broadcast(+, X_rowsum, α0_sum))\n",
    "        # compute the score\n",
    "        dL .= sum(axa, 2) - sum(ax_abs - digamma(α0_sum))\n",
    "        # compute Newton's direction\n",
    "        ax_tri = broadcast(-, trigamma.(ax), trigamma.(α0))\n",
    "        inv_A .= -1 ./ sum(ax_tri, 2)\n",
    "\n",
    "        # compute scaling factor c\n",
    "        c = - sum(trigamma.(broadcast(+, α0_sum, X_rowsum)) - \n",
    "            trigamma(α0_sum))\n",
    "        # the threshold to determin whether matrix is PD\n",
    "        thres = sum(inv_A)\n",
    "        if c < 1 / thres\n",
    "            c = c\n",
    "        else\n",
    "            c = 0.99 * 1 / thres\n",
    "        end\n",
    "        # computer the direction\n",
    "        direct .= inv_A .* dL + \n",
    "            (c / (1 - c * thres)) * inv_A * (inv_A' * dL)\n",
    "        s_temp = - 0.99 * α0 ./ direct\n",
    "        # ensure all steps are positive\n",
    "        s_temp[find(s_temp .< 0)] = 10\n",
    "        # get the minimum step\n",
    "        s = minimum(s_temp)\n",
    "        # line search loop\n",
    "        # for lsiter in 1:10\n",
    "        logl_new = loglold - 1\n",
    "        while logl_new < loglold\n",
    "            # step halving\n",
    "            s = s / 2\n",
    "            α1 = α0 + s * direct\n",
    "            logl_new = sum(dirmult_logpdf(X, squeeze(α1, 2)))\n",
    "        end\n",
    "        # compute the loglikelihood\n",
    "        logl = sum(dirmult_logpdf(X, squeeze(α1, 2)))\n",
    "        # check convergence criterion\n",
    "        if abs(logl - loglold) < tolfun * (abs(loglold) + 1)\n",
    "            loglold = logl\n",
    "            α0 = α1\n",
    "            α0_sum = sum(α0)\n",
    "            iterations = iterations + 1\n",
    "            break;\n",
    "        end\n",
    "        loglold = logl\n",
    "        α0 = α1\n",
    "        α0_sum = sum(α0)\n",
    "        iterations = iterations + 1\n",
    "    end\n",
    "    # compute logl, gradient, Hessian from final iterate\n",
    "    c = - sum(trigamma.(broadcast(+, α0_sum, X_rowsum)) - \n",
    "            trigamma(α0_sum))\n",
    "    H_tempt = - Diagonal(squeeze(sum(broadcast(-, \n",
    "        trigamma.(broadcast(+, X, α0)), \n",
    "        trigamma.(α0)), 2), 2)) - c * ones(d, d)\n",
    "    hessian = zeros(tot_d, tot_d)\n",
    "    hessian[nonzero_indx, nonzero_indx] = - H_tempt\n",
    "    # output\n",
    "    inv_A .= -1 ./ sum(broadcast(-, \n",
    "        trigamma.(broadcast(+, X, α0)), trigamma.(α0)), 2)\n",
    "    thres = sum(inv_A)\n",
    "    inv_H = Diagonal(Diagonal(squeeze(inv_A, 2)) + \n",
    "        c / (1 - c * thres) * (inv_A * inv_A'))[:]\n",
    "    inv_H = inv_H[find(inv_H .!= 0)]\n",
    "    # compute standard errors\n",
    "    se = zeros(tot_d)\n",
    "    se[nonzero_indx] = sqrt.(inv_H)\n",
    "    dL = sum(broadcast(-, \n",
    "        digamma.(broadcast(+, X, α0)), digamma.(α0)), 2) - \n",
    "        sum(digamma.(broadcast(+, α0_sum, X_rowsum)) - \n",
    "        digamma(α0_sum))\n",
    "    gradient = zeros(tot_d)\n",
    "    fill!(gradient, sum(digamma.(broadcast(+,\n",
    "        α0_sum, X_rowsum)) - digamma(α0_sum)))\n",
    "    gradient[nonzero_indx] = dL\n",
    "    estimate = zeros(tot_d)\n",
    "    estimate[nonzero_indx] = α0\n",
    "    maximum = loglold\n",
    "    return maximum, estimate, gradient, \n",
    "        hessian, se, iterations\n",
    "end"
   ]
  },
  {
   "cell_type": "markdown",
   "metadata": {},
   "source": [
    "## Q9\n",
    "\n",
    "Read in `optdigits.tra`, the training set of 3823 handwritten digits. Find the MLE for the subset of digit 0, digit 1, ..., and digit 9 separately using your function. "
   ]
  },
  {
   "cell_type": "code",
   "execution_count": 7,
   "metadata": {
    "collapsed": false
   },
   "outputs": [],
   "source": [
    "# Read digits data\n",
    "digits = CSV.read(\"optdigits.tra\", datarow=1)\n",
    "digits = Matrix{Float64}(digits);\n",
    "X = digits[:, 1:64]';\n",
    "Y = digits[:, 65];"
   ]
  },
  {
   "cell_type": "code",
   "execution_count": 8,
   "metadata": {
    "collapsed": false
   },
   "outputs": [],
   "source": [
    "logl_dmul = zeros(10)\n",
    "αs = zeros(size(X, 1), 10)\n",
    "for i = 1:10\n",
    "    mask_indx = find(Y .== (i - 1))\n",
    "    cur_X = X[:, mask_indx]\n",
    "    logl, α, _, _, _, _ = dirmult_newton(cur_X)\n",
    "    αs[:, i] = α\n",
    "    logl_dmul[i] = logl\n",
    "end"
   ]
  },
  {
   "cell_type": "code",
   "execution_count": 9,
   "metadata": {
    "collapsed": false
   },
   "outputs": [
    {
     "data": {
      "text/plain": [
       "10-element Array{Float64,1}:\n",
       " -37358.4\n",
       " -42179.2\n",
       " -39985.3\n",
       " -40519.5\n",
       " -43488.8\n",
       " -41191.3\n",
       " -37702.5\n",
       " -40304.0\n",
       " -43130.8\n",
       " -43709.7"
      ]
     },
     "execution_count": 9,
     "metadata": {},
     "output_type": "execute_result"
    }
   ],
   "source": [
    "logl_dmul"
   ]
  },
  {
   "cell_type": "code",
   "execution_count": 10,
   "metadata": {
    "collapsed": false
   },
   "outputs": [
    {
     "data": {
      "text/plain": [
       "64×10 Array{Float64,2}:\n",
       "  0.0        0.0         0.0         …  0.0         0.0         0.0      \n",
       "  0.037521   0.00799485  0.389224       0.139703    0.0880737   0.0762236\n",
       "  5.00648    0.513408    3.82177        2.49721     2.49899     1.53114  \n",
       " 14.9374     2.09512     5.25219        5.05992     5.83668     3.70754  \n",
       " 12.1981     3.05279     2.51407        5.45268     5.58504     3.74031  \n",
       "  2.46241    1.31915     0.311054    …  4.46356     2.42347     1.51328  \n",
       "  0.0636524  0.13767     0.0157919      1.71971     0.199845    0.298747 \n",
       "  0.0        0.0         0.0            0.17892     0.0         0.0159396\n",
       "  0.0        0.0         0.0            0.0         0.00219805  0.0      \n",
       "  1.02626    0.0572464   1.73584        0.254889    1.0232      0.667339 \n",
       " 14.6382     1.03911     5.50771     …  3.17638     6.10708     4.02707  \n",
       " 14.7992     3.23514     4.75994        3.99204     4.56584     3.35442  \n",
       " 13.7833     4.09905     4.4493         4.17165     4.08871     3.29471  \n",
       "  ⋮                                  ⋱                                   \n",
       " 11.76       4.044       4.40268        1.55758     3.34662     2.22439  \n",
       " 15.2824     2.26935     3.84834        0.053174    4.03576     2.62094  \n",
       "  2.5981     0.272601    2.37057        0.00190976  0.776119    0.98429  \n",
       "  0.0        0.0303132   0.136336    …  0.0         0.0         0.0159762\n",
       "  0.0        0.0         0.00193829     0.0         0.0         0.0      \n",
       "  0.020807   0.0176999   0.355543       0.0992489   0.0780823   0.0534834\n",
       "  5.03984    0.513976    3.89257        2.83904     2.57518     1.46648  \n",
       " 15.4198     2.01552     5.27249        4.12117     6.17349     3.77051  \n",
       " 15.1172     3.51811     4.94475     …  0.451523    5.71548     3.56298  \n",
       "  5.83952    2.20477     4.5275         0.0117431   2.69131     1.61594  \n",
       "  0.194839   0.407905    3.02522        0.0         0.299835    0.335564 \n",
       "  0.0        0.0418877   0.335214       0.0         0.00660306  0.0070225"
      ]
     },
     "execution_count": 10,
     "metadata": {},
     "output_type": "execute_result"
    }
   ],
   "source": [
    "αs"
   ]
  },
  {
   "cell_type": "markdown",
   "metadata": {},
   "source": [
    "## Q10\n",
    "\n",
    "As $\\alpha / |\\alpha| \\to \\mathbf{p}$, the Dirichlet-multinomial distribution converges to a multinomial with parameter $\\mathbf{p}$. Therefore multinomial can be considered as a special Dirichlet-multinomial with $|\\alpha|=\\infty$. Perform a likelihood ratio test (LRT) whether Dirichlet-multinomial offers a better fit than multinomial for digits 0, 1, ..., 9 respectively.  "
   ]
  },
  {
   "cell_type": "markdown",
   "metadata": {},
   "source": [
    "### Answer to Q10  \n",
    "\n",
    "First, we can compute the MLE estimation with Dirichelet-multinomial from Q9. "
   ]
  },
  {
   "cell_type": "markdown",
   "metadata": {},
   "source": [
    "Then we can compute the loglikehood with the multinomial model:  \n",
    "\n",
    "$$\n",
    "\\hat{P}_i = \\frac{\\alpha_i}{|\\alpha|}\n",
    "$$"
   ]
  },
  {
   "cell_type": "code",
   "execution_count": 11,
   "metadata": {
    "collapsed": false
   },
   "outputs": [
    {
     "data": {
      "text/plain": [
       "multinomial_mle (generic function with 1 method)"
      ]
     },
     "execution_count": 11,
     "metadata": {},
     "output_type": "execute_result"
    }
   ],
   "source": [
    "function multinomial_est(X::Matrix)\n",
    "    p = sum(X, 2) / sum(X)\n",
    "    return p\n",
    "end\n",
    "\n",
    "\n",
    "function multinomial_mle(X::Matrix, p)\n",
    "    p = p[find(p .!= 0)]\n",
    "    X = X[find(sum(X, 2) .!= 0), :]\n",
    "    X_rowsum = sum(X, 1)\n",
    "    logl = sum(lgamma.(X_rowsum + 1) - \n",
    "        sum(lgamma.(X + 1), 1) + \n",
    "        sum(broadcast(*, X, log.(p)), 1))\n",
    "    return logl\n",
    "    \n",
    "end"
   ]
  },
  {
   "cell_type": "code",
   "execution_count": 12,
   "metadata": {
    "collapsed": false
   },
   "outputs": [],
   "source": [
    "# Read digits data\n",
    "digits = CSV.read(\"optdigits.tra\", datarow=1)\n",
    "digits = Matrix{Float64}(digits);\n",
    "X = digits[:, 1:64]';\n",
    "Y = digits[:, 65];\n",
    "logl_mul = zeros(10)\n",
    "for i = 1:10\n",
    "    mask_indx = find(Y .== (i - 1))\n",
    "    cur_X = X[:, mask_indx]\n",
    "    p_mle = multinomial_est(cur_X)\n",
    "    logl_mul[i] = multinomial_mle(cur_X, p_mle)\n",
    "end"
   ]
  },
  {
   "cell_type": "code",
   "execution_count": 13,
   "metadata": {
    "collapsed": false
   },
   "outputs": [
    {
     "data": {
      "text/plain": [
       "10-element Array{Float64,1}:\n",
       " -39592.2\n",
       " -54039.2\n",
       " -49111.5\n",
       " -47089.1\n",
       " -57344.1\n",
       " -51713.0\n",
       " -42597.3\n",
       " -49473.0\n",
       " -49695.9\n",
       " -54577.8"
      ]
     },
     "execution_count": 13,
     "metadata": {},
     "output_type": "execute_result"
    }
   ],
   "source": [
    "logl_mul"
   ]
  },
  {
   "cell_type": "markdown",
   "metadata": {},
   "source": [
    "The LRT test begins with a comparison of the likelihood scores of the two models:  \n",
    "\n",
    "$$\n",
    "lR = 2 \\times (\\ln(x)_1 - \\ln(x)_2)\n",
    "$$  \n",
    "\n",
    "And the LRT statistic approximately follows a Chi-square distribution."
   ]
  },
  {
   "cell_type": "code",
   "execution_count": 14,
   "metadata": {
    "collapsed": false
   },
   "outputs": [
    {
     "data": {
      "text/plain": [
       "10-element Array{Float64,1}:\n",
       "  4467.56\n",
       " 23720.0 \n",
       " 18252.4 \n",
       " 13139.2 \n",
       " 27710.6 \n",
       " 21043.4 \n",
       "  9789.59\n",
       " 18338.0 \n",
       " 13130.0 \n",
       " 21736.3 "
      ]
     },
     "execution_count": 14,
     "metadata": {},
     "output_type": "execute_result"
    }
   ],
   "source": [
    "LR = 2 * (logl_dmul - logl_mul)"
   ]
  },
  {
   "cell_type": "code",
   "execution_count": 15,
   "metadata": {
    "collapsed": false
   },
   "outputs": [],
   "source": [
    "# Pkg.add(\"RCall\")\n",
    "using RCall"
   ]
  },
  {
   "cell_type": "code",
   "execution_count": 16,
   "metadata": {
    "collapsed": false
   },
   "outputs": [
    {
     "data": {
      "text/plain": [
       "RCall.RObject{RCall.RealSxp}\n",
       " [1] 1 1 1 1 1 1 1 1 1 1\n"
      ]
     },
     "execution_count": 16,
     "metadata": {},
     "output_type": "execute_result"
    }
   ],
   "source": [
    "P_tempt = R\"\"\"\n",
    "pchisq($LR, 1)\n",
    "\"\"\""
   ]
  },
  {
   "cell_type": "code",
   "execution_count": 17,
   "metadata": {
    "collapsed": false
   },
   "outputs": [
    {
     "data": {
      "text/plain": [
       "10-element Array{Float64,1}:\n",
       " 0.0\n",
       " 0.0\n",
       " 0.0\n",
       " 0.0\n",
       " 0.0\n",
       " 0.0\n",
       " 0.0\n",
       " 0.0\n",
       " 0.0\n",
       " 0.0"
      ]
     },
     "execution_count": 17,
     "metadata": {},
     "output_type": "execute_result"
    }
   ],
   "source": [
    "P_chi = 1 - collect(P_tempt)"
   ]
  },
  {
   "cell_type": "code",
   "execution_count": 18,
   "metadata": {
    "collapsed": true
   },
   "outputs": [],
   "source": [
    "using DataFrames"
   ]
  },
  {
   "cell_type": "code",
   "execution_count": 20,
   "metadata": {
    "collapsed": false
   },
   "outputs": [
    {
     "data": {
      "text/html": [
       "<table class=\"data-frame\"><thead><tr><th></th><th>loglikelihood_Dirichlet</th><th>loglikelihood_Multi</th><th>loglikelihood_Diff</th><th>p_value</th></tr></thead><tbody><tr><th>1</th><td>-37358.4</td><td>-39592.2</td><td>4467.56</td><td>0.0</td></tr><tr><th>2</th><td>-42179.2</td><td>-54039.2</td><td>23720.0</td><td>0.0</td></tr><tr><th>3</th><td>-39985.3</td><td>-49111.5</td><td>18252.4</td><td>0.0</td></tr><tr><th>4</th><td>-40519.5</td><td>-47089.1</td><td>13139.2</td><td>0.0</td></tr><tr><th>5</th><td>-43488.8</td><td>-57344.1</td><td>27710.6</td><td>0.0</td></tr><tr><th>6</th><td>-41191.3</td><td>-51713.0</td><td>21043.4</td><td>0.0</td></tr><tr><th>7</th><td>-37702.5</td><td>-42597.3</td><td>9789.59</td><td>0.0</td></tr><tr><th>8</th><td>-40304.0</td><td>-49473.0</td><td>18338.0</td><td>0.0</td></tr><tr><th>9</th><td>-43130.8</td><td>-49695.9</td><td>13130.0</td><td>0.0</td></tr><tr><th>10</th><td>-43709.7</td><td>-54577.8</td><td>21736.3</td><td>0.0</td></tr></tbody></table>"
      ],
      "text/plain": [
       "10×4 DataFrames.DataFrame. Omitted printing of 1 columns\n",
       "│ Row │ loglikelihood_Dirichlet │ loglikelihood_Multi │ loglikelihood_Diff │\n",
       "├─────┼─────────────────────────┼─────────────────────┼────────────────────┤\n",
       "│ 1   │ -37358.4                │ -39592.2            │ 4467.56            │\n",
       "│ 2   │ -42179.2                │ -54039.2            │ 23720.0            │\n",
       "│ 3   │ -39985.3                │ -49111.5            │ 18252.4            │\n",
       "│ 4   │ -40519.5                │ -47089.1            │ 13139.2            │\n",
       "│ 5   │ -43488.8                │ -57344.1            │ 27710.6            │\n",
       "│ 6   │ -41191.3                │ -51713.0            │ 21043.4            │\n",
       "│ 7   │ -37702.5                │ -42597.3            │ 9789.59            │\n",
       "│ 8   │ -40304.0                │ -49473.0            │ 18338.0            │\n",
       "│ 9   │ -43130.8                │ -49695.9            │ 13130.0            │\n",
       "│ 10  │ -43709.7                │ -54577.8            │ 21736.3            │"
      ]
     },
     "execution_count": 20,
     "metadata": {},
     "output_type": "execute_result"
    }
   ],
   "source": [
    "df = DataFrame(loglikelihood_Dirichlet = logl_dmul, \n",
    "    loglikelihood_Multi = logl_mul, \n",
    "    loglikelihood_Diff = LR, p_value = P_chi)"
   ]
  },
  {
   "cell_type": "markdown",
   "metadata": {},
   "source": [
    "We can see the loglikelihood of Dirichlet-multinomial distribution is significantly better than the loglikelihood of multinomial, so Dirichlet-multinomial offers a better fit than multinomial for digits 0, 1, ..., 9 respectively."
   ]
  },
  {
   "cell_type": "markdown",
   "metadata": {},
   "source": [
    "## Q11\n",
    "\n",
    "Now we can construct a simple Bayesian rule for handwritten digits recognition:\n",
    "$$\n",
    "\t\\mathbf{x}\t\\mapsto \\arg \\max_k \\widehat \\pi_k f(x|\\widehat \\alpha_k).\n",
    "$$\n",
    "Here we can use the proportion of digit $k$ in the training set as the prior probability $\\widehat \\pi_k$. Report the performance of your classifier on the test set of 1797 digits in `optdigits.tes`."
   ]
  },
  {
   "cell_type": "code",
   "execution_count": 21,
   "metadata": {
    "collapsed": false
   },
   "outputs": [
    {
     "data": {
      "text/plain": [
       "10-element Array{Float64,1}:\n",
       " 0.0983521\n",
       " 0.101753 \n",
       " 0.0993984\n",
       " 0.101753 \n",
       " 0.101229 \n",
       " 0.0983521\n",
       " 0.0986137\n",
       " 0.101229 \n",
       " 0.0993984\n",
       " 0.0999215"
      ]
     },
     "execution_count": 21,
     "metadata": {},
     "output_type": "execute_result"
    }
   ],
   "source": [
    "# load training set\n",
    "# Read digits data\n",
    "digits = CSV.read(\"optdigits.tra\", datarow=1)\n",
    "digits = Matrix{Float64}(digits);\n",
    "X = digits[:, 1:64]';\n",
    "Y = digits[:, 65];\n",
    "# compute the prior probablity\n",
    "prior = zeros(10)\n",
    "for i = 1:10\n",
    "    prior[i] = sum(Y .== (i - 1))\n",
    "end\n",
    "prior = prior ./ sum(prior)"
   ]
  },
  {
   "cell_type": "code",
   "execution_count": 22,
   "metadata": {
    "collapsed": false
   },
   "outputs": [],
   "source": [
    "# read in test data\n",
    "digits = CSV.read(\"optdigits.tes\", datarow = 1)\n",
    "digits = Matrix{Float64}(digits)\n",
    "X_test = digits[:, 1:64]';\n",
    "Y_test = digits[:, 65];"
   ]
  },
  {
   "cell_type": "code",
   "execution_count": 23,
   "metadata": {
    "collapsed": false
   },
   "outputs": [],
   "source": [
    "n_samples = size(X_test, 2)\n",
    "logl_test = zeros(n_samples, 10)\n",
    "\n",
    "for i = 1:10\n",
    "    nonzero_indx = find(αs[:, i] .!= 0)\n",
    "    cur_X_test = X_test[nonzero_indx, :]\n",
    "    αs_tempt = αs[nonzero_indx, i]\n",
    "    logl_test[:, i] = \n",
    "        prior[i] * dirmult_logpdf(cur_X_test, αs_tempt)\n",
    "end"
   ]
  },
  {
   "cell_type": "code",
   "execution_count": 24,
   "metadata": {
    "collapsed": false
   },
   "outputs": [
    {
     "data": {
      "text/plain": [
       "findallmax (generic function with 1 method)"
      ]
     },
     "execution_count": 24,
     "metadata": {},
     "output_type": "execute_result"
    }
   ],
   "source": [
    "# Find maximum values and their corresponding indices\n",
    "function findallmax(arr)\n",
    "    max_positions = Vector{Int}()\n",
    "    min_val = typemin(eltype(arr))\n",
    "    for i in eachindex(arr)\n",
    "        if arr[i] > min_val\n",
    "            min_val = arr[i]\n",
    "            empty!(max_positions)\n",
    "            push!(max_positions, i)\n",
    "        elseif arr[i] == min_val\n",
    "            push!(max_positions, i)\n",
    "        end\n",
    "    end\n",
    "    max_positions\n",
    "end"
   ]
  },
  {
   "cell_type": "code",
   "execution_count": 25,
   "metadata": {
    "collapsed": false
   },
   "outputs": [],
   "source": [
    "preds = zeros(n_samples)\n",
    "for i = 1:n_samples\n",
    "    preds[i] = findallmax(logl_test[i, :])[1] - 1\n",
    "end"
   ]
  },
  {
   "cell_type": "code",
   "execution_count": 26,
   "metadata": {
    "collapsed": false
   },
   "outputs": [
    {
     "data": {
      "text/plain": [
       "0.1229827490261547"
      ]
     },
     "execution_count": 26,
     "metadata": {},
     "output_type": "execute_result"
    }
   ],
   "source": [
    "n_errs = sum(preds .!= Y_test)\n",
    "err_rate = n_errs / n_samples"
   ]
  },
  {
   "cell_type": "code",
   "execution_count": null,
   "metadata": {
    "collapsed": true
   },
   "outputs": [],
   "source": []
  }
 ],
 "metadata": {
  "anaconda-cloud": {},
  "kernelspec": {
   "display_name": "Julia 0.6.2",
   "language": "julia",
   "name": "julia-0.6"
  },
  "language_info": {
   "file_extension": ".jl",
   "mimetype": "application/julia",
   "name": "julia",
   "version": "0.6.2"
  },
  "toc": {
   "colors": {
    "hover_highlight": "#DAA520",
    "running_highlight": "#FF0000",
    "selected_highlight": "#FFD700"
   },
   "moveMenuLeft": true,
   "nav_menu": {
    "height": "65px",
    "width": "252px"
   },
   "navigate_menu": true,
   "number_sections": false,
   "sideBar": true,
   "threshold": 4,
   "toc_cell": false,
   "toc_section_display": "block",
   "toc_window_display": false,
   "widenNotebook": false
  }
 },
 "nbformat": 4,
 "nbformat_minor": 0
}
