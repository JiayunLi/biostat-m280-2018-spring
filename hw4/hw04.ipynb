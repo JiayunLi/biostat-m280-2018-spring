{
 "cells": [
  {
   "cell_type": "markdown",
   "metadata": {},
   "source": [
    "# Biostat M280 Homework 4\n",
    "\n",
    "**Due June 12 @ 11:59PM**"
   ]
  },
  {
   "cell_type": "markdown",
   "metadata": {},
   "source": [
    "In this homework, we build a classifer for handwritten digit recognition. Following figure shows example bitmaps of handwritten digits from U.S. postal envelopes. \n",
    "\n",
    "<img src=\"./handwritten_digits.png\" width=\"400\" align=\"center\"/>\n",
    "\n",
    "Each digit is represented by a $32 \\times 32$ bitmap in which each element indicates one pixel with a value of white or black. Each $32 \\times 32$ bitmap is divided into blocks of $4 \\times 4$, and the number of white pixels are counted in each block. Therefore each handwritten digit is summarized by a vector $\\mathbf{x} = (x_1, \\ldots, x_{64})$ of length 64 where each element is a count between 0 and 16. \n",
    "\n",
    "We will use a model-based method by assuming a distribution on the count vector and carry out classification using probabilities. A common distribution for count vectors is the multinomial distribution. However as you will see in Q10, it is not a good model for handwritten digits. Let's work on a more flexible model for count vectors. In the Dirichlet-multinomial model, we assume the multinomial probabilities $\\mathbf{p} = (p_1,\\ldots, p_d)$ follow a Dirichlet distribution with parameter vector $\\alpha = (\\alpha_1,\\ldots, \\alpha_d)$, $\\alpha_j>0$, and density\n",
    "$$\n",
    "\\begin{eqnarray*}\n",
    "\t\\pi(\\mathbf{p}) =  \\frac{\\Gamma(|\\alpha|)}{\\prod_{j=1}^d \\Gamma(\\alpha_j)} \\prod_{j=1}^d p_j^{\\alpha_j-1},\n",
    "\\end{eqnarray*} \n",
    "$$\n",
    "where $|\\alpha|=\\sum_{j=1}^d \\alpha_j$."
   ]
  },
  {
   "cell_type": "markdown",
   "metadata": {},
   "source": [
    "## Q1\n",
    "\n",
    "For a multivariate count vector $\\mathbf{x}=(x_1,\\ldots,x_d)$ with batch size $|\\mathbf{x}|=\\sum_{j=1}^d x_j$, show that the probability mass function for Dirichlet-multinomial distribution is\n",
    "$$\n",
    "    f(\\mathbf{x} \\mid \\alpha) \n",
    "\t= \\int_{\\Delta_d} \\binom{|\\mathbf{x}|}{\\mathbf{x}} \\prod_{j=1}^d p_j^{x_j} \\pi(\\mathbf{p}) \\, d \\mathbf{p}  \n",
    "    = \\binom{|\\mathbf{x}|}{\\mathbf{x}} \\frac{\\prod_{j=1}^d \\Gamma(\\alpha_j+x_j)}{\\prod_{j=1}^d \\Gamma(\\alpha_j)} \\frac{\\Gamma(|\\alpha|)}{\\Gamma(|\\alpha|+|\\mathbf{x}|)}\n",
    "$$\n",
    "where $\\Delta_d$ is the unit simplex in $d$ dimensions and $|\\alpha| = \\sum_{j=1}^d \\alpha_j$.\n"
   ]
  },
  {
   "cell_type": "markdown",
   "metadata": {},
   "source": [
    "### Answer to Q1  \n",
    "\n",
    "According to the definition of probablity mass function, we can get the following:  \n",
    "$$\n",
    "f(\\mathbf{x} \\mid \\alpha) \n",
    "    = \\int_{\\Delta_d}f(\\mathbf{x} \\mid \\mathbf{p})\\,f(\\mathbf{p} \\mid \\alpha)\\,d \\mathbf{p} \n",
    "\t= \\int_{\\Delta_d} \\binom{|\\mathbf{x}|}{\\mathbf{x}} \\prod_{j=1}^d p_j^{x_j} \\pi(\\mathbf{p}) \\, d \\mathbf{p}   \n",
    "$$\n",
    "Then we will show it equals to the second part.  \n",
    "\n",
    "$$\n",
    "\\begin{aligned}\n",
    "f(\\mathbf{x} \\mid \\alpha)\n",
    "\t&= \\int_{\\Delta_d} \\binom{|\\mathbf{x}|}{\\mathbf{x}} \\prod_{j=1}^d p_j^{x_j} \\pi(\\mathbf{p}) \\, d \\mathbf{p}\\\\\n",
    "    &= 1\n",
    "\\end{aligned}\n",
    "$$"
   ]
  },
  {
   "cell_type": "markdown",
   "metadata": {},
   "source": [
    "## Q2\n",
    "\n",
    "Given independent data points $\\mathbf{x}_1, \\ldots, \\mathbf{x}_n$, show that the log-likelihood is\n",
    "$$\n",
    "L(\\alpha) = \\sum_{i=1}^n \\ln \\binom{|\\mathbf{x}_i|}{\\mathbf{x}_i} + \\sum_{i=1}^n \\sum_{j=1}^d [\\ln \\Gamma(\\alpha_j + x_{ij}) - \\ln \\Gamma(\\alpha_j)] - \\sum_{i=1}^n [\\ln \\Gamma(|\\alpha|+|\\mathbf{x}_i|) - \\ln \\Gamma(|\\alpha|)].\n",
    "$$\n",
    "Is the log-likelihood a concave function?"
   ]
  },
  {
   "cell_type": "markdown",
   "metadata": {},
   "source": [
    "### Answer to Q2 \n",
    "\n",
    "From Q1, we can get the probablity mass function. Since $(x_{1}, x_{2}, ..., x_{i})$ are independent, we can take log of the probablity mass function for each $x_{i}$ and take the summation. Then we can get the log-likelihood function: \n",
    "\n",
    "\n",
    "\n",
    "$$\n",
    "L(\\alpha) = \\sum_{i=1}^n \\ln \\binom{|\\mathbf{x}_i|}{\\mathbf{x}_i} + \\sum_{i=1}^n \\sum_{j=1}^d [\\ln \\Gamma(\\alpha_j + x_{ij}) - \\ln \\Gamma(\\alpha_j)] - \\sum_{i=1}^n [\\ln \\Gamma(|\\alpha|+|\\mathbf{x}_i|) - \\ln \\Gamma(|\\alpha|)].\n",
    "$$\n",
    "\n",
    "This is not a concave function, and it can be "
   ]
  },
  {
   "cell_type": "markdown",
   "metadata": {},
   "source": [
    "## Q3\n",
    "\n",
    "Write Julia function to compute the log-density of the Dirichlet-multinomial distribution."
   ]
  },
  {
   "cell_type": "code",
   "execution_count": 82,
   "metadata": {
    "collapsed": false
   },
   "outputs": [
    {
     "data": {
      "text/plain": [
       "dirmult_logpdf"
      ]
     },
     "execution_count": 82,
     "metadata": {},
     "output_type": "execute_result"
    }
   ],
   "source": [
    "\"\"\"\n",
    "    dirmult_logpdf(x::Vector, α::Vector)\n",
    "    \n",
    "Compute the log-pdf of Dirichlet-multinomial distribution with parameter `α` \n",
    "at data point `x`.\n",
    "\"\"\"\n",
    "function dirmult_logpdf(x::Vector, α::Vector)\n",
    "    # your code here\n",
    "    sum_x = sum(x)\n",
    "    sum_α = sum(α)\n",
    "    L = lgamma(sum_x + 1) - sum(lgamma.(x + 1)) + \n",
    "        sum(lgamma.(x + α)) - sum(lgamma.(α)) - \n",
    "        lgamma(sum_α + sum_x) + lgamma(sum_α)\n",
    "    return L\n",
    "end\n",
    "\n",
    "function dirmult_logpdf!(r::Vector, X::Matrix, α::Vector)\n",
    "    for j in 1:size(X, 2)\n",
    "        r[j] = dirmult_logpdf(X[:, j], α)\n",
    "    end\n",
    "    return r\n",
    "end\n",
    "\n",
    "\"\"\"\n",
    "    dirmult_logpdf(X, α)\n",
    "    \n",
    "Compute the log-pdf of Dirichlet-multinomial distribution with parameter `α` \n",
    "at each data point in `X`. Each column of `X` is one data point.\n",
    "\"\"\"\n",
    "function dirmult_logpdf(X::Matrix, α::Vector)\n",
    "    r = zeros(size(X, 2))\n",
    "    dirmult_logpdf!(r, X, α)\n",
    "end"
   ]
  },
  {
   "cell_type": "code",
   "execution_count": 7,
   "metadata": {
    "collapsed": true
   },
   "outputs": [],
   "source": [
    "using CSV"
   ]
  },
  {
   "cell_type": "markdown",
   "metadata": {},
   "source": [
    "## Q4\n",
    "\n",
    "Read in `optdigits.tra`, the training set of 3823 handwritten digits. Each row contains the 64 counts of a digit and the last element (65th element) indicates what digit it is. For grading purpose, evaluate the total log-likelihood of this data at parameter values $\\alpha=(1,\\ldots,1)$ using your function in Q3."
   ]
  },
  {
   "cell_type": "code",
   "execution_count": null,
   "metadata": {
    "collapsed": true
   },
   "outputs": [],
   "source": [
    "# Read digits data\n",
    "digits = Matrix{Float64}(CSV.read(\"optdigits.tra\", datarow = 1));\n",
    "X = digits[:, 1:64]';\n",
    "Y = digits[:, 65];"
   ]
  },
  {
   "cell_type": "code",
   "execution_count": 85,
   "metadata": {
    "collapsed": false
   },
   "outputs": [
    {
     "data": {
      "text/plain": [
       "-638817.993292528"
      ]
     },
     "execution_count": 85,
     "metadata": {},
     "output_type": "execute_result"
    }
   ],
   "source": [
    "α = ones(64)\n",
    "r = dirmult_logpdf(X, α)\n",
    "sum(r)"
   ]
  },
  {
   "cell_type": "markdown",
   "metadata": {},
   "source": [
    "## Q5\n",
    "\n",
    "Derive the score function $\\nabla L(\\alpha)$, observed information matrix $-d^2L(\\alpha)$, and Fisher information matrix $\\mathbf{E}[-d^2L(\\alpha)]$ for the Dirichlet-multinomial distribution.\n",
    "\n",
    "Comment on why Fisher scoring method is inefficient for computing MLE in this example."
   ]
  },
  {
   "cell_type": "markdown",
   "metadata": {},
   "source": [
    "### Answer to Q5  \n",
    "\n",
    "The derivative of $\\ln(\\Gamma(z))$ is defined as the following:  \n",
    "\n",
    "$$\n",
    " \\Psi(z) = \\frac{d\\ln\\Gamma(z)}{dz} = \\frac{\\Gamma(z)^{'}}{\\Gamma(z)}\n",
    "$$\n",
    "\n",
    "$$\n",
    " \\Psi^{'}(z) = \\frac{\\Gamma(z)^{''}}{\\Gamma(z)} - (\\frac{\\Gamma(z)^{'}}{\\Gamma(z)})^{2}\n",
    "$$  \n",
    "\n",
    "Then we can derive the score function $\\nabla L(\\alpha)$:  \n",
    "\n",
    "$$\n",
    "\\Theta_{j}=\\frac{\\partial L(\\alpha)}{\\partial \\alpha_{j}} \n",
    "= \\sum_{i=1}^n[\\Psi(\\alpha_{j} + x_{ij}) - \\Psi(\\alpha_{j})] - \\sum_{i=1}^n[\\Psi(|\\alpha| + |x_{i}|) - \\Psi(|\\alpha|)]\n",
    "$$\n",
    "\n",
    "$$\n",
    "\\nabla L(\\alpha) = \\begin{pmatrix}\n",
    "\\Theta_1\\\\\n",
    "\\Theta_2\\\\\n",
    "...\\\\\n",
    "\\Theta_d\n",
    "\\end{pmatrix}\\\\\n",
    "$$\n",
    "\n",
    "And the observed information matrix: \n",
    "\n",
    "\n",
    "$$\n",
    "-\\frac{\\partial ^{2} L(\\alpha)}{\\partial \\alpha_{j} \\alpha_{k}} = \\begin{cases}\n",
    "\t\\sum_{i=1}^n[\\Psi'(|\\alpha| + |x_{j}|) - \\Psi'(|\\alpha|)] & \\text{if $j \\neq k$} \\\\\n",
    "\t-\\sum_{i=1}^n[\\Psi'(\\alpha_{j} + x_{ij}) - \\Psi'(\\alpha_{j})] + \n",
    "    \\sum_{i=1}^n[\\Psi'(|\\alpha| + |x_{i}|) - \\Psi'(|\\alpha|)] & \\text{if $j == k$}\n",
    "\t\\end{cases}\n",
    "$$   \n",
    "\n",
    "\n",
    "$$\n",
    "-d^2L(\\alpha) = \\begin{pmatrix}\n",
    "\\Theta'_{11} & \\Theta'_{12} & ... & \\Theta'_{1d}\\\\ \n",
    "\\Theta'_{21} & \\Theta'_{22} & ... & \\Theta'_{2d}\\\\ \n",
    "... & ... & ... & ...\\\\ \n",
    "\\Theta'_{d1} & \\Theta'_{d2} & ... & \\Theta'_{dd}\n",
    "\\end{pmatrix}\n",
    "$$  \n",
    "\n",
    "After obtaining the observed information matrix, we can simply plug in and get the Fisher information matrix:  \n",
    "\n",
    "$$\n",
    "\\mathbf{E}[-d^2L(\\alpha)] = \\mathbf{E}[\\Theta'_{jk}] = \\sum\\Theta'_{jk}p(\\Theta)  \n",
    "$$\n",
    "\n",
    "To use the Fisher information matrix, we need to compute the expected value of the observed matrix, which is really difficult, so the Fisher scoring method is inefficient for this problem"
   ]
  },
  {
   "cell_type": "markdown",
   "metadata": {},
   "source": [
    "## Q6\n",
    "\n",
    "What structure does the observed information matrix possess that can facilitate the evaluation of the Newton direction? Is the observed information matrix always positive definite? What remedy can we take if it fails to be positive definite? (Hint: HW1 Q6.)"
   ]
  },
  {
   "cell_type": "markdown",
   "metadata": {},
   "source": [
    "### Answer to Q6  \n",
    "\n",
    "The observed information matrix can be decomposed as following\n",
    "$$\n",
    "-d^2L(\\alpha) = \\mathbf{A} +\n",
    "  \\sum_{i=1}^n[\\Psi'(|\\alpha| + |x_{i}|) - \\Psi'(|\\alpha|)]\\mathbf{1}\\mathbf{1}^{T}\\\\\n",
    "  \\text{where $\\mathbf{A}$ is a diagonal matrix } \\\\\n",
    "  \\mathbf{A} = -\\sum_{i=1}^n[\\Psi'(\\alpha_{j} + x_{ij}) - \\Psi'(\\alpha_{j})] \n",
    "$$\n",
    "\n",
    "To make use the special structure of the observed information matrix, we can use the Woodbury formula as showed in HW1 Q6. \n",
    "\n",
    "We can denote $\\mathbf{A}$ as the diagonal matrix, $\\mathbf{B} = \\sum_{i=1}^n[\\Psi'(|\\alpha| + |x_{i}|) - \\Psi'(|\\alpha|)]$, $\\mathbf{U} = \\mathbf{1}$, and  $\\mathbf{V} = \\mathbf{1}$. Then the observed information matrix can be written as:  \n",
    "\n",
    "$$\n",
    "-d^2L(\\alpha) = \\mathbf{A} + \\mathbf{U} \\mathbf{B} \\mathbf{V}^T\n",
    "$$\n",
    "\n",
    "\n",
    "We can see the $\\mathbf{B}$ is a scalar b, and we can use $d$ to represent $-b$. Then if we want the observed information matrix to be positive definite, the inverse of the matrix should also be PD.  \n",
    "\n",
    "Then inverse of the oberseved information matrix can be represented as the following:\n",
    "\n",
    "\n",
    "$$\n",
    "\t(\\mathbf{A} + \\mathbf{U} \\mathbf{B} \\mathbf{V}^T)^{-1} = \\mathbf{A}^{-1} + \\mathbf{A}^{-1} \\mathbf{U} (\\mathbf{B}^{-1} + \\mathbf{V}^T \\mathbf{A}^{-1} \\mathbf{U})^{-1} \\mathbf{V}^T \\mathbf{A}^{-1}\n",
    "$$  \n",
    "\n",
    "And it can be written as:  \n",
    "\n",
    "$$\n",
    "\t(\\mathbf{A} + \\mathbf{U} \\mathbf{B} \\mathbf{V}^T)^{-1} = \\mathbf{A}^{-1} - \\mathbf{A}^{-1} \\mathbf{U}\n",
    "    \\frac{c}{1 - c\\mathbf{V}^T \\mathbf{A}^{-1}\\mathbf{U}} \\mathbf{V}^T \\mathbf{A}^{-1}\n",
    "$$  \n",
    "\n",
    "So the observed information matrix is PD, if $\\frac{c}{1 - c\\mathbf{V}^T \\mathbf{A}^{-1}\\mathbf{U}} > 0$. If it fails to be PD, we can use the identity matrix $\\mathbf{I}$ to replace it. \n"
   ]
  },
  {
   "cell_type": "markdown",
   "metadata": {},
   "source": [
    "## Q7\n",
    "\n",
    "Discuss how to choose a good starting point. Implement this as the default starting value in your function below. (Hint: Method of moment estimator may furnish a good starting point.)  \n",
    "\n",
    "Moments of Dirichelet distribution:\n",
    "\n",
    "$$\n",
    "E[p_j] = \\frac{\\alpha_j}{\\sum_{i}\\alpha_i}\n",
    "$$  \n",
    "\n",
    "$$\n",
    "Var[p_j] = \\frac{\\alpha_j(|\\alpha|-\\alpha_j)}{(1+|\\alpha|)|\\alpha|^{2}}\n",
    "$$  \n",
    "\n",
    "Since $E[p_j^{2}] = Var[p_j] + [E[p_j]]^{2}$, $E[p_k^{2}]$ can be written as the following: \n",
    "\n",
    "$$\n",
    "\\begin{align*}\n",
    "E[p_j^{2}] &= \\frac{\\alpha_j(|\\alpha|-\\alpha_j)}{(1+|\\alpha|)|\\alpha|^{2}} + \\frac{\\alpha_j}{\\sum_{i}\\alpha_i}\\\\\n",
    "&=\\frac{\\alpha_{j}|\\alpha|(1+\\alpha_j)}{(1+|\\alpha|)|\\alpha|^{2}} \\\\\n",
    "&=E[p_j]\\frac{1+\\alpha_j}{1+|\\alpha|}\n",
    "\\end{align*}\n",
    "$$  \n",
    "\n",
    "Then for a given dataset $(x_1, x_2, ..., x_i)$, we can compute the moment estimator:  \n",
    "\n",
    "$$\n",
    "\\hat{E}[p_j] = \\frac{\\sum_{i=1}^n\\frac{x_{ij}}{|x_i|}}{n} \\\\\n",
    "\\hat{E}[p_j^2] = \\frac{\\sum_{i=1}^n(\\frac{x_{ij}}{|x_i|})^2}{n}\n",
    "$$   \n",
    "\n",
    "We can denote $v = \\sum_{j=1}^d\\frac{\\hat{E}[p_j^2]}{\\hat{E}[p_j]}$, and then we can have:  \n",
    "\n",
    "$$\n",
    "\\begin{align*}\n",
    "v = \\frac{d+|\\alpha|}{1+|\\alpha|} \\\\\n",
    "|\\alpha| = \\frac{d-1}{1-v} \\\\\n",
    "\\alpha_j &= E[p_j]|\\alpha|\n",
    "&=\n",
    "\\end{align*}\n",
    "$$\n"
   ]
  },
  {
   "cell_type": "markdown",
   "metadata": {},
   "source": [
    "## Q8\n",
    "\n",
    "Write a function for finding MLE of Dirichlet-multinomial distribution given iid observations $\\mathbf{x}_1,\\ldots,\\mathbf{x}_n$, using the Newton's method. "
   ]
  },
  {
   "cell_type": "code",
   "execution_count": 2,
   "metadata": {
    "collapsed": false
   },
   "outputs": [
    {
     "data": {
      "text/plain": [
       "dirmult_newton"
      ]
     },
     "execution_count": 2,
     "metadata": {},
     "output_type": "execute_result"
    }
   ],
   "source": [
    "\"\"\"\n",
    "    dirmult_newton(X)\n",
    "\n",
    "Find the MLE of Dirichlet-multinomial distribution using Newton's method.\n",
    "\n",
    "# Argument\n",
    "* `X`: an `n`-by-`d` matrix of counts; each column is one data point.\n",
    "\n",
    "# Optional argument  \n",
    "* `alpha0`: a `d` vector of starting point (optional). \n",
    "* `maxiters`: the maximum allowable Newton iterations (default 100). \n",
    "* `tolfun`: the tolerance for  relative change in objective values (default 1e-6). \n",
    "\n",
    "# Output\n",
    "* `maximum`: the log-likelihood at MLE.   \n",
    "* `estimate`: the MLE. \n",
    "* `gradient`: the gradient at MLE. \n",
    "* `hessian`: the Hessian at MLE. \n",
    "* `se`: a `d` vector of standard errors. \n",
    "* `iterations`: the number of iterations performed.\n",
    "\"\"\"\n",
    "function dirmult_newton(X::Matrix; α0::Vector = nothing, \n",
    "            maxiters::Int = 100, tolfun::Float64 = 1e-6)\n",
    "    \n",
    "    # set default starting point from Q7\n",
    "    \n",
    "    # Newton loop\n",
    "    for iter in 1:maxiters\n",
    "        # evaluate gradient (score)\n",
    "        \n",
    "        # compute Newton's direction\n",
    "        \n",
    "        # line search loop\n",
    "        for lsiter in 1:10\n",
    "            # step halving\n",
    "        end\n",
    "        \n",
    "        # check convergence criterion\n",
    "        if abs(logl - loglold) < tolfun * (abs(loglold) + 1)\n",
    "            break;\n",
    "        end\n",
    "    end\n",
    "    \n",
    "    # compute logl, gradient, Hessian from final iterate\n",
    "    \n",
    "    # output\n",
    "    \n",
    "end"
   ]
  },
  {
   "cell_type": "markdown",
   "metadata": {},
   "source": [
    "## Q9\n",
    "\n",
    "Read in `optdigits.tra`, the training set of 3823 handwritten digits. Find the MLE for the subset of digit 0, digit 1, ..., and digit 9 separately using your function. "
   ]
  },
  {
   "cell_type": "markdown",
   "metadata": {},
   "source": [
    "## Q10\n",
    "\n",
    "As $\\alpha / |\\alpha| \\to \\mathbf{p}$, the Dirichlet-multinomial distribution converges to a multinomial with parameter $\\mathbf{p}$. Therefore multinomial can be considered as a special Dirichlet-multinomial with $|\\alpha|=\\infty$. Perform a likelihood ratio test (LRT) whether Dirichlet-multinomial offers a better fit than multinomial for digits 0, 1, ..., 9 respectively."
   ]
  },
  {
   "cell_type": "markdown",
   "metadata": {},
   "source": [
    "## Q11\n",
    "\n",
    "Now we can construct a simple Bayesian rule for handwritten digits recognition:\n",
    "$$\n",
    "\t\\mathbf{x}\t\\mapsto \\arg \\max_k \\widehat \\pi_k f(x|\\widehat \\alpha_k).\n",
    "$$\n",
    "Here we can use the proportion of digit $k$ in the training set as the prior probability $\\widehat \\pi_k$. Report the performance of your classifier on the test set of 1797 digits in `optdigits.tes`."
   ]
  }
 ],
 "metadata": {
  "anaconda-cloud": {},
  "kernelspec": {
   "display_name": "Julia 0.6.2",
   "language": "julia",
   "name": "julia-0.6"
  },
  "language_info": {
   "file_extension": ".jl",
   "mimetype": "application/julia",
   "name": "julia",
   "version": "0.6.2"
  },
  "toc": {
   "colors": {
    "hover_highlight": "#DAA520",
    "running_highlight": "#FF0000",
    "selected_highlight": "#FFD700"
   },
   "moveMenuLeft": true,
   "nav_menu": {
    "height": "65px",
    "width": "252px"
   },
   "navigate_menu": true,
   "number_sections": false,
   "sideBar": true,
   "threshold": 4,
   "toc_cell": false,
   "toc_section_display": "block",
   "toc_window_display": false,
   "widenNotebook": false
  }
 },
 "nbformat": 4,
 "nbformat_minor": 2
}
