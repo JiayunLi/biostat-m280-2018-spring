{
 "cells": [
  {
   "cell_type": "markdown",
   "metadata": {},
   "source": [
    "# Biostat M280 Homework 4\n",
    "\n",
    "**Due June 12 @ 11:59PM**"
   ]
  },
  {
   "cell_type": "markdown",
   "metadata": {},
   "source": [
    "In this homework, we build a classifer for handwritten digit recognition. Following figure shows example bitmaps of handwritten digits from U.S. postal envelopes. \n",
    "\n",
    "<img src=\"./handwritten_digits.png\" width=\"400\" align=\"center\"/>\n",
    "\n",
    "Each digit is represented by a $32 \\times 32$ bitmap in which each element indicates one pixel with a value of white or black. Each $32 \\times 32$ bitmap is divided into blocks of $4 \\times 4$, and the number of white pixels are counted in each block. Therefore each handwritten digit is summarized by a vector $\\mathbf{x} = (x_1, \\ldots, x_{64})$ of length 64 where each element is a count between 0 and 16. \n",
    "\n",
    "We will use a model-based method by assuming a distribution on the count vector and carry out classification using probabilities. A common distribution for count vectors is the multinomial distribution. However as you will see in Q10, it is not a good model for handwritten digits. Let's work on a more flexible model for count vectors. In the Dirichlet-multinomial model, we assume the multinomial probabilities $\\mathbf{p} = (p_1,\\ldots, p_d)$ follow a Dirichlet distribution with parameter vector $\\alpha = (\\alpha_1,\\ldots, \\alpha_d)$, $\\alpha_j>0$, and density\n",
    "$$\n",
    "\\begin{eqnarray*}\n",
    "\t\\pi(\\mathbf{p}) =  \\frac{\\Gamma(|\\alpha|)}{\\prod_{j=1}^d \\Gamma(\\alpha_j)} \\prod_{j=1}^d p_j^{\\alpha_j-1},\n",
    "\\end{eqnarray*} \n",
    "$$\n",
    "where $|\\alpha|=\\sum_{j=1}^d \\alpha_j$."
   ]
  },
  {
   "cell_type": "markdown",
   "metadata": {},
   "source": [
    "## Q1\n",
    "\n",
    "For a multivariate count vector $\\mathbf{x}=(x_1,\\ldots,x_d)$ with batch size $|\\mathbf{x}|=\\sum_{j=1}^d x_j$, show that the probability mass function for Dirichlet-multinomial distribution is\n",
    "$$\n",
    "    f(\\mathbf{x} \\mid \\alpha) \n",
    "\t= \\int_{\\Delta_d} \\binom{|\\mathbf{x}|}{\\mathbf{x}} \\prod_{j=1}^d p_j^{x_j} \\pi(\\mathbf{p}) \\, d \\mathbf{p}  \n",
    "    = \\binom{|\\mathbf{x}|}{\\mathbf{x}} \\frac{\\prod_{j=1}^d \\Gamma(\\alpha_j+x_j)}{\\prod_{j=1}^d \\Gamma(\\alpha_j)} \\frac{\\Gamma(|\\alpha|)}{\\Gamma(|\\alpha|+|\\mathbf{x}|)}\n",
    "$$\n",
    "where $\\Delta_d$ is the unit simplex in $d$ dimensions and $|\\alpha| = \\sum_{j=1}^d \\alpha_j$.\n"
   ]
  },
  {
   "cell_type": "markdown",
   "metadata": {},
   "source": [
    "### Answer to Q1  \n",
    "\n",
    "According to the definition of probablity mass function, we can get the following:  \n",
    "$$\n",
    "f(\\mathbf{x} \\mid \\alpha) \n",
    "    = \\int_{\\Delta_d}f(\\mathbf{x} \\mid \\mathbf{p})\\,f(\\mathbf{p} \\mid \\alpha)\\,d \\mathbf{p} \n",
    "\t= \\int_{\\Delta_d} \\binom{|\\mathbf{x}|}{\\mathbf{x}} \\prod_{j=1}^d p_j^{x_j} \\pi(\\mathbf{p}) \\, d \\mathbf{p}   \n",
    "$$\n",
    "Then we will show it equals to the second part.  \n",
    "\n",
    "$$\n",
    "\\begin{aligned}\n",
    "f(\\mathbf{x} \\mid \\alpha)\n",
    "\t&= \\int_{\\Delta_d} \\binom{|\\mathbf{x}|}{\\mathbf{x}} \\prod_{j=1}^d p_j^{x_j} \\pi(\\mathbf{p}) \\, d \\mathbf{p}\\\\\n",
    "    &= 1\n",
    "\\end{aligned}\n",
    "$$"
   ]
  },
  {
   "cell_type": "markdown",
   "metadata": {},
   "source": [
    "## Q2\n",
    "\n",
    "Given independent data points $\\mathbf{x}_1, \\ldots, \\mathbf{x}_n$, show that the log-likelihood is\n",
    "$$\n",
    "L(\\alpha) = \\sum_{i=1}^n \\ln \\binom{|\\mathbf{x}_i|}{\\mathbf{x}_i} + \\sum_{i=1}^n \\sum_{j=1}^d [\\ln \\Gamma(\\alpha_j + x_{ij}) - \\ln \\Gamma(\\alpha_j)] - \\sum_{i=1}^n [\\ln \\Gamma(|\\alpha|+|\\mathbf{x}_i|) - \\ln \\Gamma(|\\alpha|)].\n",
    "$$\n",
    "Is the log-likelihood a concave function?"
   ]
  },
  {
   "cell_type": "markdown",
   "metadata": {},
   "source": [
    "### Answer to Q2 \n",
    "\n",
    "From Q1, we can get the probablity mass function. Since $(x_{1}, x_{2}, ..., x_{i})$ are independent, we can take log of the probablity mass function for each $x_{i}$ and take the summation. Then we can get the log-likelihood function: \n",
    "\n",
    "\n",
    "\n",
    "$$\n",
    "L(\\alpha) = \\sum_{i=1}^n \\ln \\binom{|\\mathbf{x}_i|}{\\mathbf{x}_i} + \\sum_{i=1}^n \\sum_{j=1}^d [\\ln \\Gamma(\\alpha_j + x_{ij}) - \\ln \\Gamma(\\alpha_j)] - \\sum_{i=1}^n [\\ln \\Gamma(|\\alpha|+|\\mathbf{x}_i|) - \\ln \\Gamma(|\\alpha|)].\n",
    "$$\n",
    "\n",
    "This is not a concave function, and it can be "
   ]
  },
  {
   "cell_type": "markdown",
   "metadata": {},
   "source": [
    "## Q3\n",
    "\n",
    "Write Julia function to compute the log-density of the Dirichlet-multinomial distribution."
   ]
  },
  {
   "cell_type": "code",
   "execution_count": 33,
   "metadata": {
    "collapsed": false
   },
   "outputs": [
    {
     "data": {
      "text/plain": [
       "dirmult_logpdf"
      ]
     },
     "execution_count": 33,
     "metadata": {},
     "output_type": "execute_result"
    }
   ],
   "source": [
    "\"\"\"\n",
    "    dirmult_logpdf(x::Vector, α::Vector)\n",
    "    \n",
    "Compute the log-pdf of Dirichlet-multinomial distribution with parameter `α` \n",
    "at data point `x`.\n",
    "\"\"\"\n",
    "function dirmult_logpdf(x::Vector, α::Vector)\n",
    "    # your code here\n",
    "    sum_x = sum(x)\n",
    "    sum_α = sum(α)\n",
    "    L = lgamma(sum_x + 1) - sum(lgamma.(x + 1)) + \n",
    "        sum(lgamma.(x + α)) - sum(lgamma.(α)) - \n",
    "        lgamma(sum_α + sum_x) + lgamma(sum_α)\n",
    "    return L\n",
    "end\n",
    "\n",
    "function dirmult_logpdf!(r::Vector, X::Matrix, α::Vector)\n",
    "    for j in 1:size(X, 2)\n",
    "        r[j] = dirmult_logpdf(X[:, j], α)\n",
    "    end\n",
    "    return r\n",
    "end\n",
    "\n",
    "\"\"\"\n",
    "    dirmult_logpdf(X, α)\n",
    "    \n",
    "Compute the log-pdf of Dirichlet-multinomial distribution with parameter `α` \n",
    "at each data point in `X`. Each column of `X` is one data point.\n",
    "\"\"\"\n",
    "function dirmult_logpdf(X::Matrix, α::Vector)\n",
    "    r = zeros(size(X, 2))\n",
    "    dirmult_logpdf!(r, X, α)\n",
    "end"
   ]
  },
  {
   "cell_type": "code",
   "execution_count": 1,
   "metadata": {
    "collapsed": true
   },
   "outputs": [],
   "source": [
    "using CSV"
   ]
  },
  {
   "cell_type": "markdown",
   "metadata": {},
   "source": [
    "## Q4\n",
    "\n",
    "Read in `optdigits.tra`, the training set of 3823 handwritten digits. Each row contains the 64 counts of a digit and the last element (65th element) indicates what digit it is. For grading purpose, evaluate the total log-likelihood of this data at parameter values $\\alpha=(1,\\ldots,1)$ using your function in Q3."
   ]
  },
  {
   "cell_type": "code",
   "execution_count": null,
   "metadata": {
    "collapsed": true
   },
   "outputs": [],
   "source": [
    "# Read digits data\n",
    "digits = Matrix{Float64}(CSV.read(\"optdigits.tra\", datarow = 1));\n",
    "X = digits[:, 1:64]';\n",
    "Y = digits[:, 65];"
   ]
  },
  {
   "cell_type": "code",
   "execution_count": 85,
   "metadata": {
    "collapsed": false
   },
   "outputs": [
    {
     "data": {
      "text/plain": [
       "-638817.993292528"
      ]
     },
     "execution_count": 85,
     "metadata": {},
     "output_type": "execute_result"
    }
   ],
   "source": [
    "α = ones(64)\n",
    "r = dirmult_logpdf(X, α)\n",
    "sum(r)"
   ]
  },
  {
   "cell_type": "markdown",
   "metadata": {},
   "source": [
    "## Q5\n",
    "\n",
    "Derive the score function $\\nabla L(\\alpha)$, observed information matrix $-d^2L(\\alpha)$, and Fisher information matrix $\\mathbf{E}[-d^2L(\\alpha)]$ for the Dirichlet-multinomial distribution.\n",
    "\n",
    "Comment on why Fisher scoring method is inefficient for computing MLE in this example."
   ]
  },
  {
   "cell_type": "markdown",
   "metadata": {},
   "source": [
    "### Answer to Q5  \n",
    "\n",
    "The derivative of $\\ln(\\Gamma(z))$ is defined as the following:  \n",
    "\n",
    "$$\n",
    " \\Psi(z) = \\frac{d\\ln\\Gamma(z)}{dz} = \\frac{\\Gamma(z)^{'}}{\\Gamma(z)}\n",
    "$$\n",
    "\n",
    "$$\n",
    " \\Psi^{'}(z) = \\frac{\\Gamma(z)^{''}}{\\Gamma(z)} - (\\frac{\\Gamma(z)^{'}}{\\Gamma(z)})^{2}\n",
    "$$  \n",
    "\n",
    "Then we can derive the score function $\\nabla L(\\alpha)$:  \n",
    "\n",
    "$$\n",
    "\\Theta_{j}=\\frac{\\partial L(\\alpha)}{\\partial \\alpha_{j}} \n",
    "= \\sum_{i=1}^n[\\Psi(\\alpha_{j} + x_{ij}) - \\Psi(\\alpha_{j})] - \\sum_{i=1}^n[\\Psi(|\\alpha| + |x_{i}|) - \\Psi(|\\alpha|)]\n",
    "$$\n",
    "\n",
    "$$\n",
    "\\nabla L(\\alpha) = \\begin{pmatrix}\n",
    "\\Theta_1\\\\\n",
    "\\Theta_2\\\\\n",
    "...\\\\\n",
    "\\Theta_d\n",
    "\\end{pmatrix}\\\\\n",
    "$$\n",
    "\n",
    "And the observed information matrix: \n",
    "\n",
    "\n",
    "$$\n",
    "-\\frac{\\partial ^{2} L(\\alpha)}{\\partial \\alpha_{j} \\alpha_{k}} = \\begin{cases}\n",
    "\t\\sum_{i=1}^n[\\Psi'(|\\alpha| + |x_{j}|) - \\Psi'(|\\alpha|)] & \\text{if $j \\neq k$} \\\\\n",
    "\t-\\sum_{i=1}^n[\\Psi'(\\alpha_{j} + x_{ij}) - \\Psi'(\\alpha_{j})] + \n",
    "    \\sum_{i=1}^n[\\Psi'(|\\alpha| + |x_{i}|) - \\Psi'(|\\alpha|)] & \\text{if $j == k$}\n",
    "\t\\end{cases}\n",
    "$$   \n",
    "\n",
    "\n",
    "$$\n",
    "-d^2L(\\alpha) = \\begin{pmatrix}\n",
    "\\Theta'_{11} & \\Theta'_{12} & ... & \\Theta'_{1d}\\\\ \n",
    "\\Theta'_{21} & \\Theta'_{22} & ... & \\Theta'_{2d}\\\\ \n",
    "... & ... & ... & ...\\\\ \n",
    "\\Theta'_{d1} & \\Theta'_{d2} & ... & \\Theta'_{dd}\n",
    "\\end{pmatrix}\n",
    "$$  \n",
    "\n",
    "After obtaining the observed information matrix, we can simply plug in and get the Fisher information matrix:  \n",
    "\n",
    "$$\n",
    "\\mathbf{E}[-d^2L(\\alpha)] = \\mathbf{E}[\\Theta'_{jk}] = \\sum\\Theta'_{jk}p(\\Theta)  \n",
    "$$\n",
    "\n",
    "To use the Fisher information matrix, we need to compute the expected value of the observed matrix, which is really difficult, so the Fisher scoring method is inefficient for this problem"
   ]
  },
  {
   "cell_type": "markdown",
   "metadata": {},
   "source": [
    "## Q6\n",
    "\n",
    "What structure does the observed information matrix possess that can facilitate the evaluation of the Newton direction? Is the observed information matrix always positive definite? What remedy can we take if it fails to be positive definite? (Hint: HW1 Q6.)"
   ]
  },
  {
   "cell_type": "markdown",
   "metadata": {},
   "source": [
    "### Answer to Q6  \n",
    "\n",
    "The observed information matrix can be decomposed as following\n",
    "$$\n",
    "-d^2L(\\alpha) = \\mathbf{A} +\n",
    "  \\sum_{i=1}^n[\\Psi'(|\\alpha| + |x_{i}|) - \\Psi'(|\\alpha|)]\\mathbf{1}\\mathbf{1}^{T}\\\\\n",
    "  \\text{where $\\mathbf{A}$ is a diagonal matrix } \\\\\n",
    "  \\mathbf{A} = -\\sum_{i=1}^n[\\Psi'(\\alpha_{j} + x_{ij}) - \\Psi'(\\alpha_{j})] \n",
    "$$\n",
    "\n",
    "To make use the special structure of the observed information matrix, we can use the Woodbury formula as showed in HW1 Q6. \n",
    "\n",
    "We can denote $\\mathbf{A}$ as the diagonal matrix, $\\mathbf{B} = \\sum_{i=1}^n[\\Psi'(|\\alpha| + |x_{i}|) - \\Psi'(|\\alpha|)]$, $\\mathbf{U} = \\mathbf{1}$, and  $\\mathbf{V} = \\mathbf{1}$. Then the observed information matrix can be written as:  \n",
    "\n",
    "$$\n",
    "-d^2L(\\alpha) = \\mathbf{A} + \\mathbf{U} \\mathbf{B} \\mathbf{V}^T\n",
    "$$\n",
    "\n",
    "\n",
    "We can see the $\\mathbf{B}$ is a scalar b, and we can use $c$ to represent $-b$. Then if we want the observed information matrix to be positive definite, the inverse of the matrix should also be PD.  \n",
    "\n",
    "Then inverse of the oberseved information matrix can be represented as the following:\n",
    "\n",
    "\n",
    "$$\n",
    "\t(\\mathbf{A} + \\mathbf{U} \\mathbf{B} \\mathbf{V}^T)^{-1} = \\mathbf{A}^{-1} + \\mathbf{A}^{-1} \\mathbf{U} (\\mathbf{B}^{-1} + \\mathbf{V}^T \\mathbf{A}^{-1} \\mathbf{U})^{-1} \\mathbf{V}^T \\mathbf{A}^{-1}\n",
    "$$  \n",
    "\n",
    "And it can be written as:  \n",
    "\n",
    "$$\n",
    "\t(\\mathbf{A} + \\mathbf{U} \\mathbf{B} \\mathbf{V}^T)^{-1} = \\mathbf{A}^{-1} + \\mathbf{A}^{-1} \\mathbf{U}\n",
    "    \\frac{c}{1 - c\\mathbf{V}^T \\mathbf{A}^{-1}\\mathbf{U}} \\mathbf{V}^T \\mathbf{A}^{-1}\n",
    "$$  \n",
    "\n",
    "So the observed information matrix is PD, if $\\frac{c}{1 - c\\mathbf{V}^T \\mathbf{A}^{-1}\\mathbf{U}} > 0$. If it fails to be PD, we can use the identity matrix $\\mathbf{I}$ to replace it. \n"
   ]
  },
  {
   "cell_type": "markdown",
   "metadata": {},
   "source": [
    "## Q7\n",
    "\n",
    "Discuss how to choose a good starting point. Implement this as the default starting value in your function below. (Hint: Method of moment estimator may furnish a good starting point.)  \n",
    "\n",
    "Moments of Dirichelet distribution:\n",
    "\n",
    "$$\n",
    "E[p_j] = \\frac{\\alpha_j}{\\sum_{i}\\alpha_i}\n",
    "$$  \n",
    "\n",
    "$$\n",
    "Var[p_j] = \\frac{\\alpha_j(|\\alpha|-\\alpha_j)}{(1+|\\alpha|)|\\alpha|^{2}}\n",
    "$$  \n",
    "\n",
    "Since $E[p_j^{2}] = Var[p_j] + [E[p_j]]^{2}$, $E[p_k^{2}]$ can be written as the following: \n",
    "\n",
    "$$\n",
    "\\begin{align*}\n",
    "E[p_j^{2}] &= \\frac{\\alpha_j(|\\alpha|-\\alpha_j)}{(1+|\\alpha|)|\\alpha|^{2}} + \\frac{\\alpha_j}{\\sum_{i}\\alpha_i}\\\\\n",
    "&=\\frac{\\alpha_{j}|\\alpha|(1+\\alpha_j)}{(1+|\\alpha|)|\\alpha|^{2}} \\\\\n",
    "&=E[p_j]\\frac{1+\\alpha_j}{1+|\\alpha|}\n",
    "\\end{align*}\n",
    "$$  \n",
    "\n",
    "Then for a given dataset $(x_1, x_2, ..., x_i)$, we can compute the moment estimator:  \n",
    "\n",
    "$$\n",
    "\\hat{E}[p_j] = \\frac{\\sum_{i=1}^n\\frac{x_{ij}}{|x_i|}}{n} \\\\\n",
    "\\hat{E}[p_j^2] = \\frac{\\sum_{i=1}^n(\\frac{x_{ij}}{|x_i|})^2}{n}\n",
    "$$   \n",
    "\n",
    "We can denote $v = \\sum_{j=1}^d\\frac{\\hat{E}[p_j^2]}{\\hat{E}[p_j]}$, and then we can have:  \n",
    "\n",
    "$$\n",
    "v = \\frac{d+|\\alpha|}{1+|\\alpha|} \\\\\n",
    "|\\alpha| = \\frac{d-1}{1-v} \\\\\n",
    "$$\n",
    "\n",
    "$$\n",
    "\\begin{align*}\n",
    "\\alpha_j &= \\hat{E}[p_j]|\\alpha| \\\\\n",
    "&= \\frac{\\sum_{i=1}^n\\frac{x_{ij}}{|x_i|}}{n}|\\alpha| \\\\\n",
    "&= \\frac{\\sum_{i=1}^n\\frac{x_{ij}}{|x_i|}}{n} \\frac{d-1}{1-v}\n",
    "\\end{align*}\n",
    "$$\n"
   ]
  },
  {
   "cell_type": "markdown",
   "metadata": {},
   "source": [
    "## Q8\n",
    "\n",
    "Write a function for finding MLE of Dirichlet-multinomial distribution given iid observations $\\mathbf{x}_1,\\ldots,\\mathbf{x}_n$, using the Newton's method. "
   ]
  },
  {
   "cell_type": "code",
   "execution_count": 1,
   "metadata": {
    "collapsed": false
   },
   "outputs": [
    {
     "data": {
      "text/plain": [
       "dirmult_newton"
      ]
     },
     "execution_count": 1,
     "metadata": {},
     "output_type": "execute_result"
    }
   ],
   "source": [
    "\"\"\"\n",
    "    dirmult_newton(X)\n",
    "\n",
    "Find the MLE of Dirichlet-multinomial distribution using Newton's method.\n",
    "\n",
    "# Argument\n",
    "* `X`: an `n`-by-`d` matrix of counts; each column is one data point.\n",
    "\n",
    "# Optional argument  \n",
    "* `alpha0`: a `d` vector of starting point (optional). \n",
    "* `maxiters`: the maximum allowable Newton iterations (default 100). \n",
    "* `tolfun`: the tolerance for  relative change in objective values (default 1e-6). \n",
    "\n",
    "# Output\n",
    "* `maximum`: the log-likelihood at MLE.   \n",
    "* `estimate`: the MLE. \n",
    "* `gradient`: the gradient at MLE. \n",
    "* `hessian`: the Hessian at MLE. \n",
    "* `se`: a `d` vector of standard errors. \n",
    "* `iterations`: the number of iterations performed.\n",
    "\"\"\"\n",
    "function dirmult_newton(X::Matrix; α0::Vector = nothing, \n",
    "            maxiters::Int = 100, tolfun::Float64 = 1e-6)\n",
    "    \n",
    "    # set default starting point from Q7\n",
    "    tot_n = size(X, 2)\n",
    "    tot_d = size(X, 1)\n",
    "    nonzero_indx = find(sum(X, 2) .!= 0)\n",
    "    # rule zero zeros\n",
    "    X = X[nonzero_indx, :]\n",
    "    X_rowsum = sum(X, 1)\n",
    "    \n",
    "    n = size(X, 2)\n",
    "    d = size(X, 1)\n",
    "    \n",
    "    n_iter = 0\n",
    "    \n",
    "    # If the α is no initialized, use the moment estimator as a starting point\n",
    "    if α0 is nothing\n",
    "        p_hat = X ./ X_rowsum\n",
    "        v = sum(sum(p_hat.^2, 2) ./ sum(p_hat, 2))\n",
    "        α0 = sum(p_hat, 2) / n * (d - v) / (v - 1)\n",
    "    end\n",
    "    \n",
    "    # calculate the log likelihood of this data at the starting point\n",
    "    loglold = sum(dirmult_logpdf(X, α0))\n",
    "    dL = zeros(d, 1)\n",
    "    inv_A = ones(d, 1)\n",
    "    # Newton loop\n",
    "    for iter in 1:maxiters\n",
    "        # evaluate gradient (score)\n",
    "        dL .= sum(broadcast(-, \n",
    "            digamma.(broadcast(+, X, α0)), digamma.(α0)), 2) - \n",
    "            sum(digamma.(broadcast(+, α0_sum, x_rowsum)) - \n",
    "            digamma(α0_sum))\n",
    "        # compute Newton's direction\n",
    "        # inv_A .= - Diagonal(squeeze(1 ./ sum(broadcast(-, \n",
    "            # trigamma.(broadcast(+, X, α0)), trigamma.(α0)), 2), 2))\n",
    "        inv_A .= -1 ./ sum(broadcast(-, trigamma.(broadcast(+, X, α0)), trigamma.(α0)), 2)\n",
    "        # compute scaling factor c\n",
    "        c = - sum(trigamma.(broadcast(+, α0_sum, x_rowsum)) - \n",
    "            trigamma(α0_sum))\n",
    "        # the threshold to determin whether matrix is PD\n",
    "        thres = sum(inv_A)\n",
    "        if c < 1 / thres\n",
    "            c = c\n",
    "        else\n",
    "            c = 0.99 * 1 / thresh\n",
    "        end\n",
    "        # computer the direction\n",
    "        direct = inv_A .* dL + (c / (1 - c * thres)) * inv_A * inv_A' * dL\n",
    "        s_temp = - 0.99 * α0 ./ direct\n",
    "        # ensure all steps are positive\n",
    "        s_temp[find(s_temp .< 0)] = 10\n",
    "        # get the minimum step\n",
    "        s = minimum(s_temp)\n",
    "        # line search loop\n",
    "        for lsiter in 1:10\n",
    "            # step halving\n",
    "            s = s / 2\n",
    "            α1 = α0 + s * direct\n",
    "        end\n",
    "        # compute the loglikelihood\n",
    "        logl = sum(dirmult_logpdf(X, α1))\n",
    "        \n",
    "        # check convergence criterion\n",
    "        if abs(logl - loglold) < tolfun * (abs(loglold) + 1)\n",
    "            break;\n",
    "        end\n",
    "        loglold = logl\n",
    "        α0 = α1\n",
    "        n_iter += 1\n",
    "    end\n",
    "    \n",
    "    # compute logl, gradient, Hessian from final iterate\n",
    "    \n",
    "    \n",
    "    # output\n",
    "    \n",
    "end"
   ]
  },
  {
   "cell_type": "markdown",
   "metadata": {},
   "source": [
    "## Q9\n",
    "\n",
    "Read in `optdigits.tra`, the training set of 3823 handwritten digits. Find the MLE for the subset of digit 0, digit 1, ..., and digit 9 separately using your function. "
   ]
  },
  {
   "cell_type": "code",
   "execution_count": 5,
   "metadata": {
    "collapsed": false
   },
   "outputs": [],
   "source": [
    "#Pkg.add(\"SpecialFunctions\")\n",
    "#Pkg.update(\"SpecialFunctions\")\n",
    "using SpecialFunctions"
   ]
  },
  {
   "cell_type": "code",
   "execution_count": 3,
   "metadata": {
    "collapsed": false
   },
   "outputs": [],
   "source": [
    "# Read digits data\n",
    "digits = Matrix{Float64}(CSV.read(\"optdigits.tra\", datarow = 1));\n",
    "X = digits[:, 1:64]';\n",
    "Y = digits[:, 65];"
   ]
  },
  {
   "cell_type": "code",
   "execution_count": 6,
   "metadata": {
    "collapsed": false,
    "scrolled": false
   },
   "outputs": [
    {
     "data": {
      "text/plain": [
       "62×1 Array{Float64,2}:\n",
       " 0.0691224  \n",
       " 1.26343    \n",
       " 2.74168    \n",
       " 2.66324    \n",
       " 1.28098    \n",
       " 0.325825   \n",
       " 0.0332272  \n",
       " 0.000446363\n",
       " 0.448878   \n",
       " 2.44655    \n",
       " 2.7169     \n",
       " 2.45151    \n",
       " 1.90295    \n",
       " ⋮          \n",
       " 2.25598    \n",
       " 2.1313     \n",
       " 0.865914   \n",
       " 0.0342156  \n",
       " 5.5286e-5  \n",
       " 0.0646183  \n",
       " 1.35259    \n",
       " 2.77391    \n",
       " 2.65573    \n",
       " 1.54667    \n",
       " 0.489726   \n",
       " 0.0459873  "
      ]
     },
     "execution_count": 6,
     "metadata": {},
     "output_type": "execute_result"
    }
   ],
   "source": [
    "tot_n = size(X, 2)\n",
    "tot_d = size(X, 1)\n",
    "nonzero_indx = find(sum(X, 2) .!= 0)\n",
    "# rule zero zeros\n",
    "X = X[nonzero_indx, :]\n",
    "X_rowsum = sum(X, 1)\n",
    "    \n",
    "n = size(X, 2)\n",
    "d = size(X, 1)\n",
    "p_hat = X ./ X_rowsum\n",
    "v = sum(sum(p_hat.^2, 2) ./ sum(p_hat, 2))\n",
    "α0 = sum(p_hat, 2) / n * (d - v) / (v - 1)"
   ]
  },
  {
   "cell_type": "code",
   "execution_count": 15,
   "metadata": {
    "collapsed": false
   },
   "outputs": [
    {
     "data": {
      "text/plain": [
       "72.70729366814811"
      ]
     },
     "execution_count": 15,
     "metadata": {},
     "output_type": "execute_result"
    }
   ],
   "source": [
    "α0_sum"
   ]
  },
  {
   "cell_type": "code",
   "execution_count": 17,
   "metadata": {
    "collapsed": false
   },
   "outputs": [
    {
     "data": {
      "text/plain": [
       "1×3823 Array{Float64,2}:\n",
       " 303.0  367.0  317.0  305.0  266.0  …  274.0  276.0  328.0  348.0  255.0"
      ]
     },
     "execution_count": 17,
     "metadata": {},
     "output_type": "execute_result"
    }
   ],
   "source": [
    "x_rowsum = sum(X, 1)"
   ]
  },
  {
   "cell_type": "code",
   "execution_count": 20,
   "metadata": {
    "collapsed": false
   },
   "outputs": [
    {
     "data": {
      "text/plain": [
       "62×1 Array{Float64,2}:\n",
       "  2553.13  \n",
       "  -137.561 \n",
       "   275.733 \n",
       "   230.906 \n",
       "  -722.742 \n",
       " -2270.73  \n",
       " -2801.94  \n",
       "   318.646 \n",
       "  -661.797 \n",
       "    29.4004\n",
       "   366.71  \n",
       "   242.062 \n",
       "  -303.877 \n",
       "     ⋮     \n",
       "   102.371 \n",
       "  -233.533 \n",
       " -1202.8   \n",
       "  -228.358 \n",
       " 11682.3   \n",
       "  1392.78  \n",
       "  -261.419 \n",
       "   254.575 \n",
       "   119.063 \n",
       "  -550.961 \n",
       " -1891.74  \n",
       " -1652.18  "
      ]
     },
     "execution_count": 20,
     "metadata": {},
     "output_type": "execute_result"
    }
   ],
   "source": [
    "# dL = sum(trigamma(X' + α0) - trigamma(α0), 2)\n",
    "α0_sum = sum(α0)\n",
    "x_rowsum = sum(X, 1)\n",
    "dL = sum(broadcast(-, \n",
    "        digamma.(broadcast(+, X, α0)), digamma.(α0)), 2) - \n",
    "            sum(digamma.(broadcast(+, α0_sum, x_rowsum)) - \n",
    "            digamma(α0_sum))\n",
    "# digamma(X[, :] + α0)\n",
    "#(rowSums(digamma(t(x) + alpha0) - digamma(alpha0)) \n",
    "                #- sum(digamma(x_rowsum + alpha0_sum) -  digamma(alpha0_sum)))"
   ]
  },
  {
   "cell_type": "code",
   "execution_count": 110,
   "metadata": {
    "collapsed": false
   },
   "outputs": [
    {
     "data": {
      "text/plain": [
       "62×62 Diagonal{Float64}:\n",
       " 8.03757e-6   ⋅            ⋅           …   ⋅            ⋅        \n",
       "  ⋅          0.000336749   ⋅               ⋅            ⋅        \n",
       "  ⋅           ⋅           0.000749658      ⋅            ⋅        \n",
       "  ⋅           ⋅            ⋅               ⋅            ⋅        \n",
       "  ⋅           ⋅            ⋅               ⋅            ⋅        \n",
       "  ⋅           ⋅            ⋅           …   ⋅            ⋅        \n",
       "  ⋅           ⋅            ⋅               ⋅            ⋅        \n",
       "  ⋅           ⋅            ⋅               ⋅            ⋅        \n",
       "  ⋅           ⋅            ⋅               ⋅            ⋅        \n",
       "  ⋅           ⋅            ⋅               ⋅            ⋅        \n",
       "  ⋅           ⋅            ⋅           …   ⋅            ⋅        \n",
       "  ⋅           ⋅            ⋅               ⋅            ⋅        \n",
       "  ⋅           ⋅            ⋅               ⋅            ⋅        \n",
       " ⋮                                     ⋱  ⋮                      \n",
       "  ⋅           ⋅            ⋅           …   ⋅            ⋅        \n",
       "  ⋅           ⋅            ⋅               ⋅            ⋅        \n",
       "  ⋅           ⋅            ⋅               ⋅            ⋅        \n",
       "  ⋅           ⋅            ⋅               ⋅            ⋅        \n",
       "  ⋅           ⋅            ⋅               ⋅            ⋅        \n",
       "  ⋅           ⋅            ⋅           …   ⋅            ⋅        \n",
       "  ⋅           ⋅            ⋅               ⋅            ⋅        \n",
       "  ⋅           ⋅            ⋅               ⋅            ⋅        \n",
       "  ⋅           ⋅            ⋅               ⋅            ⋅        \n",
       "  ⋅           ⋅            ⋅               ⋅            ⋅        \n",
       "  ⋅           ⋅            ⋅           …  0.000161514   ⋅        \n",
       "  ⋅           ⋅            ⋅               ⋅           1.01989e-5"
      ]
     },
     "execution_count": 110,
     "metadata": {},
     "output_type": "execute_result"
    }
   ],
   "source": [
    "inv_A = - Diagonal(squeeze(1 ./ sum(broadcast(-, \n",
    "            trigamma.(broadcast(+, X, α0)), trigamma.(α0)), 2), 2))"
   ]
  },
  {
   "cell_type": "code",
   "execution_count": 111,
   "metadata": {
    "collapsed": false
   },
   "outputs": [
    {
     "data": {
      "text/plain": [
       "62×1 Array{Float64,2}:\n",
       "  0.020521  \n",
       " -0.0463235 \n",
       "  0.206705  \n",
       "  0.168897  \n",
       " -0.278316  \n",
       " -0.245583  \n",
       " -0.0271067 \n",
       "  2.11623e-5\n",
       " -0.0720317 \n",
       "  0.0204857 \n",
       "  0.266288  \n",
       "  0.16104   \n",
       " -0.172488  \n",
       "  ⋮         \n",
       "  0.0636009 \n",
       " -0.149309  \n",
       " -0.332803  \n",
       " -0.00130926\n",
       "  3.57076e-5\n",
       "  0.0121094 \n",
       " -0.0978942 \n",
       "  0.194467  \n",
       "  0.0894328 \n",
       " -0.259726  \n",
       " -0.305542  \n",
       " -0.0168504 "
      ]
     },
     "execution_count": 111,
     "metadata": {},
     "output_type": "execute_result"
    }
   ],
   "source": [
    "inv_A * dL"
   ]
  },
  {
   "cell_type": "code",
   "execution_count": 112,
   "metadata": {
    "collapsed": false
   },
   "outputs": [
    {
     "data": {
      "text/plain": [
       "62×1 Array{Float64,2}:\n",
       "  0.020521  \n",
       " -0.0463235 \n",
       "  0.206705  \n",
       "  0.168897  \n",
       " -0.278316  \n",
       " -0.245583  \n",
       " -0.0271067 \n",
       "  2.11623e-5\n",
       " -0.0720317 \n",
       "  0.0204857 \n",
       "  0.266288  \n",
       "  0.16104   \n",
       " -0.172488  \n",
       "  ⋮         \n",
       "  0.0636009 \n",
       " -0.149309  \n",
       " -0.332803  \n",
       " -0.00130926\n",
       "  3.57076e-5\n",
       "  0.0121094 \n",
       " -0.0978942 \n",
       "  0.194467  \n",
       "  0.0894328 \n",
       " -0.259726  \n",
       " -0.305542  \n",
       " -0.0168504 "
      ]
     },
     "execution_count": 112,
     "metadata": {},
     "output_type": "execute_result"
    }
   ],
   "source": [
    "inv_A = -1 ./ sum(broadcast(-, \n",
    "            trigamma.(broadcast(+, X, α0)), trigamma.(α0)), 2)\n",
    "inv_A .* dL\n",
    "# inv_A * inv_A'"
   ]
  },
  {
   "cell_type": "code",
   "execution_count": null,
   "metadata": {
    "collapsed": true
   },
   "outputs": [],
   "source": []
  },
  {
   "cell_type": "code",
   "execution_count": 72,
   "metadata": {
    "collapsed": false
   },
   "outputs": [
    {
     "data": {
      "text/plain": [
       "42.98980958419122"
      ]
     },
     "execution_count": 72,
     "metadata": {},
     "output_type": "execute_result"
    }
   ],
   "source": [
    "c = - sum(trigamma.(broadcast(+, α0_sum, x_rowsum)) - \n",
    "            trigamma(α0_sum))"
   ]
  },
  {
   "cell_type": "code",
   "execution_count": 70,
   "metadata": {
    "collapsed": false
   },
   "outputs": [
    {
     "data": {
      "text/plain": [
       "0.02120684981161322"
      ]
     },
     "execution_count": 70,
     "metadata": {},
     "output_type": "execute_result"
    }
   ],
   "source": [
    "thres = sum(inv_A)"
   ]
  },
  {
   "cell_type": "code",
   "execution_count": 103,
   "metadata": {
    "collapsed": false
   },
   "outputs": [
    {
     "ename": "LoadError",
     "evalue": "\u001b[91mDimensionMismatch(\"dimensions must match\")\u001b[39m",
     "output_type": "error",
     "traceback": [
      "\u001b[91mDimensionMismatch(\"dimensions must match\")\u001b[39m",
      "",
      "Stacktrace:",
      " [1] \u001b[1mpromote_shape\u001b[22m\u001b[22m\u001b[1m(\u001b[22m\u001b[22m::Tuple{Base.OneTo{Int64},Base.OneTo{Int64}}, ::Tuple{Base.OneTo{Int64},Base.OneTo{Int64}}\u001b[1m)\u001b[22m\u001b[22m at \u001b[1m./indices.jl:79\u001b[22m\u001b[22m",
      " [2] \u001b[1m+\u001b[22m\u001b[22m\u001b[1m(\u001b[22m\u001b[22m::Array{Float64,2}, ::Array{Float64,2}\u001b[1m)\u001b[22m\u001b[22m at \u001b[1m./arraymath.jl:38\u001b[22m\u001b[22m",
      " [3] \u001b[1minclude_string\u001b[22m\u001b[22m\u001b[1m(\u001b[22m\u001b[22m::String, ::String\u001b[1m)\u001b[22m\u001b[22m at \u001b[1m./loading.jl:522\u001b[22m\u001b[22m"
     ]
    }
   ],
   "source": [
    "inv_ddL =  (inv_A + (c / (1 - c * thres)) * inv_A * inv_A') * dL"
   ]
  },
  {
   "cell_type": "code",
   "execution_count": 109,
   "metadata": {
    "collapsed": false
   },
   "outputs": [
    {
     "data": {
      "text/plain": [
       "62×1 Array{Float64,2}:\n",
       " -0.00350556 \n",
       " -1.05296    \n",
       " -2.03423    \n",
       " -2.01761    \n",
       " -1.42944    \n",
       " -0.568879   \n",
       " -0.0560258  \n",
       " -0.000177365\n",
       " -0.397393   \n",
       " -2.06239    \n",
       " -1.90439    \n",
       " -1.82768    \n",
       " -1.86927    \n",
       "  ⋮          \n",
       " -1.79358    \n",
       " -2.0605     \n",
       " -1.15991    \n",
       " -0.0184479  \n",
       "  2.65707e-5 \n",
       " -0.0138806  \n",
       " -1.2173     \n",
       " -2.08901    \n",
       " -2.15593    \n",
       " -1.66889    \n",
       " -0.788352   \n",
       " -0.0473379  "
      ]
     },
     "execution_count": 109,
     "metadata": {},
     "output_type": "execute_result"
    }
   ],
   "source": [
    "#inv_A = -1 ./ sum(broadcast(-, \n",
    "            #trigamma.(broadcast(+, X, α0)), trigamma.(α0)), 2)\n",
    "inv_ddL = inv_A .* dL + (c / (1 - c * thres)) * inv_A * inv_A' * dL"
   ]
  },
  {
   "cell_type": "code",
   "execution_count": 141,
   "metadata": {
    "collapsed": false
   },
   "outputs": [
    {
     "data": {
      "text/plain": [
       "0.5670226931876318"
      ]
     },
     "execution_count": 141,
     "metadata": {},
     "output_type": "execute_result"
    }
   ],
   "source": [
    "direct = inv_A .* dL + (c / (1 - c * thres)) * inv_A * inv_A' * dL\n",
    "s_temp = - 0.99 * α0 ./ direct\n",
    "# index = find(s_temp .< 0)\n",
    "s_temp[find(s_temp .< 0)] = 10\n",
    "s = minimum(s_temp)"
   ]
  },
  {
   "cell_type": "code",
   "execution_count": 142,
   "metadata": {
    "collapsed": false
   },
   "outputs": [
    {
     "data": {
      "text/plain": [
       "62×1 Array{Float64,2}:\n",
       " 0.0681285  \n",
       " 0.964905   \n",
       " 2.16496    \n",
       " 2.09122    \n",
       " 0.875717   \n",
       " 0.164542   \n",
       " 0.0173432  \n",
       " 0.000396078\n",
       " 0.336213   \n",
       " 1.86184    \n",
       " 2.17698    \n",
       " 1.93334    \n",
       " 1.37299    \n",
       " ⋮          \n",
       " 1.74748    \n",
       " 1.54713    \n",
       " 0.537067   \n",
       " 0.0289854  \n",
       " 6.28191e-5 \n",
       " 0.0606829  \n",
       " 1.00747    \n",
       " 2.18165    \n",
       " 2.0445     \n",
       " 1.07353    \n",
       " 0.266219   \n",
       " 0.0325665  "
      ]
     },
     "execution_count": 142,
     "metadata": {},
     "output_type": "execute_result"
    }
   ],
   "source": [
    "s = s / 2\n",
    "α1 = α0 + s * direct"
   ]
  },
  {
   "cell_type": "code",
   "execution_count": 31,
   "metadata": {
    "collapsed": false
   },
   "outputs": [
    {
     "data": {
      "text/plain": [
       "62×1 Array{Float64,2}:\n",
       " 0.00875826\n",
       " 0.0298635 \n",
       " 0.0428963 \n",
       " 0.0427417 \n",
       " 0.0365516 \n",
       " 0.0312478 \n",
       " 0.0251039 \n",
       " 0.00992334\n",
       " 0.0212868 \n",
       " 0.0427079 \n",
       " 0.0419354 \n",
       " 0.0405339 \n",
       " 0.0396795 \n",
       " ⋮         \n",
       " 0.0403344 \n",
       " 0.0413943 \n",
       " 0.0326817 \n",
       " 0.0131872 \n",
       " 0.00290698\n",
       " 0.0104981 \n",
       " 0.0323324 \n",
       " 0.0434933 \n",
       " 0.0437035 \n",
       " 0.0375223 \n",
       " 0.0315339 \n",
       " 0.0207589 "
      ]
     },
     "execution_count": 31,
     "metadata": {},
     "output_type": "execute_result"
    }
   ],
   "source": [
    "# p_hat = X ./ X_rowsum\n",
    "v = sum(p_hat.^2, 2) ./ sum(p_hat, 2)"
   ]
  },
  {
   "cell_type": "markdown",
   "metadata": {},
   "source": [
    "## Q10\n",
    "\n",
    "As $\\alpha / |\\alpha| \\to \\mathbf{p}$, the Dirichlet-multinomial distribution converges to a multinomial with parameter $\\mathbf{p}$. Therefore multinomial can be considered as a special Dirichlet-multinomial with $|\\alpha|=\\infty$. Perform a likelihood ratio test (LRT) whether Dirichlet-multinomial offers a better fit than multinomial for digits 0, 1, ..., 9 respectively."
   ]
  },
  {
   "cell_type": "markdown",
   "metadata": {},
   "source": [
    "## Q11\n",
    "\n",
    "Now we can construct a simple Bayesian rule for handwritten digits recognition:\n",
    "$$\n",
    "\t\\mathbf{x}\t\\mapsto \\arg \\max_k \\widehat \\pi_k f(x|\\widehat \\alpha_k).\n",
    "$$\n",
    "Here we can use the proportion of digit $k$ in the training set as the prior probability $\\widehat \\pi_k$. Report the performance of your classifier on the test set of 1797 digits in `optdigits.tes`."
   ]
  }
 ],
 "metadata": {
  "anaconda-cloud": {},
  "kernelspec": {
   "display_name": "Julia 0.6.2",
   "language": "julia",
   "name": "julia-0.6"
  },
  "language_info": {
   "file_extension": ".jl",
   "mimetype": "application/julia",
   "name": "julia",
   "version": "0.6.2"
  },
  "toc": {
   "colors": {
    "hover_highlight": "#DAA520",
    "running_highlight": "#FF0000",
    "selected_highlight": "#FFD700"
   },
   "moveMenuLeft": true,
   "nav_menu": {
    "height": "65px",
    "width": "252px"
   },
   "navigate_menu": true,
   "number_sections": false,
   "sideBar": true,
   "threshold": 4,
   "toc_cell": false,
   "toc_section_display": "block",
   "toc_window_display": false,
   "widenNotebook": false
  }
 },
 "nbformat": 4,
 "nbformat_minor": 2
}
