{
 "cells": [
  {
   "cell_type": "markdown",
   "metadata": {},
   "source": [
    "# Biostat M280 Homework 4\n",
    "\n",
    "**Due June 12 @ 11:59PM**"
   ]
  },
  {
   "cell_type": "markdown",
   "metadata": {},
   "source": [
    "In this homework, we build a classifer for handwritten digit recognition. Following figure shows example bitmaps of handwritten digits from U.S. postal envelopes. \n",
    "\n",
    "<img src=\"./handwritten_digits.png\" width=\"400\" align=\"center\"/>\n",
    "\n",
    "Each digit is represented by a $32 \\times 32$ bitmap in which each element indicates one pixel with a value of white or black. Each $32 \\times 32$ bitmap is divided into blocks of $4 \\times 4$, and the number of white pixels are counted in each block. Therefore each handwritten digit is summarized by a vector $\\mathbf{x} = (x_1, \\ldots, x_{64})$ of length 64 where each element is a count between 0 and 16. \n",
    "\n",
    "We will use a model-based method by assuming a distribution on the count vector and carry out classification using probabilities. A common distribution for count vectors is the multinomial distribution. However as you will see in Q10, it is not a good model for handwritten digits. Let's work on a more flexible model for count vectors. In the Dirichlet-multinomial model, we assume the multinomial probabilities $\\mathbf{p} = (p_1,\\ldots, p_d)$ follow a Dirichlet distribution with parameter vector $\\alpha = (\\alpha_1,\\ldots, \\alpha_d)$, $\\alpha_j>0$, and density\n",
    "$$\n",
    "\\begin{eqnarray*}\n",
    "\t\\pi(\\mathbf{p}) =  \\frac{\\Gamma(|\\alpha|)}{\\prod_{j=1}^d \\Gamma(\\alpha_j)} \\prod_{j=1}^d p_j^{\\alpha_j-1},\n",
    "\\end{eqnarray*} \n",
    "$$\n",
    "where $|\\alpha|=\\sum_{j=1}^d \\alpha_j$."
   ]
  },
  {
   "cell_type": "markdown",
   "metadata": {},
   "source": [
    "## Q1\n",
    "\n",
    "For a multivariate count vector $\\mathbf{x}=(x_1,\\ldots,x_d)$ with batch size $|\\mathbf{x}|=\\sum_{j=1}^d x_j$, show that the probability mass function for Dirichlet-multinomial distribution is\n",
    "$$\n",
    "    f(\\mathbf{x} \\mid \\alpha) \n",
    "\t= \\int_{\\Delta_d} \\binom{|\\mathbf{x}|}{\\mathbf{x}} \\prod_{j=1}^d p_j^{x_j} \\pi(\\mathbf{p}) \\, d \\mathbf{p}  \n",
    "    = \\binom{|\\mathbf{x}|}{\\mathbf{x}} \\frac{\\prod_{j=1}^d \\Gamma(\\alpha_j+x_j)}{\\prod_{j=1}^d \\Gamma(\\alpha_j)} \\frac{\\Gamma(|\\alpha|)}{\\Gamma(|\\alpha|+|\\mathbf{x}|)}\n",
    "$$\n",
    "where $\\Delta_d$ is the unit simplex in $d$ dimensions and $|\\alpha| = \\sum_{j=1}^d \\alpha_j$.\n"
   ]
  },
  {
   "cell_type": "markdown",
   "metadata": {},
   "source": [
    "### Answer to Q1  \n",
    "\n",
    "According to the definition of probablity mass function, we can get the following:  \n",
    "$$\n",
    "f(\\mathbf{x} \\mid \\alpha) \n",
    "    = \\int_{\\Delta_d}f(\\mathbf{x} \\mid \\mathbf{p})\\,f(\\mathbf{p} \\mid \\alpha)\\,d \\mathbf{p} \n",
    "\t= \\int_{\\Delta_d} \\binom{|\\mathbf{x}|}{\\mathbf{x}} \\prod_{j=1}^d p_j^{x_j} \\pi(\\mathbf{p}) \\, d \\mathbf{p}   \n",
    "$$\n",
    "Then we will show it equals to the second part.  \n",
    "\n",
    "$$\n",
    "\\begin{aligned}\n",
    "f(\\mathbf{x} \\mid \\alpha)\n",
    "\t&= \\int_{\\Delta_d} \\binom{|\\mathbf{x}|}{\\mathbf{x}} \\prod_{j=1}^d p_j^{x_j} \\pi(\\mathbf{p}) \\, d \\mathbf{p}\\\\\n",
    "    &= 1\n",
    "\\end{aligned}\n",
    "$$"
   ]
  },
  {
   "cell_type": "markdown",
   "metadata": {},
   "source": [
    "## Q2\n",
    "\n",
    "Given independent data points $\\mathbf{x}_1, \\ldots, \\mathbf{x}_n$, show that the log-likelihood is\n",
    "$$\n",
    "L(\\alpha) = \\sum_{i=1}^n \\ln \\binom{|\\mathbf{x}_i|}{\\mathbf{x}_i} + \\sum_{i=1}^n \\sum_{j=1}^d [\\ln \\Gamma(\\alpha_j + x_{ij}) - \\ln \\Gamma(\\alpha_j)] - \\sum_{i=1}^n [\\ln \\Gamma(|\\alpha|+|\\mathbf{x}_i|) - \\ln \\Gamma(|\\alpha|)].\n",
    "$$\n",
    "Is the log-likelihood a concave function?"
   ]
  },
  {
   "cell_type": "markdown",
   "metadata": {},
   "source": [
    "### Answer to Q2 \n",
    "\n",
    "From Q1, we can get the probablity mass function. Since $(x_{1}, x_{2}, ..., x_{i})$ are independent, we can take log of the probablity mass function for each $x_{i}$ and take the summation. Then we can get the log-likelihood function: \n",
    "\n",
    "\n",
    "\n",
    "$$\n",
    "L(\\alpha) = \\sum_{i=1}^n \\ln \\binom{|\\mathbf{x}_i|}{\\mathbf{x}_i} + \\sum_{i=1}^n \\sum_{j=1}^d [\\ln \\Gamma(\\alpha_j + x_{ij}) - \\ln \\Gamma(\\alpha_j)] - \\sum_{i=1}^n [\\ln \\Gamma(|\\alpha|+|\\mathbf{x}_i|) - \\ln \\Gamma(|\\alpha|)].\n",
    "$$\n",
    "\n",
    "This is not a concave function, and it can be "
   ]
  },
  {
   "cell_type": "markdown",
   "metadata": {},
   "source": [
    "## Q3\n",
    "\n",
    "Write Julia function to compute the log-density of the Dirichlet-multinomial distribution."
   ]
  },
  {
   "cell_type": "code",
   "execution_count": 1,
   "metadata": {
    "collapsed": false
   },
   "outputs": [
    {
     "data": {
      "text/plain": [
       "dirmult_logpdf"
      ]
     },
     "execution_count": 1,
     "metadata": {},
     "output_type": "execute_result"
    }
   ],
   "source": [
    "\"\"\"\n",
    "    dirmult_logpdf(x::Vector, α::Vector)\n",
    "    \n",
    "Compute the log-pdf of Dirichlet-multinomial distribution with parameter `α` \n",
    "at data point `x`.\n",
    "\"\"\"\n",
    "function dirmult_logpdf(x::Vector, α::Vector)\n",
    "    # your code here\n",
    "    sum_x = sum(x)\n",
    "    sum_α = sum(α)\n",
    "    L = lgamma(sum_x + 1) - sum(lgamma.(x + 1)) + \n",
    "        sum(lgamma.(x + α)) - sum(lgamma.(α)) - \n",
    "        lgamma(sum_α + sum_x) + lgamma(sum_α)\n",
    "    return L\n",
    "end\n",
    "\n",
    "function dirmult_logpdf!(r::Vector, X::Matrix, α::Vector)\n",
    "    for j in 1:size(X, 2)\n",
    "        r[j] = dirmult_logpdf(X[:, j], α)\n",
    "    end\n",
    "    return r\n",
    "end\n",
    "\n",
    "\"\"\"\n",
    "    dirmult_logpdf(X, α)\n",
    "    \n",
    "Compute the log-pdf of Dirichlet-multinomial distribution with parameter `α` \n",
    "at each data point in `X`. Each column of `X` is one data point.\n",
    "\"\"\"\n",
    "function dirmult_logpdf(X::Matrix, α::Vector)\n",
    "    r = zeros(size(X, 2))\n",
    "    dirmult_logpdf!(r, X, α)\n",
    "end"
   ]
  },
  {
   "cell_type": "code",
   "execution_count": 2,
   "metadata": {
    "collapsed": true
   },
   "outputs": [],
   "source": [
    "using CSV"
   ]
  },
  {
   "cell_type": "markdown",
   "metadata": {},
   "source": [
    "## Q4\n",
    "\n",
    "Read in `optdigits.tra`, the training set of 3823 handwritten digits. Each row contains the 64 counts of a digit and the last element (65th element) indicates what digit it is. For grading purpose, evaluate the total log-likelihood of this data at parameter values $\\alpha=(1,\\ldots,1)$ using your function in Q3."
   ]
  },
  {
   "cell_type": "code",
   "execution_count": 3,
   "metadata": {
    "collapsed": true
   },
   "outputs": [],
   "source": [
    "# Read digits data\n",
    "digits = Matrix{Float64}(CSV.read(\"optdigits.tra\", datarow = 1));\n",
    "X = digits[:, 1:64]';\n",
    "Y = digits[:, 65];"
   ]
  },
  {
   "cell_type": "code",
   "execution_count": 4,
   "metadata": {
    "collapsed": false
   },
   "outputs": [
    {
     "data": {
      "text/plain": [
       "-638817.993292528"
      ]
     },
     "execution_count": 4,
     "metadata": {},
     "output_type": "execute_result"
    }
   ],
   "source": [
    "α = ones(64)\n",
    "r = dirmult_logpdf(X, α)\n",
    "sum(r)"
   ]
  },
  {
   "cell_type": "markdown",
   "metadata": {},
   "source": [
    "## Q5\n",
    "\n",
    "Derive the score function $\\nabla L(\\alpha)$, observed information matrix $-d^2L(\\alpha)$, and Fisher information matrix $\\mathbf{E}[-d^2L(\\alpha)]$ for the Dirichlet-multinomial distribution.\n",
    "\n",
    "Comment on why Fisher scoring method is inefficient for computing MLE in this example."
   ]
  },
  {
   "cell_type": "markdown",
   "metadata": {},
   "source": [
    "### Answer to Q5  \n",
    "\n",
    "The derivative of $\\ln(\\Gamma(z))$ is defined as the following:  \n",
    "\n",
    "$$\n",
    " \\Psi(z) = \\frac{d\\ln\\Gamma(z)}{dz} = \\frac{\\Gamma(z)^{'}}{\\Gamma(z)}\n",
    "$$\n",
    "\n",
    "$$\n",
    " \\Psi^{'}(z) = \\frac{\\Gamma(z)^{''}}{\\Gamma(z)} - (\\frac{\\Gamma(z)^{'}}{\\Gamma(z)})^{2}\n",
    "$$  \n",
    "\n",
    "Then we can derive the score function $\\nabla L(\\alpha)$:  \n",
    "\n",
    "$$\n",
    "\\Theta_{j}=\\frac{\\partial L(\\alpha)}{\\partial \\alpha_{j}} \n",
    "= \\sum_{i=1}^n[\\Psi(\\alpha_{j} + x_{ij}) - \\Psi(\\alpha_{j})] - \\sum_{i=1}^n[\\Psi(|\\alpha| + |x_{i}|) - \\Psi(|\\alpha|)]\n",
    "$$\n",
    "\n",
    "$$\n",
    "\\nabla L(\\alpha) = \\begin{pmatrix}\n",
    "\\Theta_1\\\\\n",
    "\\Theta_2\\\\\n",
    "...\\\\\n",
    "\\Theta_d\n",
    "\\end{pmatrix}\\\\\n",
    "$$\n",
    "\n",
    "And the observed information matrix: \n",
    "\n",
    "\n",
    "$$\n",
    "-\\frac{\\partial ^{2} L(\\alpha)}{\\partial \\alpha_{j} \\alpha_{k}} = \\begin{cases}\n",
    "\t\\sum_{i=1}^n[\\Psi'(|\\alpha| + |x_{j}|) - \\Psi'(|\\alpha|)] & \\text{if $j \\neq k$} \\\\\n",
    "\t-\\sum_{i=1}^n[\\Psi'(\\alpha_{j} + x_{ij}) - \\Psi'(\\alpha_{j})] + \n",
    "    \\sum_{i=1}^n[\\Psi'(|\\alpha| + |x_{i}|) - \\Psi'(|\\alpha|)] & \\text{if $j == k$}\n",
    "\t\\end{cases}\n",
    "$$   \n",
    "\n",
    "\n",
    "$$\n",
    "-d^2L(\\alpha) = \\begin{pmatrix}\n",
    "\\Theta'_{11} & \\Theta'_{12} & ... & \\Theta'_{1d}\\\\ \n",
    "\\Theta'_{21} & \\Theta'_{22} & ... & \\Theta'_{2d}\\\\ \n",
    "... & ... & ... & ...\\\\ \n",
    "\\Theta'_{d1} & \\Theta'_{d2} & ... & \\Theta'_{dd}\n",
    "\\end{pmatrix}\n",
    "$$  \n",
    "\n",
    "After obtaining the observed information matrix, we can simply plug in and get the Fisher information matrix:  \n",
    "\n",
    "$$\n",
    "\\mathbf{E}[-d^2L(\\alpha)] = \\mathbf{E}[\\Theta'_{jk}] = \\sum\\Theta'_{jk}p(\\Theta)  \n",
    "$$\n",
    "\n",
    "To use the Fisher information matrix, we need to compute the expected value of the observed matrix, which is really difficult, so the Fisher scoring method is inefficient for this problem"
   ]
  },
  {
   "cell_type": "markdown",
   "metadata": {},
   "source": [
    "## Q6\n",
    "\n",
    "What structure does the observed information matrix possess that can facilitate the evaluation of the Newton direction? Is the observed information matrix always positive definite? What remedy can we take if it fails to be positive definite? (Hint: HW1 Q6.)"
   ]
  },
  {
   "cell_type": "markdown",
   "metadata": {},
   "source": [
    "### Answer to Q6  \n",
    "\n",
    "The observed information matrix can be decomposed as following\n",
    "$$\n",
    "-d^2L(\\alpha) = \\mathbf{A} +\n",
    "  \\sum_{i=1}^n[\\Psi'(|\\alpha| + |x_{i}|) - \\Psi'(|\\alpha|)]\\mathbf{1}\\mathbf{1}^{T}\\\\\n",
    "  \\text{where $\\mathbf{A}$ is a diagonal matrix } \\\\\n",
    "  \\mathbf{A} = -\\sum_{i=1}^n[\\Psi'(\\alpha_{j} + x_{ij}) - \\Psi'(\\alpha_{j})] \n",
    "$$\n",
    "\n",
    "To make use the special structure of the observed information matrix, we can use the Woodbury formula as showed in HW1 Q6. \n",
    "\n",
    "We can denote $\\mathbf{A}$ as the diagonal matrix, $\\mathbf{B} = \\sum_{i=1}^n[\\Psi'(|\\alpha| + |x_{i}|) - \\Psi'(|\\alpha|)]$, $\\mathbf{U} = \\mathbf{1}$, and  $\\mathbf{V} = \\mathbf{1}$. Then the observed information matrix can be written as:  \n",
    "\n",
    "$$\n",
    "-d^2L(\\alpha) = \\mathbf{A} + \\mathbf{U} \\mathbf{B} \\mathbf{V}^T\n",
    "$$\n",
    "\n",
    "\n",
    "We can see the $\\mathbf{B}$ is a scalar b, and we can use $c$ to represent $-b$. Then if we want the observed information matrix to be positive definite, the inverse of the matrix should also be PD.  \n",
    "\n",
    "Then inverse of the oberseved information matrix can be represented as the following:\n",
    "\n",
    "\n",
    "$$\n",
    "\t(\\mathbf{A} + \\mathbf{U} \\mathbf{B} \\mathbf{V}^T)^{-1} = \\mathbf{A}^{-1} + \\mathbf{A}^{-1} \\mathbf{U} (\\mathbf{B}^{-1} + \\mathbf{V}^T \\mathbf{A}^{-1} \\mathbf{U})^{-1} \\mathbf{V}^T \\mathbf{A}^{-1}\n",
    "$$  \n",
    "\n",
    "And it can be written as:  \n",
    "\n",
    "$$\n",
    "\t(\\mathbf{A} + \\mathbf{U} \\mathbf{B} \\mathbf{V}^T)^{-1} = \\mathbf{A}^{-1} + \\mathbf{A}^{-1} \\mathbf{U}\n",
    "    \\frac{c}{1 - c\\mathbf{V}^T \\mathbf{A}^{-1}\\mathbf{U}} \\mathbf{V}^T \\mathbf{A}^{-1}\n",
    "$$  \n",
    "\n",
    "So the observed information matrix is PD, if $\\frac{c}{1 - c\\mathbf{V}^T \\mathbf{A}^{-1}\\mathbf{U}} > 0$. If it fails to be PD, we can use the identity matrix $\\mathbf{I}$ to replace it. \n"
   ]
  },
  {
   "cell_type": "markdown",
   "metadata": {},
   "source": [
    "## Q7\n",
    "\n",
    "Discuss how to choose a good starting point. Implement this as the default starting value in your function below. (Hint: Method of moment estimator may furnish a good starting point.)  \n",
    "\n",
    "Moments of Dirichelet distribution:\n",
    "\n",
    "$$\n",
    "E[p_j] = \\frac{\\alpha_j}{\\sum_{i}\\alpha_i}\n",
    "$$  \n",
    "\n",
    "$$\n",
    "Var[p_j] = \\frac{\\alpha_j(|\\alpha|-\\alpha_j)}{(1+|\\alpha|)|\\alpha|^{2}}\n",
    "$$  \n",
    "\n",
    "Since $E[p_j^{2}] = Var[p_j] + [E[p_j]]^{2}$, $E[p_k^{2}]$ can be written as the following: \n",
    "\n",
    "$$\n",
    "\\begin{align*}\n",
    "E[p_j^{2}] &= \\frac{\\alpha_j(|\\alpha|-\\alpha_j)}{(1+|\\alpha|)|\\alpha|^{2}} + \\frac{\\alpha_j}{\\sum_{i}\\alpha_i}\\\\\n",
    "&=\\frac{\\alpha_{j}|\\alpha|(1+\\alpha_j)}{(1+|\\alpha|)|\\alpha|^{2}} \\\\\n",
    "&=E[p_j]\\frac{1+\\alpha_j}{1+|\\alpha|}\n",
    "\\end{align*}\n",
    "$$  \n",
    "\n",
    "Then for a given dataset $(x_1, x_2, ..., x_i)$, we can compute the moment estimator:  \n",
    "\n",
    "$$\n",
    "\\hat{E}[p_j] = \\frac{\\sum_{i=1}^n\\frac{x_{ij}}{|x_i|}}{n} \\\\\n",
    "\\hat{E}[p_j^2] = \\frac{\\sum_{i=1}^n(\\frac{x_{ij}}{|x_i|})^2}{n}\n",
    "$$   \n",
    "\n",
    "We can denote $v = \\sum_{j=1}^d\\frac{\\hat{E}[p_j^2]}{\\hat{E}[p_j]}$, and then we can have:  \n",
    "\n",
    "$$\n",
    "v = \\frac{d+|\\alpha|}{1+|\\alpha|} \\\\\n",
    "|\\alpha| = \\frac{d-1}{1-v} \\\\\n",
    "$$\n",
    "\n",
    "$$\n",
    "\\begin{align*}\n",
    "\\alpha_j &= \\hat{E}[p_j]|\\alpha| \\\\\n",
    "&= \\frac{\\sum_{i=1}^n\\frac{x_{ij}}{|x_i|}}{n}|\\alpha| \\\\\n",
    "&= \\frac{\\sum_{i=1}^n\\frac{x_{ij}}{|x_i|}}{n} \\frac{d-1}{1-v}\n",
    "\\end{align*}\n",
    "$$\n"
   ]
  },
  {
   "cell_type": "markdown",
   "metadata": {},
   "source": [
    "## Q8\n",
    "\n",
    "Write a function for finding MLE of Dirichlet-multinomial distribution given iid observations $\\mathbf{x}_1,\\ldots,\\mathbf{x}_n$, using the Newton's method. "
   ]
  },
  {
   "cell_type": "code",
   "execution_count": 40,
   "metadata": {
    "collapsed": false
   },
   "outputs": [
    {
     "data": {
      "text/plain": [
       "dirmult_newton"
      ]
     },
     "execution_count": 40,
     "metadata": {},
     "output_type": "execute_result"
    }
   ],
   "source": [
    "\"\"\"\n",
    "    dirmult_newton(X)\n",
    "\n",
    "Find the MLE of Dirichlet-multinomial distribution using Newton's method.\n",
    "\n",
    "# Argument\n",
    "* `X`: an `n`-by-`d` matrix of counts; each column is one data point.\n",
    "\n",
    "# Optional argument  \n",
    "* `alpha0`: a `d` vector of starting point (optional). \n",
    "* `maxiters`: the maximum allowable Newton iterations (default 100). \n",
    "* `tolfun`: the tolerance for  relative change in objective values (default 1e-6). \n",
    "\n",
    "# Output\n",
    "* `maximum`: the log-likelihood at MLE.   \n",
    "* `estimate`: the MLE. \n",
    "* `gradient`: the gradient at MLE. \n",
    "* `hessian`: the Hessian at MLE. \n",
    "* `se`: a `d` vector of standard errors. \n",
    "* `iterations`: the number of iterations performed.\n",
    "\"\"\"\n",
    "# function dirmult_newton(X::Matrix; α0::Vector = nothing, \n",
    "            # maxiters::Int = 100, tolfun::Float64 = 1e-6)\n",
    "function dirmult_newton(X::Matrix; maxiters::Int = 100, tolfun::Float64 = 1e-6)\n",
    "    \n",
    "    # set default starting point from Q7\n",
    "    tot_n = size(X, 2)\n",
    "    tot_d = size(X, 1)\n",
    "    α1 = nothing\n",
    "    α0 = nothing\n",
    "    nonzero_indx = find(sum(X, 2) .!= 0)\n",
    "    # rule zero zeros\n",
    "    X = X[nonzero_indx, :]\n",
    "    X_rowsum = sum(X, 1)\n",
    "    niter = 0\n",
    "    n = size(X, 2)\n",
    "    d = size(X, 1)\n",
    "    \n",
    "    # If the α is no initialized, use the moment estimator as a starting point\n",
    "    if α0 == nothing\n",
    "        p_hat = X ./ X_rowsum\n",
    "        v = sum(sum(p_hat.^2, 2) ./ sum(p_hat, 2))\n",
    "        α0 = sum(p_hat, 2) / n * (d - v) / (v - 1)\n",
    "    end\n",
    "    α0_sum = sum(α0)\n",
    "    # calculate the log likelihood of this data at the starting point\n",
    "    loglold = sum(dirmult_logpdf(X, squeeze(α0, 2)))\n",
    "    dL = zeros(d, 1)\n",
    "    inv_A = ones(d, 1)\n",
    "    # Newton loop\n",
    "    for iter in 1:maxiters\n",
    "        # evaluate gradient (score)\n",
    "        dL .= sum(broadcast(-, \n",
    "            digamma.(broadcast(+, X, α0)), digamma.(α0)), 2) - \n",
    "            sum(digamma.(broadcast(+, X_rowsum, α0_sum)) - \n",
    "            digamma(α0_sum))\n",
    "        # compute Newton's direction\n",
    "        # inv_A .= - Diagonal(squeeze(1 ./ sum(broadcast(-, \n",
    "            # trigamma.(broadcast(+, X, α0)), trigamma.(α0)), 2), 2))\n",
    "        inv_A .= -1 ./ sum(broadcast(-, trigamma.(broadcast(+, X, α0)), trigamma.(α0)), 2)\n",
    "        # compute scaling factor c\n",
    "        c = - sum(trigamma.(broadcast(+, α0_sum, X_rowsum)) - \n",
    "            trigamma(α0_sum))\n",
    "        # the threshold to determin whether matrix is PD\n",
    "        thres = sum(inv_A)\n",
    "        if c < 1 / thres\n",
    "            c = c\n",
    "        else\n",
    "            c = 0.99 * 1 / thresh\n",
    "        end\n",
    "        # computer the direction\n",
    "        direct = inv_A .* dL + (c / (1 - c * thres)) * inv_A * inv_A' * dL\n",
    "        s_temp = - 0.99 * α0 ./ direct\n",
    "        # ensure all steps are positive\n",
    "        s_temp[find(s_temp .< 0)] = 10\n",
    "        # get the minimum step\n",
    "        s = minimum(s_temp)\n",
    "        # line search loop\n",
    "        # for lsiter in 1:10\n",
    "        logl_new = loglold - 1\n",
    "        while logl_new < loglold\n",
    "            # step halving\n",
    "            s = s / 2\n",
    "            α1 = α0 + s * direct\n",
    "            logl_new = sum(dirmult_logpdf(X, squeeze(α1, 2)))\n",
    "        end\n",
    "        # compute the loglikelihood\n",
    "        logl = sum(dirmult_logpdf(X, squeeze(α1, 2)))\n",
    "        # check convergence criterion\n",
    "        if abs(logl - loglold) < tolfun * (abs(loglold) + 1)\n",
    "            loglold = logl\n",
    "            α0 = α1\n",
    "            α0_sum = sum(α0)\n",
    "            niter = iter\n",
    "            break;\n",
    "        end\n",
    "        loglold = logl\n",
    "        α0 = α1\n",
    "        α0_sum = sum(α0)\n",
    "    end\n",
    "    # compute logl, gradient, Hessian from final iterate\n",
    "    c = - sum(trigamma.(broadcast(+, α0_sum, X_rowsum)) - \n",
    "            trigamma(α0_sum))\n",
    "    H_tempt = - Diagonal(squeeze(sum(broadcast(-, trigamma.(broadcast(+, X, α0)), \n",
    "        trigamma.(α0)), 2), 2)) - c * ones(d, d)\n",
    "    Hessian = zeros(tot_d, tot_d)\n",
    "    Hessian[nonzero_indx, nonzero_indx] = - H_tempt\n",
    "    # output\n",
    "    inv_A .= -1 ./ sum(broadcast(-, trigamma.(broadcast(+, X, α0)), trigamma.(α0)), 2)\n",
    "    thres = sum(inv_A)\n",
    "    inv_H = Diagonal(squeeze(inv_A, 2)) + c / (1 - c * thres) * (inv_A * inv_A')\n",
    "    # Se = zeros(d_tot)\n",
    "    # Se[nonzero_indx] = (Diagonal(inv_H)).^2\n",
    "    dL = sum(broadcast(-, \n",
    "        digamma.(broadcast(+, X, α0)), digamma.(α0)), 2) - \n",
    "        sum(digamma.(broadcast(+, α0_sum, X_rowsum)) - digamma(α0_sum))\n",
    "    grad = zeros(tot_d)\n",
    "    fill!(grad, sum(digamma.(broadcast(+, α0_sum, X_rowsum)) - digamma(α0_sum)))\n",
    "    grad[nonzero_indx] = dL\n",
    "    α = zeros(tot_d)\n",
    "    α[nonzero_indx] = α0\n",
    "    return loglold, grad, Hessian, α\n",
    "end"
   ]
  },
  {
   "cell_type": "code",
   "execution_count": 11,
   "metadata": {
    "collapsed": false
   },
   "outputs": [],
   "source": [
    "tot_n = size(X, 2)\n",
    "tot_d = size(X, 1)\n",
    "α0 = nothing\n",
    "α1 = nothing\n",
    "maxiters = 100\n",
    "tolfun = 1e-6\n",
    "nonzero_indx = find(sum(X, 2) .!= 0)\n",
    "# rule zero zeros\n",
    "X = X[nonzero_indx, :]\n",
    "X_rowsum = sum(X, 1)\n",
    "    \n",
    "n = size(X, 2)\n",
    "d = size(X, 1)\n",
    "    \n",
    "n_iter = 0\n",
    "    \n",
    "# If the α is no initialized, use the moment estimator as a starting point\n",
    "if α0 == nothing\n",
    "    p_hat = X ./ X_rowsum\n",
    "    v = sum(sum(p_hat.^2, 2) ./ sum(p_hat, 2))\n",
    "    α0 = sum(p_hat, 2) / n * (d - v) / (v - 1)\n",
    "end\n",
    "α0_sum = sum(α0)\n",
    "# calculate the log likelihood of this data at the starting point\n",
    "loglold = sum(dirmult_logpdf(X, squeeze(α0, 2)))\n",
    "dL = zeros(d, 1)\n",
    "inv_A = ones(d, 1);\n",
    "# Newton loop\n",
    "for iter in 1:maxiters\n",
    "        # evaluate gradient (score)\n",
    "    dL .= sum(broadcast(-, \n",
    "        digamma.(broadcast(+, X, α0)), digamma.(α0)), 2) - \n",
    "        sum(digamma.(broadcast(+, X_rowsum, α0_sum)) - \n",
    "        digamma(α0_sum))\n",
    "        # compute Newton's direction\n",
    "        # inv_A .= - Diagonal(squeeze(1 ./ sum(broadcast(-, \n",
    "            # trigamma.(broadcast(+, X, α0)), trigamma.(α0)), 2), 2))\n",
    "    inv_A .= -1 ./ sum(broadcast(-, trigamma.(broadcast(+, X, α0)), trigamma.(α0)), 2)\n",
    "        # compute scaling factor c\n",
    "    c = - sum(trigamma.(broadcast(+, α0_sum, X_rowsum)) - \n",
    "            trigamma(α0_sum))\n",
    "        # the threshold to determin whether matrix is PD\n",
    "    thres = sum(inv_A)\n",
    "    if c < 1 / thres\n",
    "        c = c\n",
    "    else\n",
    "        c = 0.99 * 1 / thresh\n",
    "    end\n",
    "        # computer the direction\n",
    "    direct = inv_A .* dL + (c / (1 - c * thres)) * inv_A * inv_A' * dL\n",
    "    s_temp = - 0.99 * α0 ./ direct\n",
    "        # ensure all steps are positive\n",
    "    s_temp[find(s_temp .< 0)] = 10\n",
    "        # get the minimum step\n",
    "    s = minimum(s_temp)\n",
    "        # line search loop\n",
    "    # for lsiter in 1:10\n",
    "    logl_new = loglold - 1\n",
    "    while logl_new < loglold\n",
    "            # step halving\n",
    "        s = s / 2\n",
    "        α1 = α0 + s * direct\n",
    "        logl_new = sum(dirmult_logpdf(X, squeeze(α1, 2)))\n",
    "    end\n",
    "        # compute the loglikelihood\n",
    "    logl = sum(dirmult_logpdf(X, squeeze(α1, 2)))\n",
    "        # check convergence criterion\n",
    "    \n",
    "    if abs(logl - loglold) < tolfun * (abs(loglold) + 1)\n",
    "        loglold = logl\n",
    "        α0 = α1\n",
    "        α0_sum = sum(α0)\n",
    "        break;\n",
    "    end\n",
    "    loglold = logl\n",
    "    α0 = α1\n",
    "    α0_sum = sum(α0)\n",
    "    n_iter = n_iter + 1\n",
    "end"
   ]
  },
  {
   "cell_type": "code",
   "execution_count": 13,
   "metadata": {
    "collapsed": false
   },
   "outputs": [
    {
     "data": {
      "text/plain": [
       "-472074.58283876255"
      ]
     },
     "execution_count": 13,
     "metadata": {},
     "output_type": "execute_result"
    }
   ],
   "source": [
    "loglold"
   ]
  },
  {
   "cell_type": "code",
   "execution_count": 14,
   "metadata": {
    "collapsed": false
   },
   "outputs": [
    {
     "data": {
      "text/plain": [
       "62×1 Array{Float64,2}:\n",
       " 0.0805674  \n",
       " 0.889275   \n",
       " 2.08659    \n",
       " 2.00296    \n",
       " 0.759485   \n",
       " 0.145735   \n",
       " 0.0150869  \n",
       " 0.000388006\n",
       " 0.29995    \n",
       " 1.73392    \n",
       " 2.12627    \n",
       " 1.85609    \n",
       " 1.22812    \n",
       " ⋮          \n",
       " 1.64675    \n",
       " 1.39173    \n",
       " 0.45708    \n",
       " 0.0271373  \n",
       " 0.000129239\n",
       " 0.0651571  \n",
       " 0.913909   \n",
       " 2.09582    \n",
       " 1.92629    \n",
       " 0.938741   \n",
       " 0.230481   \n",
       " 0.027691   "
      ]
     },
     "execution_count": 14,
     "metadata": {},
     "output_type": "execute_result"
    }
   ],
   "source": [
    "# compute logl, gradient, Hessian from final iterate\n",
    "c = - sum(trigamma.(broadcast(+, α0_sum, X_rowsum)) - \n",
    "    trigamma(α0_sum))\n",
    "H_tempt = - Diagonal(squeeze(sum(broadcast(-, trigamma.(broadcast(+, X, α0)), \n",
    "    trigamma.(α0)), 2), 2)) - c * ones(d, d)\n",
    "Hessian = zeros(tot_d, tot_d)\n",
    "Hessian[nonzero_indx, nonzero_indx] = - H_tempt\n",
    "# output\n",
    "inv_A .= -1 ./ sum(broadcast(-, trigamma.(broadcast(+, X, α0)), trigamma.(α0)), 2)\n",
    "thres = sum(inv_A)\n",
    "inv_H = Diagonal(squeeze(inv_A, 2)) + c / (1 - c * thres) * (inv_A * inv_A')\n",
    "# Se = zeros(d_tot)\n",
    "# Se[nonzero_indx] = (Diagonal(inv_H)).^2\n",
    "dL = sum(broadcast(-, \n",
    "    digamma.(broadcast(+, X, α0)), digamma.(α0)), 2) - \n",
    "    sum(digamma.(broadcast(+, α0_sum, X_rowsum)) - digamma(α0_sum))\n",
    "grad = zeros(tot_d)\n",
    "fill!(grad, sum(digamma.(broadcast(+, α0_sum, X_rowsum)) - digamma(α0_sum)))\n",
    "grad[nonzero_indx] = dL\n",
    "α = zeros(tot_d)\n",
    "α[nonzero_indx] = α0"
   ]
  },
  {
   "cell_type": "markdown",
   "metadata": {},
   "source": [
    "## Q9\n",
    "\n",
    "Read in `optdigits.tra`, the training set of 3823 handwritten digits. Find the MLE for the subset of digit 0, digit 1, ..., and digit 9 separately using your function. "
   ]
  },
  {
   "cell_type": "code",
   "execution_count": 41,
   "metadata": {
    "collapsed": false
   },
   "outputs": [],
   "source": [
    "# Read digits data\n",
    "digits = Matrix{Float64}(CSV.read(\"optdigits.tra\", datarow = 1));\n",
    "X = digits[:, 1:64]';\n",
    "Y = digits[:, 65];"
   ]
  },
  {
   "cell_type": "code",
   "execution_count": 42,
   "metadata": {
    "collapsed": false
   },
   "outputs": [
    {
     "data": {
      "text/plain": [
       "(-472074.58283876255, [7734.21, 2.21981, -0.297244, 0.7474, 0.636995, -1.53458, -2.15789, -3.37295, 0.708972, -1.66929  …  -1.99552, -0.839926, 3.38468, 2.52662, -0.606121, 0.695014, 0.356521, -1.21086, -2.3257, -3.72253], [0.0 0.0 … 0.0 0.0; 0.0 -91583.0 … 69.408 69.408; … ; 0.0 69.408 … -25447.9 69.408; 0.0 69.408 … 69.408 -2.7006e5], [0.0, 0.0805674, 0.889275, 2.08659, 2.00296, 0.759485, 0.145735, 0.0150869, 0.000388006, 0.29995  …  0.45708, 0.0271373, 0.000129239, 0.0651571, 0.913909, 2.09582, 1.92629, 0.938741, 0.230481, 0.027691], 5)"
      ]
     },
     "execution_count": 42,
     "metadata": {},
     "output_type": "execute_result"
    }
   ],
   "source": [
    "loglold, grad, Hessian, α = dirmult_newton(X)"
   ]
  },
  {
   "cell_type": "code",
   "execution_count": 43,
   "metadata": {
    "collapsed": false
   },
   "outputs": [
    {
     "data": {
      "text/plain": [
       "64-element Array{Float64,1}:\n",
       " 0.0        \n",
       " 0.0805674  \n",
       " 0.889275   \n",
       " 2.08659    \n",
       " 2.00296    \n",
       " 0.759485   \n",
       " 0.145735   \n",
       " 0.0150869  \n",
       " 0.000388006\n",
       " 0.29995    \n",
       " 1.73392    \n",
       " 2.12627    \n",
       " 1.85609    \n",
       " ⋮          \n",
       " 1.64675    \n",
       " 1.39173    \n",
       " 0.45708    \n",
       " 0.0271373  \n",
       " 0.000129239\n",
       " 0.0651571  \n",
       " 0.913909   \n",
       " 2.09582    \n",
       " 1.92629    \n",
       " 0.938741   \n",
       " 0.230481   \n",
       " 0.027691   "
      ]
     },
     "execution_count": 43,
     "metadata": {},
     "output_type": "execute_result"
    }
   ],
   "source": [
    "α"
   ]
  },
  {
   "cell_type": "markdown",
   "metadata": {},
   "source": [
    "## Q10\n",
    "\n",
    "As $\\alpha / |\\alpha| \\to \\mathbf{p}$, the Dirichlet-multinomial distribution converges to a multinomial with parameter $\\mathbf{p}$. Therefore multinomial can be considered as a special Dirichlet-multinomial with $|\\alpha|=\\infty$. Perform a likelihood ratio test (LRT) whether Dirichlet-multinomial offers a better fit than multinomial for digits 0, 1, ..., 9 respectively.  "
   ]
  },
  {
   "cell_type": "markdown",
   "metadata": {},
   "source": [
    "### Answer to Q10  \n",
    "\n",
    "First, we can compute the MLE estimation with Dirichelet-multinomial. "
   ]
  },
  {
   "cell_type": "code",
   "execution_count": 59,
   "metadata": {
    "collapsed": false
   },
   "outputs": [],
   "source": [
    "logl_dmul = zeros(10)\n",
    "αs = zeros(size(X, 1), 10)\n",
    "for i = 1:10\n",
    "    mask_indx = find(Y .== (i - 1))\n",
    "    cur_X = X[:, mask_indx]\n",
    "    logl, _, _, α = dirmult_newton(cur_X)\n",
    "    αs[:, i] = α\n",
    "    logl_dmul[i] = logl\n",
    "end"
   ]
  },
  {
   "cell_type": "markdown",
   "metadata": {},
   "source": [
    "Then we can compute the loglikehood with the multinomial model:  \n",
    "\n",
    "$$\n",
    "\\hat\n",
    "$$"
   ]
  },
  {
   "cell_type": "code",
   "execution_count": 60,
   "metadata": {
    "collapsed": false
   },
   "outputs": [
    {
     "data": {
      "text/plain": [
       "10-element Array{Float64,1}:\n",
       " -37358.4\n",
       " -42179.2\n",
       " -39985.3\n",
       " -40519.5\n",
       " -43488.8\n",
       " -41191.3\n",
       " -37702.5\n",
       " -40304.0\n",
       " -43130.8\n",
       " -43709.7"
      ]
     },
     "execution_count": 60,
     "metadata": {},
     "output_type": "execute_result"
    }
   ],
   "source": [
    "logl_dmul"
   ]
  },
  {
   "cell_type": "markdown",
   "metadata": {},
   "source": [
    "## Q11\n",
    "\n",
    "Now we can construct a simple Bayesian rule for handwritten digits recognition:\n",
    "$$\n",
    "\t\\mathbf{x}\t\\mapsto \\arg \\max_k \\widehat \\pi_k f(x|\\widehat \\alpha_k).\n",
    "$$\n",
    "Here we can use the proportion of digit $k$ in the training set as the prior probability $\\widehat \\pi_k$. Report the performance of your classifier on the test set of 1797 digits in `optdigits.tes`."
   ]
  }
 ],
 "metadata": {
  "anaconda-cloud": {},
  "kernelspec": {
   "display_name": "Julia 0.6.2",
   "language": "julia",
   "name": "julia-0.6"
  },
  "language_info": {
   "file_extension": ".jl",
   "mimetype": "application/julia",
   "name": "julia",
   "version": "0.6.2"
  },
  "toc": {
   "colors": {
    "hover_highlight": "#DAA520",
    "running_highlight": "#FF0000",
    "selected_highlight": "#FFD700"
   },
   "moveMenuLeft": true,
   "nav_menu": {
    "height": "65px",
    "width": "252px"
   },
   "navigate_menu": true,
   "number_sections": false,
   "sideBar": true,
   "threshold": 4,
   "toc_cell": false,
   "toc_section_display": "block",
   "toc_window_display": false,
   "widenNotebook": false
  }
 },
 "nbformat": 4,
 "nbformat_minor": 2
}
