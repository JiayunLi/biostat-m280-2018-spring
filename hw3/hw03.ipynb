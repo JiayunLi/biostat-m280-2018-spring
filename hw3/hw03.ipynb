{
 "cells": [
  {
   "cell_type": "markdown",
   "metadata": {},
   "source": [
    "# Biostat M280 Homework 3\n",
    "\n",
    "**Due Friday, May 25 @ 11:59PM**"
   ]
  },
  {
   "cell_type": "markdown",
   "metadata": {},
   "source": [
    "## Q1 - Big $n$ regression\n",
    "\n",
    "Those who took my _203B: Introduction to Data Science_ last quarter had a (painful) experience of wrangling an Apache Spark cluster to do linear regression on a dataset with more than 100 million observations. Now we learnt various methods for solving linear regression and should realize that, with right choice of algorithm, it is a problem that can be handled by any moderate computer."
   ]
  },
  {
   "cell_type": "markdown",
   "metadata": {},
   "source": [
    "### Q1(1)\n",
    "\n",
    "Download the flight data from <http://stat-computing.org/dataexpo/2009/the-data.html>. For this exercise, we only need data from years 2003-2008. If you are using Mac or Linux, you can run the following Bash script, which downloads and unzips files for all years.\n",
    "```bash\n",
    "# Download flight data by year\n",
    "for i in {1987..2008}\n",
    "  do\n",
    "    echo \"$(date) $i Download\"\n",
    "    fnam=$i.csv.bz2\n",
    "    wget -O ./$fnam http://stat-computing.org/dataexpo/2009/$fnam\n",
    "    echo \"$(date) $i unzip\"\n",
    "    bzip2 -d ./$fnam\n",
    "  done\n",
    "\n",
    "# Download airline carrier data\n",
    "wget -O ./airlines.csv http://www.transtats.bts.gov/Download_Lookup.asp?Lookup=L_UNIQUE_CARRIERS\n",
    "\n",
    "# Download airports data\n",
    "wget -O ./airports.csv https://raw.githubusercontent.com/jpatokal/openflights/master/data/airports.dat\n",
    "```\n",
    "Find out how many data points in each year."
   ]
  },
  {
   "cell_type": "markdown",
   "metadata": {},
   "source": [
    "### Answer to Q1(1)  \n",
    "\n",
    "I used countlines to get the number of data points in each year (2003-2008)."
   ]
  },
  {
   "cell_type": "code",
   "execution_count": 2,
   "metadata": {
    "collapsed": false
   },
   "outputs": [
    {
     "name": "stdout",
     "output_type": "stream",
     "text": [
      "6488541\n",
      "7129271\n",
      "7140597\n",
      "7141923\n",
      "7453216\n",
      "7009729\n"
     ]
    }
   ],
   "source": [
    "# how many data points\n",
    "println(countlines(\"2003.csv\"))\n",
    "println(countlines(\"2004.csv\"))\n",
    "println(countlines(\"2005.csv\"))\n",
    "println(countlines(\"2006.csv\"))\n",
    "println(countlines(\"2007.csv\"))\n",
    "println(countlines(\"2008.csv\"))"
   ]
  },
  {
   "cell_type": "markdown",
   "metadata": {},
   "source": [
    "### Q1(2) \n",
    "\n",
    "We are interested in how the time gain of a flight, defined as `DepDelay - ArrDelay`, depends on the distance traveled (`Distance`), departure delay (`DepDelay`), and carrier (`UniqueCarrier`). \n",
    "\n",
    "We want to fit a linear regression `Gain ~ 1 + Distance + DepDelay + UniqueCarrier` using data from 2003-2008. Note `UniqueCarrier` is a factor with 23 levels: \"9E\", \"AA\", \"AQ\", \"AS\", \"B6\", \"CO\", \"DH\", \"DL\", \"EV\", \"F9\", \"FL\", \"HA\", \"HP\", \"MQ\", \"NW\", \"OH\", \"OO\", \"TZ\", \"UA\", \"US\", \"WN\", \"XE\", and \"YV\". We use the dummy coding with \"9E\" as base level.\n",
    "\n",
    "Will the design matrix (in double precision) fit into the memory of you computer?"
   ]
  },
  {
   "cell_type": "markdown",
   "metadata": {},
   "source": [
    "### Answer to Q1(2)  \n",
    "\n",
    "If we use double precision for the design matrix and use '9E' and basd level, there will be `(22+4)` columns for 2003-2008. From the Q1(1), we have alreday known that there are `(6488541+7129271+7140597+7141923+7453216+7009729) = 42363277` observations in year 2003-2008. So the design matrix could take up about `42363277 * 26 * 8 bytes = 8.8 Gb` in memory, which can not be fitted into the memory of my laptop (8Gb memory).   \n",
    "\n",
    "The following show an example to load data in 2003 into memory. "
   ]
  },
  {
   "cell_type": "code",
   "execution_count": 1,
   "metadata": {
    "collapsed": false
   },
   "outputs": [],
   "source": [
    "# Pkg.add(\"JuliaDB\")\n",
    "# import data from csv\n",
    "using JuliaDB"
   ]
  },
  {
   "cell_type": "code",
   "execution_count": 11,
   "metadata": {
    "collapsed": false
   },
   "outputs": [
    {
     "name": "stdout",
     "output_type": "stream",
     "text": [
      " 36.232063 seconds (144.03 M allocations: 7.497 GiB, 36.01% gc time)\n"
     ]
    },
    {
     "data": {
      "text/plain": [
       "Table with 6488540 rows, 4 columns:\n",
       "DepDelay  ArrDelay  UniqueCarrier  Distance\n",
       "───────────────────────────────────────────\n",
       "-4        -1        \"UA\"           837\n",
       "-1        -3        \"UA\"           837\n",
       "29        23        \"UA\"           837\n",
       "-2        -9        \"UA\"           1835\n",
       "18        52        \"UA\"           1835\n",
       "-4        6         \"UA\"           1835\n",
       "-4        -8        \"UA\"           1835\n",
       "0         2         \"UA\"           1835\n",
       "-4        19        \"UA\"           1835\n",
       "3         4         \"UA\"           413\n",
       "-4        -23       \"UA\"           413\n",
       "-3        -19       \"UA\"           413\n",
       "⋮\n",
       "#NA       #NA       \"DL\"           1891\n",
       "29        62        \"DL\"           581\n",
       "39        66        \"DL\"           1891\n",
       "26        27        \"DL\"           1678\n",
       "114       134       \"DL\"           946\n",
       "44        53        \"DL\"           813\n",
       "16        47        \"DL\"           432\n",
       "50        54        \"DL\"           432\n",
       "-3        -5        \"DL\"           453\n",
       "3         3         \"DL\"           689\n",
       "-1        -1        \"DL\"           1929"
      ]
     },
     "execution_count": 11,
     "metadata": {},
     "output_type": "execute_result"
    }
   ],
   "source": [
    "@time yrtable = loadtable(\n",
    "    \"2003.csv\", \n",
    "    datacols = [\"DepDelay\", \"ArrDelay\", \"UniqueCarrier\", \"Distance\"])"
   ]
  },
  {
   "cell_type": "markdown",
   "metadata": {},
   "source": [
    "### Q1(3)\n",
    "\n",
    "Review the [Summary of Linear Regression](http://hua-zhou.github.io/teaching/biostatm280-2018spring/slides/12-linreg/linreg.html) and devise a strategy to solve the linear regression.\n",
    "\n",
    "Report the estimated regression coefficients $\\widehat \\beta$, estimated variance $\\widehat \\sigma^2 = \\sum_i (y_i - \\widehat y_i)^2 / (n - 1)$, and coefficient standard errors.\n",
    "\n",
    "Hint: It took my laptop less than 3 minutes to import data and fit linear regression."
   ]
  },
  {
   "cell_type": "markdown",
   "metadata": {},
   "source": [
    "### Answer to Q1(3)  \n",
    "\n",
    "Though the design matrix cannot be fitted into the memory, Cholesky and Sweep methods could solved linear regression models based on the Gram matrix $\\mathbf{X}^{T}\\mathbf{X}$ , which can be dynamically updated with incoming data. They can handle huge $n$ , moderate $p$ data sets that cannot fit into memory. Here, I used Sweep method to solve linear regression model, since it could give standard errors and so on. "
   ]
  },
  {
   "cell_type": "code",
   "execution_count": 2,
   "metadata": {
    "collapsed": false
   },
   "outputs": [
    {
     "data": {
      "text/plain": [
       "Dict{Int64,String} with 26 entries:\n",
       "  1  => \"Intercept\"\n",
       "  2  => \"Distance\"\n",
       "  16 => \"MQ\"\n",
       "  11 => \"EV\"\n",
       "  21 => \"UA\"\n",
       "  7  => \"B6\"\n",
       "  9  => \"DH\"\n",
       "  25 => \"YV\"\n",
       "  10 => \"DL\"\n",
       "  26 => \"Gain\"\n",
       "  19 => \"OO\"\n",
       "  17 => \"NW\"\n",
       "  8  => \"CO\"\n",
       "  22 => \"US\"\n",
       "  6  => \"AS\"\n",
       "  24 => \"XE\"\n",
       "  4  => \"AA\"\n",
       "  3  => \"DepDelay\"\n",
       "  5  => \"AQ\"\n",
       "  20 => \"TZ\"\n",
       "  23 => \"WN\"\n",
       "  13 => \"FL\"\n",
       "  14 => \"HA\"\n",
       "  15 => \"HP\"\n",
       "  12 => \"F9\"\n",
       "  ⋮  => ⋮"
      ]
     },
     "execution_count": 2,
     "metadata": {},
     "output_type": "execute_result"
    }
   ],
   "source": [
    "# mapping from variable names to X columns\n",
    "# carrier \"9E\" is used as base level\n",
    "const var2col = Dict(\n",
    "        \"Intercept\" => 1,\n",
    "        \"Distance\" => 2,\n",
    "        \"DepDelay\" => 3,\n",
    "        \"AA\" => 4,\n",
    "        \"AQ\" => 5,\n",
    "        \"AS\" => 6,\n",
    "        \"B6\" => 7,\n",
    "        \"CO\" => 8,\n",
    "        \"DH\" => 9,\n",
    "        \"DL\" => 10,\n",
    "        \"EV\" => 11,\n",
    "        \"F9\" => 12,\n",
    "        \"FL\" => 13,\n",
    "        \"HA\" => 14,\n",
    "        \"HP\" => 15,\n",
    "        \"MQ\" => 16,\n",
    "        \"NW\" => 17,\n",
    "        \"OH\" => 18,\n",
    "        \"OO\" => 19,\n",
    "        \"TZ\" => 20,\n",
    "        \"UA\" => 21,\n",
    "        \"US\" => 22,\n",
    "        \"WN\" => 23,\n",
    "        \"XE\" => 24,\n",
    "        \"YV\" => 25,\n",
    "        \"Gain\" => 26)\n",
    "# mapping from column to variable names\n",
    "const col2var = map(reverse, var2col)\n",
    "# a custom function to generate [X y] from data table\n",
    "function generate_xy(tbl::NextTable)\n",
    "    # X matrix\n",
    "    XY = zeros(length(tbl), 26)\n",
    "    # intercept term\n",
    "    @views fill!(XY[:, 1], 1)\n",
    "    # Distance term\n",
    "    @views copy!(XY[:, 2], columns(tbl, :Distance))\n",
    "    # DepDelay term\n",
    "    @views copy!(XY[:, 3], columns(tbl, :DepDelay))\n",
    "    # Dummy coding for airline\n",
    "    @inbounds for i in 1:length(tbl)\n",
    "        # yrtable[i][:UniqueCarrier] == \"9E\" && continue # base level\n",
    "        tbl[i][:UniqueCarrier] == \"9E\" && continue # base level\n",
    "        XY[i, var2col[tbl[i][:UniqueCarrier]]] = 1\n",
    "    end\n",
    "    # last column is response: gain = depdelay - arrdelay\n",
    "    XY[:, 26] = select(tbl, \n",
    "        (:DepDelay, :ArrDelay) => p -> Float64(p.DepDelay - p.ArrDelay))\n",
    "    # return\n",
    "    XY\n",
    "end"
   ]
  },
  {
   "cell_type": "code",
   "execution_count": 4,
   "metadata": {
    "collapsed": true
   },
   "outputs": [],
   "source": [
    "using SweepOperator"
   ]
  },
  {
   "cell_type": "code",
   "execution_count": 5,
   "metadata": {
    "collapsed": false
   },
   "outputs": [],
   "source": [
    "n = 0\n",
    "for i = 2003: 2008\n",
    "    yrtable = loadtable(string(i, \".csv\"), datacols = [\"DepDelay\", \"ArrDelay\", \"UniqueCarrier\", \"Distance\"]);\n",
    "    # drop rows with missing values\n",
    "    yrtable = dropna(yrtable)\n",
    "    xy = generate_xy(yrtable)\n",
    "    n = n + size(xy, 1)\n",
    "    Gram .= Gram + xy' * xy\n",
    "    # println(i)\n",
    "end"
   ]
  },
  {
   "cell_type": "code",
   "execution_count": 14,
   "metadata": {
    "collapsed": false
   },
   "outputs": [
    {
     "data": {
      "text/plain": [
       "26×26 Array{Float64,2}:\n",
       "     -2.00254e-6   4.21792e-11  …   1.98347e-6    1.14033   \n",
       "      3.00028e10  -9.38376e-14     -5.01596e-12   0.00164935\n",
       "      3.69821e8    2.76146e11       1.16836e-10  -0.0118811 \n",
       "      3.91626e6    4.19149e9       -1.97927e-6   -1.8723    \n",
       "  88336.0          3.75197e7       -1.98134e-6   -0.5789    \n",
       " 937547.0          8.30881e8    …  -1.98009e-6   -0.938452  \n",
       " 799117.0          9.55599e8       -1.97878e-6   -1.42247   \n",
       "      1.8094e6     2.03781e9       -1.97887e-6   -2.57627   \n",
       " 669687.0          2.51484e8       -1.98271e-6    1.16808   \n",
       "      3.37715e6    2.9514e9        -1.97993e-6   -2.19625   \n",
       "      1.64509e6    7.42218e8    …  -1.98278e-6    1.03932   \n",
       " 334842.0          2.97744e8       -1.97972e-6   -2.15207   \n",
       "      1.24932e6    8.33171e8       -1.98132e-6   -1.35247   \n",
       " 272859.0          1.61374e8       -1.98044e-6   -1.87248   \n",
       " 574927.0          5.84803e8       -1.97917e-6   -0.350758  \n",
       "      2.90986e6    1.13812e9    …  -1.98262e-6   -1.46395   \n",
       "      2.64244e6    2.01399e9       -1.98034e-6   -3.62506   \n",
       "      1.41412e6    6.64003e8       -1.9822e-6    -0.00722279\n",
       "      3.02053e6    1.17539e9       -1.98236e-6   -0.40365   \n",
       " 206007.0          2.37097e8       -1.97834e-6   -3.5774    \n",
       "      2.96794e6    3.19798e9    …  -1.97923e-6   -1.14816   \n",
       "      2.65381e6    2.03684e9       -1.98051e-6   -0.883753  \n",
       "      6.38387e6    3.87575e9       -1.98156e-6    2.74855   \n",
       "      2.29046e6    1.23256e9       -1.98175e-6   -2.56721   \n",
       " 822290.0          3.27927e8       -3.19909e-6   -0.202211  \n",
       "      6.0236e7     5.75882e10   …   1.18638e6     8.48076e9 "
      ]
     },
     "execution_count": 14,
     "metadata": {},
     "output_type": "execute_result"
    }
   ],
   "source": [
    "p = 25\n",
    "sweep!(Gram, 1:p)"
   ]
  },
  {
   "cell_type": "code",
   "execution_count": 32,
   "metadata": {
    "collapsed": false
   },
   "outputs": [
    {
     "data": {
      "text/plain": [
       "41490375"
      ]
     },
     "execution_count": 32,
     "metadata": {},
     "output_type": "execute_result"
    }
   ],
   "source": [
    "# estimated regression coefficients \n",
    "σ2 = Gram[p + 1, end] / (n - 1)\n",
    "n"
   ]
  },
  {
   "cell_type": "code",
   "execution_count": 48,
   "metadata": {
    "collapsed": false
   },
   "outputs": [
    {
     "data": {
      "text/plain": [
       "25×25 SparseMatrixCSC{Float64,Int64} with 25 stored entries:\n",
       "  [1 ,  1]  =  0.0202318\n",
       "  [2 ,  2]  =  4.37958e-6\n",
       "  [3 ,  3]  =  6.88878e-5\n",
       "  [4 ,  4]  =  0.0215571\n",
       "  [5 ,  5]  =  0.0521477\n",
       "  [6 ,  6]  =  0.0250361\n",
       "  [7 ,  7]  =  0.0259154\n",
       "  [8 ,  8]  =  0.0229534\n",
       "  [9 ,  9]  =  0.0266552\n",
       "  [10, 10]  =  0.021659\n",
       "  ⋮\n",
       "  [15, 15]  =  0.0276918\n",
       "  [16, 16]  =  0.0218055\n",
       "  [17, 17]  =  0.0220088\n",
       "  [18, 18]  =  0.023446\n",
       "  [19, 19]  =  0.0217463\n",
       "  [20, 20]  =  0.0375073\n",
       "  [21, 21]  =  0.0219444\n",
       "  [22, 22]  =  0.0220022\n",
       "  [23, 23]  =  0.0209201\n",
       "  [24, 24]  =  0.0222383\n",
       "  [25, 25]  =  0.0255715"
      ]
     },
     "execution_count": 48,
     "metadata": {},
     "output_type": "execute_result"
    }
   ],
   "source": [
    "# Compute the standart errors of coefficients\n",
    "β_var = -Diagonal(Gram[1:p, 1:p] * σ2);\n",
    "β_se = sqrt.(β_var)\n",
    "# se = sqrt.(se)"
   ]
  },
  {
   "cell_type": "markdown",
   "metadata": {},
   "source": [
    "### Q1(4)\n",
    "\n",
    "Go to your resume/cv and claim you have experience performing analytics on data with hundred millions of observations."
   ]
  },
  {
   "cell_type": "markdown",
   "metadata": {},
   "source": [
    "## Q2 - Google PageRank\n",
    "\n",
    "We are going to try different numerical methods learnt in class on the [Google PageRank problem](https://en.wikipedia.org/wiki/PageRank)."
   ]
  },
  {
   "cell_type": "markdown",
   "metadata": {},
   "source": [
    "### Q2(1)\n",
    "\n",
    "Let $\\mathbf{A} \\in \\{0,1\\}^{n \\times n}$ be the connectivity matrix of $n$ web pages with entries\n",
    "$$\n",
    "\\begin{eqnarray*}\n",
    "\ta_{ij}= \\begin{cases}\n",
    "\t1 & \\text{if page $i$ links to page $j$} \\\\\n",
    "\t0 & \\text{otherwise}\n",
    "\t\\end{cases}.\n",
    "\\end{eqnarray*}\n",
    "$$\n",
    "$r_i = \\sum_j a_{ij}$ is the out-degree of page $i$. That is $r_i$ is the number of links on page $i$. Imagine a random surfer exploring the space of $n$ pages according to the following rules.  \n",
    "\n",
    "- From a page $i$ with $r_i>0$\n",
    "    * with probability $p$, (s)he randomly chooses a link on page $i$ (uniformly) and follows that link to the next page  \n",
    "    * with probability $1-p$, (s)he randomly chooses one page from the set of all $n$ pages (uniformly) and proceeds to that page  \n",
    "- From a page $i$ with $r_i=0$ (a dangling page), (s)he randomly chooses one page from the set of all $n$ pages (uniformly) and proceeds to that page  \n",
    "    \n",
    "The process defines a Markov chain on the space of $n$ pages. Write down the transition matrix $\\mathbf{P}$ of the Markov chain as a sparse matrix plus rank-1 matrix."
   ]
  },
  {
   "cell_type": "markdown",
   "metadata": {},
   "source": [
    "### Answer to Q2(1)  \n",
    "\n",
    "\n",
    "$\n",
    "P_{ij} =  \\begin{cases}\n",
    "\t\\frac{1-p}{n} + {\\frac{a_{ij}p}{r_{i}}} & \\text{if $r_{i} \\neq 0$} \\\\\n",
    "\t\\frac{1}{n} & \\text{otherwise}\n",
    "\t\\end{cases}\n",
    "$\n",
    "\n"
   ]
  },
  {
   "cell_type": "markdown",
   "metadata": {
    "collapsed": true
   },
   "source": [
    "### Q2(2)\n",
    "\n",
    "According to standard Markov chain theory, the (random) position of the surfer converges to the stationary distribution $\\mathbf{x} = (x_1,\\ldots,x_n)^T$ of the Markov chain. $x_i$ has the natural interpretation of the proportion of times the surfer visits page $i$ in the long run. Therefore $\\mathbf{x}$ serves as page ranks: a higher $x_i$ means page $i$ is more visited. It is well-known that $\\mathbf{x}$ is the left eigenvector corresponding to the top eigenvalue 1 of the transition matrix $\\mathbf{P}$. That is $\\mathbf{P}^T \\mathbf{x} = \\mathbf{x}$. Therefore $\\mathbf{x}$ can be solved as an eigen-problem. Show that it can also be cast as solving a linear system. Since the row sums of $\\mathbf{P}$ are 1, $\\mathbf{P}$ is rank deficient. We can replace the first equation by the $\\sum_{i=1}^n x_i = 1$."
   ]
  },
  {
   "cell_type": "markdown",
   "metadata": {},
   "source": [
    "### Answer to Q2(2)  \n",
    "\n",
    "$\\mathbf{x}$ is the left eigenvector corresponding to the top eigenvalue 1 of the transition matrix $\\mathbf{P}$, then we have $\\mathbf{P}^T \\mathbf{x} = \\mathbf{x}$.  \n",
    "So\n",
    "\n",
    "$\n",
    " \\mathbf{P}^T \\mathbf{x} = \\frac{1-p}{n}\\mathbf{E}\\mathbf{x} + p\\mathbf{A}\\mathbf{R}^{-1}\\mathbf{x}\n",
    " = \\mathbf{x}\n",
    "$  \n",
    "\n",
    "Then we can have the linear system solution.  \n",
    "\n",
    "$\n",
    "\\mathbf{x}(\\mathbf{I}-p\\mathbf{A}\\mathbf{R}^{-1})=\\frac{1-p}{n}\\mathbf{1}\n",
    "$  \n",
    "\n",
    "$\\mathbf{1}$ is the column vectors of length $n$ containing only ones.\n",
    "\n"
   ]
  },
  {
   "cell_type": "markdown",
   "metadata": {},
   "source": [
    "The problem of solving eigen-problem $\\mathbf{P}^{T}\\mathbf{x} = \\mathbf{x}$ is equivalent to $(\\mathbf{P}^T-\\mathbf{I})\\mathbf{x} = \\mathbf{0}$ Since the row sums of $\\mathbf{P}$ are 1, $\\mathbf{P}$ is rank deficient, and we cannot use LU decomposition to solve it directly. In order to solve the problem, we can add another row to the original problem. \n",
    "\n",
    "$\n",
    "\\\n",
    "\\begin{bmatrix}\n",
    "\\mathbf{P_n}^{T} - \\mathbf{I_n} \\\\\n",
    "\\mathbf{1}\n",
    "\\end{bmatrix}\\mathbf{x}= \n",
    "\\begin{bmatrix}\n",
    "\\mathbf{0_n}\\\\\n",
    "\\mathbf{1}\n",
    "\\end{bmatrix}\n",
    "\\\n",
    "$  \n",
    "\n",
    "So if we set $\\mathbf{A} =\n",
    "\\begin{bmatrix}\n",
    "\\mathbf{P_n}^{T} - \\mathbf{I_n} \\\\\n",
    "\\mathbf{1}\n",
    "\\end{bmatrix} $ and $\\mathbf{b} = \\begin{bmatrix}\n",
    "\\mathbf{0_n}\\\\\n",
    "\\mathbf{1}\n",
    "\\end{bmatrix}$, we can solve the linear system $\\mathbf{A}\\mathbf{x}=\\mathbf{b}$"
   ]
  },
  {
   "cell_type": "markdown",
   "metadata": {},
   "source": [
    "### Q2(3)\n",
    "\n",
    "Download the [`ucla.zip`](http://hua-zhou.github.io/teaching/biostatm280-2018spring/hw/hw3/ucla.zip) package from course webpage. Unzip the package, which contains two files `U.txt` and `A.txt`. `U.txt` lists the 500 URL names. `A.txt` is the $500 \\times 500$ connectivity matrix. Read data into Julia. Compute summary statistics:\n",
    "* number of pages\n",
    "* number of edges\n",
    "* number of dangling nodes (pages with no out links)\n",
    "* which page has max in-degree?\n",
    "* which page has max out-degree?\n",
    "* visualize the sparsity pattern of $\\mathbf{A}$"
   ]
  },
  {
   "cell_type": "markdown",
   "metadata": {},
   "source": [
    "### Answer to Q2(3)  \n"
   ]
  },
  {
   "cell_type": "code",
   "execution_count": 1,
   "metadata": {
    "collapsed": false
   },
   "outputs": [],
   "source": [
    "# Pkg.add(\"CSV\")\n",
    "using CSV"
   ]
  },
  {
   "cell_type": "code",
   "execution_count": 76,
   "metadata": {
    "collapsed": false
   },
   "outputs": [
    {
     "name": "stdout",
     "output_type": "stream",
     "text": [
      "The number of pages is 500\n",
      "The number of edges is 11158\n"
     ]
    }
   ],
   "source": [
    "# Load the data into Julia\n",
    "data_u_loc = \"U.txt\"\n",
    "data_a_loc = \"A.txt\"\n",
    "U = CSV.read(data_u_loc, header=0);\n",
    "A = Array(CSV.read(data_a_loc, header=0));\n",
    "# Get the number of pages, which corresponds to the number of lines in U\n",
    "println(\"The number of pages is \", size(U, 1))\n",
    "println(\"The number of edges is \", sum(A))"
   ]
  },
  {
   "cell_type": "code",
   "execution_count": 7,
   "metadata": {
    "collapsed": false
   },
   "outputs": [
    {
     "name": "stdout",
     "output_type": "stream",
     "text": [
      "The number of dangling nodes is 96\n"
     ]
    }
   ],
   "source": [
    "# Get the number of dangling nodes\n",
    "n_dangling = 0\n",
    "for row = 1:500\n",
    "    if sum(A[row, :]) == 0\n",
    "        n_dangling = n_dangling + 1\n",
    "    end\n",
    "end\n",
    "println(\"The number of dangling nodes is \", n_dangling)"
   ]
  },
  {
   "cell_type": "code",
   "execution_count": 8,
   "metadata": {
    "collapsed": false
   },
   "outputs": [
    {
     "name": "stdout",
     "output_type": "stream",
     "text": [
      "The page with maximum out degree 36\n",
      "1×1 DataFrames.DataFrame\n",
      "│ Row │ Column1                │\n",
      "├─────┼────────────────────────┤\n",
      "│ 1   │ http://giveto.ucla.edu │\n",
      "The page with maximum in degree 1\n",
      "1×1 DataFrames.DataFrame\n",
      "│ Row │ Column1             │\n",
      "├─────┼─────────────────────┤\n",
      "│ 1   │ http://www.ucla.edu │\n"
     ]
    }
   ],
   "source": [
    "# Keep record for maximum in-degree\n",
    "max_in = 0\n",
    "# Keep record for the index of page with maximum in-degree\n",
    "max_in_index = 0\n",
    "# Keep record for maximum out-degree\n",
    "max_out = 0\n",
    "# Keep record for the index of page with maximum out-degree\n",
    "max_out_index = 0\n",
    "for idx = 1:500\n",
    "    out_degree = sum(A[idx, :])\n",
    "    if out_degree > max_out\n",
    "        max_out = out_degree\n",
    "        max_out_index = idx\n",
    "    end\n",
    "    \n",
    "    in_degree = sum(A[:, idx])\n",
    "    if in_degree > max_in\n",
    "        max_in = in_degree\n",
    "        max_in_index = idx\n",
    "    end\n",
    "    \n",
    "end\n",
    "println(\"The page with maximum out degree \", max_out_index)\n",
    "println(U[max_out_index, :])\n",
    "println(\"The page with maximum in degree \", max_in_index)\n",
    "println(U[max_in_index, :])"
   ]
  },
  {
   "cell_type": "code",
   "execution_count": 4,
   "metadata": {
    "collapsed": false
   },
   "outputs": [],
   "source": [
    "using PyPlot"
   ]
  },
  {
   "cell_type": "code",
   "execution_count": 5,
   "metadata": {
    "collapsed": false
   },
   "outputs": [
    {
     "data": {
      "image/png": "[encoded data removed]",
      "text/plain": [
       "PyPlot.Figure(PyObject <Figure size 640x480 with 1 Axes>)"
      ]
     },
     "metadata": {},
     "output_type": "display_data"
    },
    {
     "data": {
      "text/plain": [
       "PyObject <matplotlib.image.AxesImage object at 0x11f51e690>"
      ]
     },
     "execution_count": 5,
     "metadata": {},
     "output_type": "execute_result"
    }
   ],
   "source": [
    "spy(full(A))"
   ]
  },
  {
   "cell_type": "markdown",
   "metadata": {},
   "source": [
    "### Q2(4)\n",
    "\n",
    "Set the _teleportation_ parameter at $p = 0.85$. Try the following methods to solve for $\\mathbf{x}$ using the `ucla.zip` data.\n",
    "\n",
    "0. A dense linear system solver such as LU decomposition.  \n",
    "0. A simple iterative linear system solver such as Jacobi or Gauss-Seidel.   \n",
    "0. A dense eigen-solver.  \n",
    "0. A simple iterative eigen-solver such as the power method.  \n",
    "\n",
    "For iterative methods, you can use the [`IterativeSolvers.jl`](https://github.com/JuliaMath/IterativeSolvers.jl) package. Make sure to utilize the special structure of $\\mathbf{P}$ (diagonal + rank 1) to speed up the matrix-vector multiplication."
   ]
  },
  {
   "cell_type": "code",
   "execution_count": 115,
   "metadata": {
    "collapsed": false
   },
   "outputs": [
    {
     "data": {
      "text/plain": [
       "SparseMatrixCSC{Union{Int64, Missings.Missing},Int64}"
      ]
     },
     "execution_count": 115,
     "metadata": {},
     "output_type": "execute_result"
    }
   ],
   "source": [
    "typeof(sparse(A))"
   ]
  },
  {
   "cell_type": "code",
   "execution_count": 118,
   "metadata": {
    "collapsed": false
   },
   "outputs": [],
   "source": [
    "# Pkg.add(\"IterativeSolvers\")\n",
    "using BenchmarkTools, IterativeSolvers"
   ]
  },
  {
   "cell_type": "code",
   "execution_count": 111,
   "metadata": {
    "collapsed": true
   },
   "outputs": [],
   "source": [
    "# Compute the P for dense linear solver\n",
    "P = zeros(size(A, 1), size(A, 2))\n",
    "tel_const = (1 - 0.85) / 500\n",
    "for idx = 1: 500\n",
    "    # compute all out degrees\n",
    "    sum_out = sum(A[idx, :])\n",
    "    if sum_out != 0\n",
    "        for idy = 1: 500\n",
    "            P[idx, idy] =  A[idx, idy] * 0.85 / sum_out + tel_const\n",
    "        end\n",
    "    else\n",
    "        for idy = 1: 500\n",
    "            P[idx, idy] = 1 / 500\n",
    "        end\n",
    "    end\n",
    "end\n",
    "# P = (sparse(P_sparse) + (1 / 500) * ones(500, 500))' - I\n",
    "P = [P' - I; ones(1, 500)];\n",
    "b = [zeros(500, 1); 1];"
   ]
  },
  {
   "cell_type": "code",
   "execution_count": 104,
   "metadata": {
    "collapsed": false
   },
   "outputs": [
    {
     "data": {
      "text/plain": [
       "500×1 Array{Float64,2}:\n",
       " 0.0115263 \n",
       " 0.00118521\n",
       " 0.00368196\n",
       " 0.00361842\n",
       " 0.00118521\n",
       " 0.00118521\n",
       " 0.00118521\n",
       " 0.00118521\n",
       " 0.00118521\n",
       " 0.00118521\n",
       " 0.00118521\n",
       " 0.00137118\n",
       " 0.00133263\n",
       " ⋮         \n",
       " 0.00136037\n",
       " 0.00136037\n",
       " 0.00129072\n",
       " 0.00337188\n",
       " 0.00215239\n",
       " 0.00136037\n",
       " 0.00136037\n",
       " 0.00750605\n",
       " 0.00136037\n",
       " 0.00136037\n",
       " 0.00136037\n",
       " 0.00107129"
      ]
     },
     "execution_count": 104,
     "metadata": {},
     "output_type": "execute_result"
    }
   ],
   "source": [
    "# Compute LU decomposition to solve linear function\n",
    "P_lu = lufact(P);\n",
    "x = P_lu[:L] \\ (sparse(P_lu[:P]) * b)\n",
    "x = P_lu[:U] \\ x"
   ]
  },
  {
   "cell_type": "code",
   "execution_count": 142,
   "metadata": {
    "collapsed": false
   },
   "outputs": [],
   "source": [
    "# Construct P in terms of a sparse matrix plus a rank 1 matrix\n",
    "P_sparse = zeros(size(A, 1), size(A, 2))\n",
    "for idx = 1: 500\n",
    "    # compute all out degrees\n",
    "    sum_out = sum(A[idx, :])\n",
    "    if sum_out != 0\n",
    "        for idy = 1: 500\n",
    "            P_sparse[idx, idy] =  A[idx, idy] * 0.85 / sum_out - 0.85 / 500\n",
    "        end\n",
    "    end\n",
    "end\n",
    "P_sparse = sparse(P_sparse') + (1 / 500) * ones(500, 500) - I;"
   ]
  },
  {
   "cell_type": "code",
   "execution_count": 144,
   "metadata": {
    "collapsed": false
   },
   "outputs": [
    {
     "data": {
      "text/plain": [
       "500×1 Array{Float64,2}:\n",
       " 0.0115295 \n",
       " 0.00118531\n",
       " 0.00368274\n",
       " 0.00361918\n",
       " 0.0011853 \n",
       " 0.0011853 \n",
       " 0.0011853 \n",
       " 0.0011853 \n",
       " 0.0011853 \n",
       " 0.0011853 \n",
       " 0.0011853 \n",
       " 0.00137131\n",
       " 0.00133274\n",
       " ⋮         \n",
       " 0.00136004\n",
       " 0.00136002\n",
       " 0.00129038\n",
       " 0.0033713 \n",
       " 0.00215196\n",
       " 0.00136002\n",
       " 0.00136002\n",
       " 0.00750451\n",
       " 0.00135992\n",
       " 0.0013599 \n",
       " 0.0013599 \n",
       " 0.00107092"
      ]
     },
     "execution_count": 144,
     "metadata": {},
     "output_type": "execute_result"
    }
   ],
   "source": [
    "# Use Gauss-Seidel solver\n",
    "x_init = rand(500, 1)\n",
    "gauss_seidel!(x_init, P_sparse, b)\n",
    "# Normalize vectors\n",
    "x = x_init / sum(x_init)"
   ]
  },
  {
   "cell_type": "code",
   "execution_count": 145,
   "metadata": {
    "collapsed": false
   },
   "outputs": [
    {
     "data": {
      "text/plain": [
       "1.0"
      ]
     },
     "execution_count": 145,
     "metadata": {},
     "output_type": "execute_result"
    }
   ],
   "source": [
    "sum(x)"
   ]
  },
  {
   "cell_type": "code",
   "execution_count": 133,
   "metadata": {
    "collapsed": false
   },
   "outputs": [
    {
     "data": {
      "text/plain": [
       "0.0"
      ]
     },
     "execution_count": 133,
     "metadata": {},
     "output_type": "execute_result"
    }
   ],
   "source": [
    "r"
   ]
  },
  {
   "cell_type": "code",
   "execution_count": 157,
   "metadata": {
    "collapsed": false
   },
   "outputs": [
    {
     "data": {
      "text/plain": [
       "0.008769447566233898"
      ]
     },
     "execution_count": 157,
     "metadata": {},
     "output_type": "execute_result"
    }
   ],
   "source": [
    "vecnorm(xjacobi - xlu)"
   ]
  },
  {
   "cell_type": "code",
   "execution_count": 198,
   "metadata": {
    "collapsed": false
   },
   "outputs": [],
   "source": [
    "# Compute the initial P: AR^-1\n",
    "P = zeros(size(A, 1), size(A, 2))\n",
    "for idx = 1: 500\n",
    "    # compute all out degrees\n",
    "    sum_out = sum(A[idx, :])\n",
    "    if sum_out != 0\n",
    "        for idy = 1: 500\n",
    "            P[idx, idy] =  A[idx, idy] / sum_out\n",
    "        end\n",
    "    end\n",
    "end\n",
    "P = 0.85 * P + ((1 - 0.85) / 500) * ones(500, 500);"
   ]
  },
  {
   "cell_type": "code",
   "execution_count": 181,
   "metadata": {
    "collapsed": false
   },
   "outputs": [
    {
     "data": {
      "text/plain": [
       "7.332230778389986"
      ]
     },
     "execution_count": 181,
     "metadata": {},
     "output_type": "execute_result"
    }
   ],
   "source": [
    "sum(P[:,1])"
   ]
  },
  {
   "cell_type": "code",
   "execution_count": 199,
   "metadata": {
    "collapsed": false
   },
   "outputs": [
    {
     "data": {
      "text/plain": [
       "500-element Array{Complex{Float64},1}:\n",
       "     0.868175+0.0im        \n",
       "     0.791253+0.0im        \n",
       "         0.85+0.0im        \n",
       "      0.69769+0.0im        \n",
       "     0.651704+0.0im        \n",
       "    -0.282878+0.0im        \n",
       "     0.612784+0.0im        \n",
       "     0.580663+0.0im        \n",
       "     0.570039+0.0im        \n",
       "    -0.242323+0.0im        \n",
       "     0.485625+0.0im        \n",
       "     0.466323+0.0im        \n",
       "    -0.184508+0.0im        \n",
       "             ⋮             \n",
       " -2.60557e-22+2.78598e-21im\n",
       " -2.60557e-22-2.78598e-21im\n",
       "  1.56019e-21+0.0im        \n",
       " -1.20468e-21+9.96322e-22im\n",
       " -1.20468e-21-9.96322e-22im\n",
       "  1.65178e-22+4.40405e-22im\n",
       "  1.65178e-22-4.40405e-22im\n",
       " -3.45305e-23+0.0im        \n",
       "  1.05241e-23+0.0im        \n",
       " -1.90856e-24+0.0im        \n",
       "  -4.1049e-30+0.0im        \n",
       " -3.64697e-13+0.0im        "
      ]
     },
     "execution_count": 199,
     "metadata": {},
     "output_type": "execute_result"
    }
   ],
   "source": [
    "Peig = eigfact(P')\n",
    "Peig[:values]"
   ]
  },
  {
   "cell_type": "markdown",
   "metadata": {},
   "source": [
    "### Q2(5)\n",
    "\n",
    "List the top 20 ranked URLs you found."
   ]
  },
  {
   "cell_type": "markdown",
   "metadata": {},
   "source": [
    "### Q2(6)\n",
    "\n",
    "As of Monday May 11 2018, there are at least 1.83 billion indexed webpages on internet according to <http://www.worldwidewebsize.com/>. Explain whether each of these methods works for the PageRank problem at this scale."
   ]
  }
 ],
 "metadata": {
  "anaconda-cloud": {},
  "kernelspec": {
   "display_name": "Julia 0.6.2",
   "language": "julia",
   "name": "julia-0.6"
  },
  "language_info": {
   "file_extension": ".jl",
   "mimetype": "application/julia",
   "name": "julia",
   "version": "0.6.2"
  },
  "toc": {
   "colors": {
    "hover_highlight": "#DAA520",
    "running_highlight": "#FF0000",
    "selected_highlight": "#FFD700"
   },
   "moveMenuLeft": true,
   "nav_menu": {
    "height": "87px",
    "width": "252px"
   },
   "navigate_menu": true,
   "number_sections": false,
   "sideBar": true,
   "threshold": 4,
   "toc_cell": false,
   "toc_section_display": "block",
   "toc_window_display": true,
   "widenNotebook": false
  }
 },
 "nbformat": 4,
 "nbformat_minor": 2
}
